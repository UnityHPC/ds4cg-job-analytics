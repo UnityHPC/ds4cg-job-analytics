{
 "cells": [
  {
   "cell_type": "markdown",
   "id": "0",
   "metadata": {},
   "source": [
    "# <a id='toc1_'></a>[Efficiency Analysis](#toc0_)\n",
    "This notebook demonstrates the use of `EfficiencyAnalysis` class in `src/analysis/efficiency_analysis.py` for analyzing the efficiency of jobs, users, and PI groups."
   ]
  },
  {
   "cell_type": "markdown",
   "id": "1",
   "metadata": {},
   "source": [
    "**Table of contents**<a id='toc0_'></a>    \n",
    "- [Efficiency Analysis](#toc1_)    \n",
    "  - [Setup](#toc1_1_)    \n",
    "  - [Example: Analyze workload efficiency of GPU users who set no VRAM constraints and used 0 GB of VRAM](#toc1_2_)    \n",
    "    - [Job Efficiency Metrics](#toc1_2_1_)    \n",
    "      - [Find most inefficient jobs with no VRAM constraints based on `vram_hours`](#toc1_2_1_1_)    \n",
    "    - [User Efficiency Metrics](#toc1_2_2_)    \n",
    "      - [Find Inefficient Users based on `expected_value_alloc_vram_efficiency`](#toc1_2_2_1_)    \n",
    "      - [Find Inefficient Users based on `vram_hours`](#toc1_2_2_2_)    \n",
    "    - [PI Group Efficiency Metrics](#toc1_2_3_)    \n",
    "      - [Find Inefficient PIs based on `vram_hours`](#toc1_2_3_1_)    \n",
    "  - [Example: Analyze all jobs with no VRAM constraints](#toc1_3_)    \n",
    "    - [Job Efficiency Metrics](#toc1_3_1_)    \n",
    "      - [Problem with duplicate JobIDs](#toc1_3_1_1_)    \n",
    "      - [Top users with most number of jobs that have no VRAM constraints](#toc1_3_1_2_)    \n",
    "      - [Find inefficient jobs with no VRAM Constraints based on `alloc_vram_efficiency_score`](#toc1_3_1_3_)    \n",
    "\n",
    "<!-- vscode-jupyter-toc-config\n",
    "\tnumbering=false\n",
    "\tanchor=true\n",
    "\tflat=false\n",
    "\tminLevel=1\n",
    "\tmaxLevel=6\n",
    "\t/vscode-jupyter-toc-config -->\n",
    "<!-- THIS CELL WILL BE REPLACED ON TOC UPDATE. DO NOT WRITE YOUR TEXT IN THIS CELL -->"
   ]
  },
  {
   "cell_type": "markdown",
   "id": "2",
   "metadata": {},
   "source": [
    "## <a id='toc1_1_'></a>[Setup](#toc0_)"
   ]
  },
  {
   "cell_type": "code",
   "execution_count": null,
   "id": "3",
   "metadata": {},
   "outputs": [],
   "source": [
    "# Import required modules\n",
    "import sys\n",
    "from pathlib import Path\n",
    "import pandas as pd\n",
    "import matplotlib.pyplot as plt\n",
    "import seaborn as sns"
   ]
  },
  {
   "cell_type": "markdown",
   "id": "4",
   "metadata": {},
   "source": [
    "Jupyter server should be run at the notebook directory, so the output of the following cell would be the project root:"
   ]
  },
  {
   "cell_type": "code",
   "execution_count": null,
   "id": "5",
   "metadata": {},
   "outputs": [],
   "source": [
    "project_root = str(Path.cwd().resolve().parent)\n",
    "print(f\"Project root: {project_root}\")"
   ]
  },
  {
   "cell_type": "code",
   "execution_count": null,
   "id": "6",
   "metadata": {},
   "outputs": [],
   "source": [
    "# Add project root to sys.path for module imports\n",
    "if project_root not in sys.path:\n",
    "    sys.path.insert(0, project_root)\n",
    "\n",
    "from src.analysis import efficiency_analysis as ea\n",
    "from src.visualization import JobsWithMetricsVisualizer, UsersWithMetricsVisualizer\n",
    "\n",
    "# Automatically reload modules before executing code\n",
    "# This is useful for development to see changes without restarting the kernel.\n",
    "%load_ext autoreload\n",
    "# Reload all modules imported with %aimport every time before executing the Python code typed.\n",
    "%autoreload 2"
   ]
  },
  {
   "cell_type": "code",
   "execution_count": null,
   "id": "7",
   "metadata": {},
   "outputs": [],
   "source": [
    "# Load the jobs DataFrame from DuckDB\n",
    "preprocessed_jobs_df = ea.load_preprocessed_jobs_dataframe_from_duckdb(\n",
    "    db_path=\"../data/slurm_data.db\",\n",
    "    table_name=\"Jobs\",\n",
    ")\n",
    "display(preprocessed_jobs_df.head(10))\n",
    "print(preprocessed_jobs_df.shape)"
   ]
  },
  {
   "cell_type": "markdown",
   "id": "8",
   "metadata": {},
   "source": [
    "## <a id='toc1_2_'></a>[Example: Analyze workload efficiency of GPU users who set no VRAM constraints and used 0 GB of VRAM](#toc0_)\n"
   ]
  },
  {
   "cell_type": "code",
   "execution_count": null,
   "id": "9",
   "metadata": {},
   "outputs": [],
   "source": [
    "efficiency_analysis = ea.EfficiencyAnalysis(jobs_df=preprocessed_jobs_df)"
   ]
  },
  {
   "cell_type": "code",
   "execution_count": null,
   "id": "10",
   "metadata": {},
   "outputs": [],
   "source": [
    "filtered_jobs = efficiency_analysis.filter_jobs_for_analysis(\n",
    "    vram_constraint_filter=pd.NA,  # No VRAM constraints\n",
    "    gpu_mem_usage_filter=0,  # Used 0 GB of VRAM\n",
    ")\n",
    "filtered_jobs"
   ]
  },
  {
   "cell_type": "markdown",
   "id": "11",
   "metadata": {},
   "source": [
    "Generate all metrics:"
   ]
  },
  {
   "cell_type": "code",
   "execution_count": null,
   "id": "12",
   "metadata": {},
   "outputs": [],
   "source": [
    "metrics_dict = efficiency_analysis.calculate_all_efficiency_metrics(filtered_jobs)\n",
    "\n",
    "jobs_with_metrics = metrics_dict[\"jobs_with_efficiency_metrics\"]\n",
    "users_with_metrics = metrics_dict[\"users_with_efficiency_metrics\"]\n",
    "pi_accounts_with_metrics = metrics_dict[\"pi_accounts_with_efficiency_metrics\"]"
   ]
  },
  {
   "cell_type": "markdown",
   "id": "13",
   "metadata": {},
   "source": [
    "### <a id='toc1_2_1_'></a>[Job Efficiency Metrics](#toc0_)"
   ]
  },
  {
   "cell_type": "code",
   "execution_count": null,
   "id": "14",
   "metadata": {},
   "outputs": [],
   "source": [
    "# Set option to display all columns\n",
    "pd.set_option(\"display.max_columns\", None)\n",
    "# Display the DataFrame\n",
    "display(jobs_with_metrics.head(10))\n",
    "# To revert to default settings (optional)\n",
    "pd.reset_option(\"display.max_columns\")\n",
    "\n",
    "print(f\"Jobs found: {len(jobs_with_metrics)}\")"
   ]
  },
  {
   "cell_type": "markdown",
   "id": "15",
   "metadata": {},
   "source": [
    "#### <a id='toc1_2_1_1_'></a>[Find most inefficient jobs with no VRAM constraints based on `vram_hours`](#toc0_)"
   ]
  },
  {
   "cell_type": "code",
   "execution_count": null,
   "id": "16",
   "metadata": {},
   "outputs": [],
   "source": [
    "inefficient_jobs_vram_hours = efficiency_analysis.sort_and_filter_records_with_metrics(\n",
    "    metrics_df_name_enum=ea.MetricsDataFrameNameEnum.JOBS,\n",
    "    sorting_key=\"vram_hours\",\n",
    "    ascending=False,  # Sort by vram_hours in descending order\n",
    "    filter_criteria={\n",
    "        \"vram_hours\": {\"min\": 80 * 24, \"inclusive\": True},  # VRAM-hours threshold for identifying inefficient jobs\n",
    "    },\n",
    ")\n",
    "# Display top inefficient users by VRAM-hours\n",
    "print(\"\\nTop inefficient Jobs by VRAM-hours:\")\n",
    "display(inefficient_jobs_vram_hours.head(10))\n",
    "\n",
    "# Plot top inefficient jobs by VRAM-hours, with VRAM-hours as labels\n",
    "jobs_with_metrics_visualizer = JobsWithMetricsVisualizer(inefficient_jobs_vram_hours.head(20))\n",
    "jobs_with_metrics_visualizer.visualize(\n",
    "    column=\"vram_hours\",\n",
    "    bar_label_columns=[\"vram_hours\", \"job_hours\"],\n",
    ")"
   ]
  },
  {
   "cell_type": "markdown",
   "id": "17",
   "metadata": {},
   "source": [
    "### <a id='toc1_2_2_'></a>[User Efficiency Metrics](#toc0_)"
   ]
  },
  {
   "cell_type": "code",
   "execution_count": null,
   "id": "18",
   "metadata": {},
   "outputs": [],
   "source": [
    "users_with_metrics"
   ]
  },
  {
   "cell_type": "markdown",
   "id": "19",
   "metadata": {},
   "source": [
    "#### <a id='toc1_2_2_1_'></a>[Find Inefficient Users based on `expected_value_alloc_vram_efficiency`](#toc0_)"
   ]
  },
  {
   "cell_type": "code",
   "execution_count": null,
   "id": "20",
   "metadata": {},
   "outputs": [],
   "source": [
    "inefficient_users_alloc_vram_eff = efficiency_analysis.sort_and_filter_records_with_metrics(\n",
    "    metrics_df_name_enum=ea.MetricsDataFrameNameEnum.USERS,\n",
    "    sorting_key=\"expected_value_alloc_vram_efficiency\",\n",
    "    ascending=True,  # we want to find users with low efficiency\n",
    "    filter_criteria={\n",
    "        \"expected_value_alloc_vram_efficiency\": {\"max\": 0.3, \"inclusive\": True},\n",
    "        \"job_count\": {\"min\": 5, \"inclusive\": True},  # Minimum number of jobs to consider a user\n",
    "    },\n",
    ")\n",
    "print(\"\\nTop inefficient users by allocated vram efficiency:\")\n",
    "display(inefficient_users_alloc_vram_eff.head(20))\n",
    "\n",
    "# Plot top inefficient users by allocated vram efficiency, with allocated vram efficiency as labels\n",
    "users_with_metrics_visualizer = UsersWithMetricsVisualizer(inefficient_users_alloc_vram_eff.head(20))\n",
    "users_with_metrics_visualizer.visualize(\n",
    "    column=\"expected_value_alloc_vram_efficiency\",\n",
    "    bar_label_columns=[\"expected_value_alloc_vram_efficiency\", \"user_job_hours\"],\n",
    "    figsize=(8, 10),\n",
    ")"
   ]
  },
  {
   "cell_type": "code",
   "execution_count": null,
   "id": "21",
   "metadata": {},
   "outputs": [],
   "source": [
    "inefficient_users = efficiency_analysis.sort_and_filter_records_with_metrics(\n",
    "    metrics_df_name_enum=ea.MetricsDataFrameNameEnum.USERS,\n",
    "    sorting_key=\"expected_value_alloc_vram_efficiency\",\n",
    "    ascending=True,  # we want to find users with low efficiency\n",
    "    filter_criteria={\n",
    "        \"expected_value_alloc_vram_efficiency\": {\"max\": 0.3, \"inclusive\": True},\n",
    "        \"job_count\": {\"min\": 5, \"inclusive\": True},  # Minimum number of jobs to consider a user\n",
    "    },\n",
    ")\n",
    "\n",
    "# Display top inefficient users by job count\n",
    "print(\"\\nTop inefficient users by allocated vram efficiency:\")\n",
    "display(inefficient_users.head(10))\n",
    "\n",
    "\n",
    "# Plot top inefficient users by GPU hours, with efficiency as labels\n",
    "top_users = inefficient_users.head(10)\n",
    "\n",
    "plt.figure(figsize=(8, 5))\n",
    "barplot = sns.barplot(y=top_users[\"User\"], x=top_users[\"user_job_hours\"], orient=\"h\")\n",
    "plt.xlabel(\"Job Hours\")\n",
    "plt.ylabel(\"User\")\n",
    "plt.title(\"Top 10 Inefficient Users by Allocated VRAM Efficiency Contribution\")\n",
    "\n",
    "# Annotate bars with expected_value_alloc_vram_efficiency, keeping text fully inside the plot's right spine\n",
    "ax = barplot\n",
    "xmax = top_users[\"user_job_hours\"].max()\n",
    "# Add headroom for annotation space (20% extra)\n",
    "xlim = xmax * 1.20 if xmax > 0 else 1\n",
    "ax.set_xlim(0, xlim)\n",
    "\n",
    "# Calculate annotation x-position: place at 98% of xlim or just left of the right spine, whichever is smaller\n",
    "for i, (job_hours, efficiency) in enumerate(\n",
    "    zip(\n",
    "        top_users[\"user_job_hours\"],\n",
    "        top_users[\"expected_value_alloc_vram_efficiency\"],\n",
    "        strict=True,\n",
    "    )\n",
    "):\n",
    "    # Place annotation at min(job_hours + 2% of xlim, 98% of xlim)\n",
    "    xpos = min(job_hours + xlim * 0.02, xlim * 0.98)\n",
    "    # If bar is very close to right spine, nudge annotation left to avoid overlap\n",
    "    if xpos > xlim * 0.96:\n",
    "        xpos = xlim * 0.96\n",
    "    ax.text(xpos, i, f\"Eff: {efficiency:.2f}\", va=\"center\", ha=\"left\", fontsize=10, color=\"black\", clip_on=True)\n",
    "\n",
    "plt.tight_layout()\n",
    "plt.show()"
   ]
  },
  {
   "cell_type": "markdown",
   "id": "22",
   "metadata": {},
   "source": [
    "#### <a id='toc1_2_2_2_'></a>[Find Inefficient Users based on `vram_hours`](#toc0_)"
   ]
  },
  {
   "cell_type": "code",
   "execution_count": null,
   "id": "23",
   "metadata": {},
   "outputs": [],
   "source": [
    "inefficient_users_vram_hours = efficiency_analysis.find_inefficient_users_by_vram_hours(\n",
    "    vram_hours_filter={\"min\": 200, \"inclusive\": True},  # VRAM-hours threshold for identifying inefficient users\n",
    "    min_jobs=5,  # Minimum number of jobs to consider a user\n",
    ")\n",
    "# Display top inefficient users by VRAM-hours\n",
    "print(\"\\nTop inefficient users by VRAM-hours:\")\n",
    "display(inefficient_users_vram_hours.head(20))\n",
    "\n",
    "\n",
    "# Plot top inefficient users by VRAM-hours, with VRAM-hours as labels\n",
    "users_with_metrics_visualizer = UsersWithMetricsVisualizer(inefficient_users_vram_hours.head(20))\n",
    "users_with_metrics_visualizer.visualize(\n",
    "    column=\"vram_hours\", bar_label_columns=[\"vram_hours\", \"user_job_hours\"], figsize=(8, 10)\n",
    ")"
   ]
  },
  {
   "cell_type": "markdown",
   "id": "24",
   "metadata": {},
   "source": [
    "### <a id='toc1_2_3_'></a>[PI Group Efficiency Metrics](#toc0_)"
   ]
  },
  {
   "cell_type": "code",
   "execution_count": null,
   "id": "25",
   "metadata": {},
   "outputs": [],
   "source": [
    "pi_accounts_with_metrics"
   ]
  },
  {
   "cell_type": "markdown",
   "id": "26",
   "metadata": {},
   "source": [
    "#### <a id='toc1_2_3_1_'></a>[Find Inefficient PIs based on `vram_hours`](#toc0_)"
   ]
  },
  {
   "cell_type": "code",
   "execution_count": null,
   "id": "27",
   "metadata": {},
   "outputs": [],
   "source": [
    "inefficient_pis_vram_hours = efficiency_analysis.sort_and_filter_records_with_metrics(\n",
    "    metrics_df_name_enum=ea.MetricsDataFrameNameEnum.PI_GROUPS,\n",
    "    sorting_key=\"pi_acc_vram_hours\",\n",
    "    ascending=False,\n",
    "    filter_criteria={\n",
    "        \"pi_acc_vram_hours\": {\"min\": 200, \"inclusive\": True},  # VRAM-hours threshold for identifying inefficient users\n",
    "        \"job_count\": {\"min\": 5, \"inclusive\": True},  # Minimum number of jobs to consider a PI account\n",
    "    },\n",
    ")\n",
    "# Display top inefficient users by VRAM-hours\n",
    "print(\"\\nTop inefficient PI Groups by VRAM-hours:\")\n",
    "display(inefficient_pis_vram_hours.head(20))\n",
    "\n",
    "top_pi_accounts = inefficient_pis_vram_hours.head(20)\n",
    "\n",
    "# Plot top inefficient users by VRAM-hours, with VRAM-hours as labels\n",
    "plt.figure(figsize=(8, 8))\n",
    "barplot = sns.barplot(\n",
    "    y=top_pi_accounts[\"pi_account\"],\n",
    "    x=top_pi_accounts[\"pi_acc_vram_hours\"],\n",
    "    order=top_pi_accounts[\"pi_account\"].tolist(),  # Only show present values\n",
    "    orient=\"h\",\n",
    ")\n",
    "plt.xlabel(\"VRAM-Hours\")\n",
    "plt.ylabel(\"PI Account\")\n",
    "plt.title(\"Top Inefficient PI Accounts by VRAM-Hours\")\n",
    "# Annotate bars with gpu_hours, keeping text fully inside the plot's right spine\n",
    "ax = barplot\n",
    "xmax = top_pi_accounts[\"pi_acc_vram_hours\"].max()\n",
    "# Add headroom for annotation space (20% extra)\n",
    "xlim = xmax * 1.6 if xmax > 0 else 1\n",
    "ax.set_xlim(0, xlim)\n",
    "# Calculate annotation x-position: place at 98% of xlim or just left of the right spine, whichever is smaller\n",
    "for i, (vram_hours, pi_acc_job_hours) in enumerate(\n",
    "    zip(\n",
    "        top_pi_accounts[\"pi_acc_vram_hours\"],\n",
    "        top_pi_accounts[\"pi_acc_job_hours\"],\n",
    "        strict=True,\n",
    "    )\n",
    "):\n",
    "    # Place annotation at min(vram_hours + 2% of xlim, 98% of xlim)\n",
    "    xpos = min(vram_hours + xlim * 0.02, xlim * 0.98)\n",
    "    ax.text(\n",
    "        xpos,\n",
    "        i,\n",
    "        f\"VRAM-Hours: {vram_hours:.2f}\\n Job Hours: {pi_acc_job_hours:.2f}\",\n",
    "        va=\"center\",\n",
    "        ha=\"left\",\n",
    "        fontsize=10,\n",
    "        color=\"black\",\n",
    "        clip_on=True,\n",
    "    )\n",
    "plt.tight_layout()\n",
    "plt.show()"
   ]
  },
  {
   "cell_type": "markdown",
   "id": "28",
   "metadata": {},
   "source": [
    "## <a id='toc1_3_'></a>[Example: Analyze all jobs with no VRAM constraints](#toc0_)"
   ]
  },
  {
   "cell_type": "code",
   "execution_count": null,
   "id": "29",
   "metadata": {},
   "outputs": [],
   "source": [
    "# Filter jobs where no VRAM constraint was set but a GPU was allocated\n",
    "no_vram_constraint_efficiency_analysis = ea.EfficiencyAnalysis(jobs_df=preprocessed_jobs_df)\n",
    "all_no_vram_constraint_jobs = no_vram_constraint_efficiency_analysis.filter_jobs_for_analysis(\n",
    "    vram_constraint_filter={\"min\": 0, \"inclusive\": False},  # No VRAM constraints\n",
    "    gpu_count_filter={\"min\": 1, \"inclusive\": True},  # At least one GPU allocated\n",
    "    gpu_mem_usage_filter={\"min\": 0, \"inclusive\": False},  # Used more than 0 GiB of VRAM\n",
    ")\n",
    "\n",
    "display(all_no_vram_constraint_jobs.head(10))\n",
    "print(all_no_vram_constraint_jobs.shape)"
   ]
  },
  {
   "cell_type": "markdown",
   "id": "30",
   "metadata": {},
   "source": [
    "### <a id='toc1_3_1_'></a>[Job Efficiency Metrics](#toc0_)"
   ]
  },
  {
   "cell_type": "code",
   "execution_count": null,
   "id": "31",
   "metadata": {},
   "outputs": [],
   "source": [
    "no_vram_constraint_jobs_with_metrics = no_vram_constraint_efficiency_analysis.calculate_job_efficiency_metrics(\n",
    "    all_no_vram_constraint_jobs\n",
    ")\n",
    "\n",
    "# Set option to display all columns\n",
    "pd.set_option(\"display.max_columns\", None)\n",
    "# Display the DataFrame\n",
    "display(no_vram_constraint_jobs_with_metrics.head(10))\n",
    "# To revert to default settings (optional)\n",
    "pd.reset_option(\"display.max_columns\")\n",
    "print(f\"Jobs found: {len(no_vram_constraint_jobs_with_metrics)}\")"
   ]
  },
  {
   "cell_type": "markdown",
   "id": "32",
   "metadata": {},
   "source": [
    "#### <a id='toc1_3_1_1_'></a>[Problem with duplicate JobIDs](#toc0_)"
   ]
  },
  {
   "cell_type": "code",
   "execution_count": null,
   "id": "33",
   "metadata": {},
   "outputs": [],
   "source": [
    "# select jobs with specific job id\n",
    "pd.set_option(\"display.max_columns\", None)\n",
    "# Display the DataFrame\n",
    "display(no_vram_constraint_jobs_with_metrics[no_vram_constraint_jobs_with_metrics[\"JobID\"] == 24374463])\n",
    "pd.reset_option(\"display.max_columns\")"
   ]
  },
  {
   "cell_type": "markdown",
   "id": "34",
   "metadata": {},
   "source": [
    "#### <a id='toc1_3_1_2_'></a>[Top users with most number of jobs that have no VRAM constraints](#toc0_)"
   ]
  },
  {
   "cell_type": "code",
   "execution_count": null,
   "id": "35",
   "metadata": {},
   "outputs": [],
   "source": [
    "# Plot top users by number of jobs with no VRAM constraints\n",
    "if not all_no_vram_constraint_jobs.empty:\n",
    "    plt.figure(figsize=(10, 5))\n",
    "    user_counts = all_no_vram_constraint_jobs[\"User\"].value_counts().head(20)\n",
    "    sns.barplot(x=user_counts.values, y=user_counts.index, orient=\"h\")\n",
    "    plt.xlabel(\"Number of Jobs\")\n",
    "    plt.ylabel(\"User\")\n",
    "    plt.title(\"Top 20 Users: Jobs with no VRAM Constraints\")\n",
    "    plt.tight_layout()\n",
    "    plt.show()\n",
    "else:\n",
    "    print(\"No jobs found without VRAM constraints.\")"
   ]
  },
  {
   "cell_type": "markdown",
   "id": "36",
   "metadata": {},
   "source": [
    "#### <a id='toc1_3_1_3_'></a>[Find inefficient jobs with no VRAM Constraints based on `alloc_vram_efficiency_score`](#toc0_)"
   ]
  },
  {
   "cell_type": "code",
   "execution_count": null,
   "id": "37",
   "metadata": {},
   "outputs": [],
   "source": [
    "low_alloc_vram_score_jobs = no_vram_constraint_efficiency_analysis.sort_and_filter_records_with_metrics(\n",
    "    metrics_df_name_enum=ea.MetricsDataFrameNameEnum.JOBS,\n",
    "    sorting_key=\"alloc_vram_efficiency_score\",\n",
    "    ascending=True,  # Sort by alloc_vram_efficiency_score in ascending order\n",
    "    filter_criteria={\n",
    "        \"alloc_vram_efficiency_score\": {\"max\": -10, \"inclusive\": True},  # score threshold\n",
    "    },\n",
    ")\n",
    "# Display top inefficient users by alloc_vram_efficiency_score\n",
    "print(\"\\nTop inefficient Jobs by allocated VRAM efficiency score:\")\n",
    "\n",
    "display(low_alloc_vram_score_jobs.head(20))\n",
    "\n",
    "jobs_with_metrics_visualizer = JobsWithMetricsVisualizer(low_alloc_vram_score_jobs.head(20))\n",
    "jobs_with_metrics_visualizer.visualize(\n",
    "    column=\"alloc_vram_efficiency_score\",\n",
    "    bar_label_columns=[\"alloc_vram_efficiency_score\", \"job_hours\"],\n",
    "    figsize=(10, 12),\n",
    ")"
   ]
  }
 ],
 "metadata": {},
 "nbformat": 4,
 "nbformat_minor": 5
}
