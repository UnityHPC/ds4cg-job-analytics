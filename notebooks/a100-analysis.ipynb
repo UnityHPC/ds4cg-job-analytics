{
 "cells": [
  {
   "cell_type": "code",
   "execution_count": 1,
   "id": "8874f50c",
   "metadata": {},
   "outputs": [],
   "source": [
    "# Import required modules\n",
    "import sys\n",
    "from pathlib import Path\n",
    "import pandas as pd"
   ]
  },
  {
   "cell_type": "code",
   "execution_count": 2,
   "id": "4fa9c92c",
   "metadata": {},
   "outputs": [
    {
     "name": "stdout",
     "output_type": "stream",
     "text": [
      "Project root: C:\\Users\\Nitya Karthik A\\ds4cg-job-analytics\n"
     ]
    }
   ],
   "source": [
    "project_root = str(Path.cwd().resolve().parent)\n",
    "print(f\"Project root: {project_root}\")"
   ]
  },
  {
   "cell_type": "code",
   "execution_count": 3,
   "id": "64d14531",
   "metadata": {},
   "outputs": [],
   "source": [
    "# Add project root to sys.path for module imports\n",
    "if project_root not in sys.path:\n",
    "    sys.path.insert(0, project_root)\n",
    "\n",
    "from src.analysis import vram_usage\n",
    "\n",
    "# Automatically reload modules before executing code\n",
    "# This is useful for development to see changes without restarting the kernel.\n",
    "%load_ext autoreload\n",
    "# Reload all modules imported with %aimport every time before executing the Python code typed.\n",
    "%autoreload 1\n",
    "%aimport src.analysis.vram_usage, src.preprocess.preprocess, src.config.enum_constants"
   ]
  },
  {
   "cell_type": "code",
   "execution_count": null,
   "id": "eb1302a5",
   "metadata": {},
   "outputs": [],
   "source": []
  },
  {
   "cell_type": "code",
   "execution_count": null,
   "id": "9c909c2c",
   "metadata": {},
   "outputs": [],
   "source": []
  }
 ],
 "metadata": {
  "kernelspec": {
   "display_name": "duckdb",
   "language": "python",
   "name": "python3"
  },
  "language_info": {
   "codemirror_mode": {
    "name": "ipython",
    "version": 3
   },
   "file_extension": ".py",
   "mimetype": "text/x-python",
   "name": "python",
   "nbconvert_exporter": "python",
   "pygments_lexer": "ipython3",
   "version": "3.11.13"
  }
 },
 "nbformat": 4,
 "nbformat_minor": 5
}
