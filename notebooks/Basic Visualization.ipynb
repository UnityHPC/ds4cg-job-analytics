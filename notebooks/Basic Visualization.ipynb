{
 "cells": [
  {
   "cell_type": "code",
   "execution_count": null,
   "id": "cd98c9b0-1829-4d87-9b4b-c9df57cdfd92",
   "metadata": {},
   "outputs": [],
   "source": [
    "import duckdb\n",
    "import sys\n",
    "import os\n",
    "from pathlib import Path"
   ]
  },
  {
   "cell_type": "markdown",
   "id": "76ea80a7",
   "metadata": {},
   "source": [
    "Jupyter server should be run at the notebook directory, so the output of the following cell would be the project root:"
   ]
  },
  {
   "cell_type": "code",
   "execution_count": null,
   "id": "1e89443e",
   "metadata": {},
   "outputs": [],
   "source": [
    "project_root = str(Path.cwd().resolve().parent)\n",
    "print(f\"Project root: {project_root}\")"
   ]
  },
  {
   "cell_type": "code",
   "execution_count": null,
   "id": "562cad40",
   "metadata": {},
   "outputs": [],
   "source": [
    "if project_root not in sys.path:\n",
    "    sys.path.insert(0, project_root)"
   ]
  },
  {
   "cell_type": "code",
   "execution_count": null,
   "id": "12f06be5",
   "metadata": {},
   "outputs": [],
   "source": [
    "%load_ext autoreload\n",
    "# Reload all modules imported with %aimport every time before executing the Python code typed.\n",
    "%autoreload 1\n",
    "%aimport src.analysis.visualize_columns"
   ]
  },
  {
   "cell_type": "code",
   "execution_count": null,
   "id": "3f544cd2",
   "metadata": {},
   "outputs": [],
   "source": [
    "import src.analysis.visualize_columns as visualize_columns"
   ]
  },
  {
   "cell_type": "code",
   "execution_count": null,
   "id": "90a874c7-2dd6-4b23-8f44-f7767af31b23",
   "metadata": {},
   "outputs": [],
   "source": [
    "ram_map = {\n",
    "    \"a100\": 80,\n",
    "    \"v100\": 16,\n",
    "    \"a40\": 48,\n",
    "    \"gh200\": 95,\n",
    "    \"rtx_8000\": 48,\n",
    "    \"2080_ti\": 11,\n",
    "    \"1080_ti\": 11,\n",
    "    \"2080\": 8,\n",
    "    \"h100\": 80,\n",
    "    \"l4\": 23,\n",
    "    \"m40\": 23,\n",
    "    \"l40s\": 48,\n",
    "    \"titan_x\": 12,\n",
    "    \"a16\": 16,\n",
    "}\n",
    "\n",
    "vram_cutoffs = [-1, 1e-6, 8, 11, 12, 16, 23, 32, 40, 48, 80]\n",
    "vram_labels = [0] + vram_cutoffs[2:]\n",
    "\n",
    "\n",
    "def get_requested_vram(constraints):\n",
    "    \"\"\"Get the minimum requested VRAM from job constraints.\n",
    "\n",
    "    Args:\n",
    "        constraints (list[str]): List of constraint strings from the job.\n",
    "\n",
    "    Returns:\n",
    "        int: Minimum requested VRAM in GB, or 0 if not specified.\n",
    "    \"\"\"\n",
    "    try:\n",
    "        len(constraints)\n",
    "    except TypeError:\n",
    "        return 0\n",
    "    requested_vrams = []\n",
    "    for constr in constraints:\n",
    "        constr = constr.strip(\"'\")\n",
    "        if constr.startswith(\"vram\"):\n",
    "            requested_vrams.append(int(constr.replace(\"vram\", \"\")))\n",
    "        elif constr.startswith(\"gpu\"):\n",
    "            gpu_type = constr.split(\":\")[1]\n",
    "            requested_vrams.append(ram_map[gpu_type])\n",
    "    if not (requested_vrams):\n",
    "        return 0\n",
    "    return min(requested_vrams)\n",
    "\n",
    "class GPUMetrics:\n",
    "    \"\"\"A class for computing and plotting metrics about GPU jobs.\"\"\"\n",
    "\n",
    "    def __init__(self, metricsfile=\"./modules/admin-resources/reporting/slurm_data.db\", min_elapsed=600) -> None:\n",
    "        \"\"\"Initialize GPUMetrics with job data from a DuckDB database.\n",
    "\n",
    "        Args:\n",
    "            metricsfile (str, optional): Path to the DuckDB database file containing job data.\n",
    "            min_elapsed (int, optional): Minimum elapsed time (in seconds) for jobs to be included.\n",
    "        \"\"\"\n",
    "        self.con = duckdb.connect(metricsfile)\n",
    "        # TODO - handle array jobs properly\n",
    "        df = self.con.query(\n",
    "            \"select GPUs, GPUMemUsage, GPUComputeUsage, GPUType, Elapsed, \"\n",
    "            \"StartTime,\"\n",
    "            \"StartTime-SubmitTime as Queued, TimeLimit, Interactive, \"\n",
    "            \"IsArray, JobID, ArrayID, Status, Constraints, Partition, User, Account from Jobs \"\n",
    "            f\"where GPUs > 0 and Elapsed>{int(min_elapsed)} and GPUType is not null \"\n",
    "            \" and Status != 'CANCELLED' and Status != 'FAILED'\"\n",
    "        ).to_df()\n",
    "        df[\"requested_vram\"] = df[\"Constraints\"].apply(lambda c: get_requested_vram(c))\n",
    "        df[\"allocated_vram\"] = df[\"GPUType\"].apply(lambda x: min(ram_map[t] for t in x))\n",
    "        df[\"user_jobs\"] = df.groupby(\"User\")[\"User\"].transform(\"size\")\n",
    "        df[\"account_jobs\"] = df.groupby(\"Account\")[\"Account\"].transform(\"size\")\n",
    "        self.df = df"
   ]
  },
  {
   "cell_type": "code",
   "execution_count": null,
   "id": "4d297308-f67e-4115-a355-b81d32ef00b5",
   "metadata": {},
   "outputs": [],
   "source": [
    "metrics = GPUMetrics(\"../data/slurm_data_small.db\", 600)"
   ]
  },
  {
   "cell_type": "code",
   "execution_count": null,
   "id": "1229e97c-d996-4c18-a607-2ea10084084e",
   "metadata": {},
   "outputs": [],
   "source": [
    "metrics.df"
   ]
  },
  {
   "cell_type": "code",
   "execution_count": null,
   "id": "93b5192d-f5be-44db-9047-f2547c61fa4e",
   "metadata": {},
   "outputs": [],
   "source": [
    "visualizer = visualize_columns.DataVisualizer(metrics.df)\n"
   ]
  },
  {
   "cell_type": "code",
   "execution_count": null,
   "id": "47d1dde8",
   "metadata": {},
   "outputs": [],
   "source": [
    "visualizer.visualize_columns(random_seed=42)"
   ]
  },
  {
   "cell_type": "code",
   "execution_count": null,
   "id": "bdedb428",
   "metadata": {},
   "outputs": [],
   "source": []
  }
 ],
 "metadata": {
  "kernelspec": {
   "display_name": "duckdb",
   "language": "python",
   "name": "python3"
  },
  "language_info": {
   "codemirror_mode": {
    "name": "ipython",
    "version": 3
   },
   "file_extension": ".py",
   "mimetype": "text/x-python",
   "name": "python",
   "nbconvert_exporter": "python",
   "pygments_lexer": "ipython3",
   "version": "3.11.11"
  }
 },
 "nbformat": 4,
 "nbformat_minor": 5
}
