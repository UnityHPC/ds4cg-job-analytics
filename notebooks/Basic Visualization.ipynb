{
 "cells": [
  {
   "cell_type": "code",
   "execution_count": null,
   "id": "cd98c9b0-1829-4d87-9b4b-c9df57cdfd92",
   "metadata": {},
   "outputs": [],
   "source": [
    "import sys\n",
    "from pathlib import Path"
   ]
  },
  {
   "cell_type": "markdown",
   "id": "76ea80a7",
   "metadata": {},
   "source": [
    "Jupyter server should be run at the notebook directory, so the output of the following cell would be the project root:"
   ]
  },
  {
   "cell_type": "code",
   "execution_count": null,
   "id": "1e89443e",
   "metadata": {},
   "outputs": [],
   "source": [
    "project_root = str(Path.cwd().resolve().parent)\n",
    "print(f\"Project root: {project_root}\")"
   ]
  },
  {
   "cell_type": "code",
   "execution_count": null,
   "id": "562cad40",
   "metadata": {},
   "outputs": [],
   "source": [
    "if project_root not in sys.path:\n",
    "    sys.path.insert(0, project_root)"
   ]
  },
  {
   "cell_type": "code",
   "execution_count": null,
   "id": "12f06be5",
   "metadata": {},
   "outputs": [],
   "source": [
    "%load_ext autoreload\n",
    "# Reload all modules imported with %aimport every time before executing the Python code typed.\n",
    "%autoreload 1\n",
    "%aimport src.analysis.visualize_columns, src.database.database_connection"
   ]
  },
  {
   "cell_type": "code",
   "execution_count": null,
   "id": "3f544cd2",
   "metadata": {},
   "outputs": [],
   "source": [
    "from src.analysis import DataVisualizer\n",
    "from src.preprocess import preprocess_data\n",
    "from src.database import DatabaseConnection"
   ]
  },
  {
   "cell_type": "code",
   "execution_count": null,
   "id": "d828105f",
   "metadata": {},
   "outputs": [],
   "source": [
    "db_connection = DatabaseConnection(\"../data/slurm_data.db\")\n",
    "jobs_df = db_connection.fetch_all_jobs()"
   ]
  },
  {
   "cell_type": "code",
   "execution_count": null,
   "id": "e6a1ee77",
   "metadata": {},
   "outputs": [],
   "source": [
    "clean_jobs_df = preprocess_data(jobs_df, min_elapsed_seconds=600)\n",
    "clean_jobs_df"
   ]
  },
  {
   "cell_type": "code",
   "execution_count": null,
   "id": "93b5192d-f5be-44db-9047-f2547c61fa4e",
   "metadata": {},
   "outputs": [],
   "source": [
    "visualizer = DataVisualizer(clean_jobs_df.sample(10000, random_state=42))"
   ]
  },
  {
   "cell_type": "code",
   "execution_count": null,
   "id": "47d1dde8",
   "metadata": {},
   "outputs": [],
   "source": [
    "visualizer.visualize_columns(columns=[\"Elapsed\", \"TimeLimit\"], output_dir_path=Path(\"../data/visualizations\"))"
   ]
  }
 ],
 "metadata": {},
 "nbformat": 4,
 "nbformat_minor": 5
}
