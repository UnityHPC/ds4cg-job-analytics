{
 "cells": [
  {
   "cell_type": "markdown",
   "id": "76d5056c",
   "metadata": {},
   "source": [
    "# Pair Plots for Unity Job Analytics\n",
    "\n",
    "This notebook demonstrates how to generate useful pairs plots for job analytics using the functions in `src/analysis/pair_plots.py`."
   ]
  },
  {
   "cell_type": "code",
   "execution_count": null,
   "id": "89cde1d2",
   "metadata": {},
   "outputs": [],
   "source": [
    "# Import required libraries and plotting functions\n",
    "from pathlib import Path\n",
    "import sys\n",
    "\n",
    "# Add src/analysis to sys.path for imports (if needed)\n",
    "sys.path.append(str(Path.cwd().parent / \"src\" / \"analysis\"))\n",
    "from pair_plots import get_db_dataframe, plot_selected_pairs\n",
    "\n",
    "# Use Path.cwd() to construct the path to the database\n",
    "db_path = Path.cwd().parent / \"data\" / \"slurm_data_small.db\"\n",
    "jobs_df = get_db_dataframe(db_path=db_path)\n",
    "jobs_df.head()"
   ]
  },
  {
   "cell_type": "code",
   "execution_count": null,
   "id": "927c7989",
   "metadata": {},
   "outputs": [],
   "source": [
    "# Generate and display selected pairs plots for job analytics\n",
    "jobs_df = jobs_df.dropna(\n",
    "\tsubset=[\n",
    "\t\t\"GPUMemUsage\", \"GPUComputeUsage\", \"Elapsed\",\n",
    "\t\t\"CPUMemUsage\", \"CPUComputeUsage\", \"CPUs\", \"GPUs\"\n",
    "\t]\n",
    ")\n",
    "plot_selected_pairs(jobs_df)"
   ]
  }
 ],
 "metadata": {
  "language_info": {
   "name": "python"
  }
 },
 "nbformat": 4,
 "nbformat_minor": 5
}
