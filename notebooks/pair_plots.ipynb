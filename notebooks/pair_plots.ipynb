{
 "cells": [
  {
   "cell_type": "markdown",
   "id": "02b3f7b3",
   "metadata": {},
   "source": [
    "# Pair Plots for Unity Job Analytics\n",
    "\n",
    "This notebook demonstrates how to generate useful pairs plots for job analytics using the functions in `src/analysis/pair_plots.py`."
   ]
  },
  {
   "cell_type": "code",
   "execution_count": null,
   "id": "e765a565",
   "metadata": {},
   "outputs": [],
   "source": [
    "# Import required libraries and plotting functions\n",
    "from pathlib import Path\n",
    "import sys\n",
    "\n",
    "# Add src/analysis to sys.path for imports (if needed)\n",
    "sys.path.append(str(Path.cwd().parent / \"src\" / \"analysis\"))\n",
    "from pair_plots import get_db_dataframe, plot_selected_pairs\n",
    "\n",
    "# Use Path.cwd() to construct the path to the database\n",
    "db_path = Path.cwd().parent / \"data\" / \"slurm_data_small.db\"\n",
    "df = get_db_dataframe(db_path=db_path)\n",
    "df.head()"
   ]
  },
  {
   "cell_type": "code",
   "execution_count": null,
   "id": "04f3adc2",
   "metadata": {},
   "outputs": [],
   "source": [
    "# Generate and display selected pairs plots for job analytics\n",
    "df = df.dropna(subset=[\"GPUMemUsage\", \"GPUComputeUsage\", \"Elapsed\", \"CPUMemUsage\", \"CPUComputeUsage\", \"CPUs\", \"GPUs\"])\n",
    "plot_selected_pairs(df)"
   ]
  }
 ],
 "metadata": {
  "kernelspec": {
   "display_name": "duckdb",
   "language": "python",
   "name": "python3"
  },
  "language_info": {
   "codemirror_mode": {
    "name": "ipython",
    "version": 3
   },
   "file_extension": ".py",
   "mimetype": "text/x-python",
   "name": "python",
   "nbconvert_exporter": "python",
   "pygments_lexer": "ipython3",
   "version": "3.13.5"
  }
 },
 "nbformat": 4,
 "nbformat_minor": 5
}
