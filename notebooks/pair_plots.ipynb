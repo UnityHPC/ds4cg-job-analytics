{
 "cells": [
  {
   "cell_type": "markdown",
   "id": "76d5056c",
   "metadata": {},
   "source": [
    "# Pair Plots for Unity Job Analytics\n",
    "\n",
    "This notebook demonstrates how to generate useful pairs plots for job analytics using the functions in `src/analysis/pair_plots.py`."
   ]
  },
  {
   "cell_type": "code",
   "execution_count": null,
   "id": "89cde1d2",
   "metadata": {},
   "outputs": [],
   "source": [
    "# Import required libraries and PairPlotVisualizer class\n",
    "from pathlib import Path\n",
    "import sys\n",
    "\n",
    "# Add src/analysis to sys.path for imports (if needed)\n",
    "sys.path.append(str(Path.cwd().parent / \"src\" / \"analysis\"))\n",
    "from pair_plots import PairPlotVisualizer\n",
    "\n",
    "# Use PairPlotVisualizer to load and preprocess data\n",
    "db_path = Path.cwd().parent / \"data\" / \"slurm_data_small.db\"\n",
    "jobs_df = PairPlotVisualizer.load_and_preprocess_data(db_path=db_path)\n",
    "jobs_df.head()\n",
    "print(f\"Number of rows in jobs_df: {len(jobs_df)}\")"
   ]
  },
  {
   "cell_type": "code",
   "execution_count": null,
   "id": "927c7989",
   "metadata": {},
   "outputs": [],
   "source": [
    "# Generate and display selected pairs plots for job analytics\n",
    "jobs_df = jobs_df.dropna(\n",
    "\tsubset=[\n",
    "\t\t\"GPUMemUsage\", \"GPUComputeUsage\", \"Elapsed\",\n",
    "\t\t\"CPUMemUsage\", \"CPUComputeUsage\", \"CPUs\", \"GPUs\"\n",
    "\t]\n",
    ")\n",
    "visualizer = PairPlotVisualizer(jobs_df)\n",
    "visualizer.plot_pairs()"
   ]
  },
  {
   "cell_type": "code",
   "execution_count": null,
   "id": "43c15924",
   "metadata": {},
   "outputs": [],
   "source": [
    "# Visualize time-related columns against other columns\n",
    "jobs_df_categorized = jobs_df[jobs_df[\"User\"] == jobs_df[\"User\"].unique()[0]]\n",
    "\n",
    "visualizer2 = PairPlotVisualizer(jobs_df_categorized)\n",
    "\n",
    "\n",
    "visualizer2.plot_time_vs_columns(\n",
    "    time_column=\"StartTime\",\n",
    "    other_columns=[\"GPUMemUsage\", \"GPUComputeUsage\"],\n",
    "    output_dir_path=None\n",
    ")"
   ]
  }
 ],
 "metadata": {
  "language_info": {
   "name": "python"
  }
 },
 "nbformat": 4,
 "nbformat_minor": 5
}
