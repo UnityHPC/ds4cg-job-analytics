{
 "cells": [
  {
   "cell_type": "markdown",
   "id": "0",
   "metadata": {},
   "source": [
    "# <a id='toc1_'></a>[No VRAM Use Analysis](#toc0_)\n",
    "This notebook generates the analysis for jobs run on partitions that their type is GPU but do not use any VRAM. It looks at these jobs, corresponding users, and PI groups."
   ]
  },
  {
   "cell_type": "markdown",
   "id": "1",
   "metadata": {},
   "source": [
    "**Table of contents**<a id='toc0_'></a>    \n",
    "- [No VRAM Use Analysis](#toc1_)    \n",
    "  - [Load the data](#toc1_1_)    \n",
    "  - [Setup](#toc1_2_)    \n",
    "    - [Generate all metrics used for analysis:](#toc1_2_1_)    \n",
    "    - [Job Metrics](#toc1_2_2_)    \n",
    "      - [Find most inefficient jobs with no VRAM constraints based on `vram_hours`](#toc1_2_2_1_)    \n",
    "    - [User Metrics](#toc1_2_3_)    \n",
    "      - [Find Inefficient Users based on `vram_hours`](#toc1_2_3_1_)    \n",
    "    - [PI Group Metrics](#toc1_2_4_)    \n",
    "      - [Find Inefficient PIs based on `vram_hours`](#toc1_2_4_1_)    \n",
    "\n",
    "<!-- vscode-jupyter-toc-config\n",
    "\tnumbering=false\n",
    "\tanchor=true\n",
    "\tflat=false\n",
    "\tminLevel=1\n",
    "\tmaxLevel=6\n",
    "\t/vscode-jupyter-toc-config -->\n",
    "<!-- THIS CELL WILL BE REPLACED ON TOC UPDATE. DO NOT WRITE YOUR TEXT IN THIS CELL -->"
   ]
  },
  {
   "cell_type": "markdown",
   "id": "2",
   "metadata": {},
   "source": [
    "## <a id='toc1_1_'></a>[Load the data](#toc0_)"
   ]
  },
  {
   "cell_type": "code",
   "execution_count": null,
   "id": "3",
   "metadata": {},
   "outputs": [],
   "source": [
    "# Import required modules\n",
    "import sys\n",
    "from pathlib import Path\n",
    "import pandas as pd\n",
    "import matplotlib.pyplot as plt\n",
    "import seaborn as sns"
   ]
  },
  {
   "cell_type": "markdown",
   "id": "4",
   "metadata": {},
   "source": [
    "Jupyter server should be run at the notebook directory, so the output of the following cell would be the project root:"
   ]
  },
  {
   "cell_type": "code",
   "execution_count": null,
   "id": "5",
   "metadata": {},
   "outputs": [],
   "source": [
    "project_root = str(Path.cwd().resolve().parent.parent)\n",
    "print(f\"Project root: {project_root}\")"
   ]
  },
  {
   "cell_type": "code",
   "execution_count": null,
   "id": "6",
   "metadata": {},
   "outputs": [],
   "source": [
    "# Automatically reload modules before executing code (set this up BEFORE imports)\n",
    "%load_ext autoreload\n",
    "%autoreload 2\n",
    "\n",
    "# Add project root to sys.path for module imports\n",
    "if project_root not in sys.path:\n",
    "    sys.path.insert(0, project_root)\n",
    "\n",
    "from src.analysis import efficiency_analysis as ea\n",
    "from src.visualization import JobsWithMetricsVisualizer, UsersWithMetricsVisualizer\n",
    "from src.config.enum_constants import MetricsDataFrameNameEnum"
   ]
  },
  {
   "cell_type": "code",
   "execution_count": null,
   "id": "7",
   "metadata": {},
   "outputs": [],
   "source": [
    "# Load the jobs DataFrame from DuckDB\n",
    "preprocessed_jobs_df = ea.load_preprocessed_jobs_dataframe_from_duckdb(\n",
    "    db_path=Path(project_root) / \"data/slurm_data.db\",\n",
    "    table_name=\"Jobs\",\n",
    ")\n",
    "display(preprocessed_jobs_df.head(10))\n",
    "print(preprocessed_jobs_df.shape)"
   ]
  },
  {
   "cell_type": "markdown",
   "id": "8",
   "metadata": {},
   "source": [
    "## <a id='toc1_2_'></a>[Setup](#toc0_)\n"
   ]
  },
  {
   "cell_type": "code",
   "execution_count": null,
   "id": "9",
   "metadata": {},
   "outputs": [],
   "source": [
    "efficiency_analysis = ea.EfficiencyAnalysis(\n",
    "    jobs_df=preprocessed_jobs_df, metrics_df_name_enum=MetricsDataFrameNameEnum\n",
    ")"
   ]
  },
  {
   "cell_type": "code",
   "execution_count": null,
   "id": "10",
   "metadata": {},
   "outputs": [],
   "source": [
    "filtered_jobs = efficiency_analysis.filter_jobs_for_analysis(\n",
    "    gpu_mem_usage_filter=0,  # Used 0 GB of VRAM\n",
    ")\n",
    "filtered_jobs"
   ]
  },
  {
   "cell_type": "markdown",
   "id": "11",
   "metadata": {},
   "source": [
    "### <a id='toc1_2_1_'></a>[Generate all metrics used for analysis:](#toc0_)"
   ]
  },
  {
   "cell_type": "code",
   "execution_count": null,
   "id": "12",
   "metadata": {},
   "outputs": [],
   "source": [
    "metrics_dict = efficiency_analysis.calculate_all_efficiency_metrics(filtered_jobs)\n",
    "\n",
    "jobs_with_metrics = metrics_dict[\"jobs_with_efficiency_metrics\"]\n",
    "users_with_metrics = metrics_dict[\"users_with_efficiency_metrics\"]\n",
    "pi_accounts_with_metrics = metrics_dict[\"pi_accounts_with_efficiency_metrics\"]"
   ]
  },
  {
   "cell_type": "markdown",
   "id": "13",
   "metadata": {},
   "source": [
    "### <a id='toc1_2_2_'></a>[Job Metrics](#toc0_)"
   ]
  },
  {
   "cell_type": "code",
   "execution_count": null,
   "id": "14",
   "metadata": {},
   "outputs": [],
   "source": [
    "# Set option to display all columns\n",
    "pd.set_option(\"display.max_columns\", None)\n",
    "# Display the DataFrame\n",
    "display(jobs_with_metrics.head(10))\n",
    "# To revert to default settings (optional)\n",
    "pd.reset_option(\"display.max_columns\")\n",
    "\n",
    "print(f\"Jobs found: {len(jobs_with_metrics)}\")"
   ]
  },
  {
   "cell_type": "markdown",
   "id": "15",
   "metadata": {},
   "source": [
    "#### <a id='toc1_2_2_1_'></a>[Find most inefficient jobs with no VRAM constraints based on `vram_hours`](#toc0_)"
   ]
  },
  {
   "cell_type": "code",
   "execution_count": null,
   "id": "16",
   "metadata": {},
   "outputs": [],
   "source": [
    "inefficient_jobs_vram_hours = efficiency_analysis.sort_and_filter_records_with_metrics(\n",
    "    metrics_df_name_enum=MetricsDataFrameNameEnum.JOBS,\n",
    "    sorting_key=\"vram_hours\",\n",
    "    ascending=False,  # Sort by vram_hours in descending order\n",
    "    filter_criteria={\n",
    "        \"vram_hours\": {\"min\": 80 * 24, \"inclusive\": True},  # VRAM-hours threshold for identifying inefficient jobs\n",
    "    },\n",
    ")\n",
    "# Display top inefficient users by VRAM-hours\n",
    "print(\"\\nTop inefficient Jobs by VRAM-hours:\")\n",
    "display(inefficient_jobs_vram_hours.head(10))\n",
    "\n",
    "# Plot top inefficient jobs by VRAM-hours, with VRAM-hours as labels\n",
    "jobs_with_metrics_visualizer = JobsWithMetricsVisualizer(inefficient_jobs_vram_hours.head(10))\n",
    "jobs_with_metrics_visualizer.visualize(\n",
    "    column=\"vram_hours\", bar_label_columns=[\"vram_hours\", \"allocated_vram\"], figsize=(10, 6)\n",
    ")"
   ]
  },
  {
   "cell_type": "markdown",
   "id": "17",
   "metadata": {},
   "source": [
    "### <a id='toc1_2_3_'></a>[User Metrics](#toc0_)"
   ]
  },
  {
   "cell_type": "code",
   "execution_count": null,
   "id": "18",
   "metadata": {},
   "outputs": [],
   "source": [
    "users_with_metrics"
   ]
  },
  {
   "cell_type": "markdown",
   "id": "19",
   "metadata": {},
   "source": [
    "#### <a id='toc1_2_3_1_'></a>[Find Inefficient Users based on `vram_hours`](#toc0_)"
   ]
  },
  {
   "cell_type": "code",
   "execution_count": null,
   "id": "20",
   "metadata": {},
   "outputs": [],
   "source": [
    "inefficient_users_vram_hours = efficiency_analysis.find_inefficient_users_by_vram_hours(\n",
    "    vram_hours_filter={\"min\": 200, \"inclusive\": True},  # VRAM-hours threshold for identifying inefficient users\n",
    "    min_jobs=5,  # Minimum number of jobs to consider a user\n",
    ")\n",
    "# Display top inefficient users by VRAM-hours\n",
    "print(\"\\nTop inefficient users by VRAM-hours:\")\n",
    "display(inefficient_users_vram_hours.head(10))\n",
    "\n",
    "\n",
    "# Plot top inefficient users by VRAM-hours, with VRAM-hours as labels\n",
    "users_with_metrics_visualizer = UsersWithMetricsVisualizer(inefficient_users_vram_hours.head(10))\n",
    "users_with_metrics_visualizer.visualize(\n",
    "    column=\"vram_hours\", bar_label_columns=[\"vram_hours\", \"user_job_hours\"], figsize=(10, 6)\n",
    ")"
   ]
  },
  {
   "cell_type": "code",
   "execution_count": null,
   "id": "21",
   "metadata": {},
   "outputs": [],
   "source": [
    "x_focus = inefficient_users_vram_hours[\"vram_hours\"]\n",
    "\n",
    "# Log-spaced bins inside the focus window to handle several orders of magnitude\n",
    "n_bins = 50\n",
    "# bins = np.logspace(np.log10(x_focus.min()), np.log10(x_focus.max()), n_bins)\n",
    "\n",
    "# Histogram with logarithmic x-axis (focused range only)\n",
    "ax = sns.histplot(x_focus, bins=10**4, color=\"#1f77b4\")\n",
    "ax.set_xscale(\"log\")\n",
    "ax.set_xlabel(\"VRAM-Hours (log scale)\")\n",
    "ax.set_ylabel(\"Count\")\n",
    "ax.set_title(\"VRAM-Hours Distribution\")\n",
    "\n",
    "total_count = x_focus.sum()\n",
    "ax.text(\n",
    "    0.98,\n",
    "    0.95,\n",
    "    f\"Total VRAM_Hours\\n{total_count:,.2f}\",\n",
    "    transform=ax.transAxes,\n",
    "    ha=\"right\",\n",
    "    va=\"top\",\n",
    "    fontsize=10,\n",
    "    bbox=dict(boxstyle=\"round,pad=0.3\", fc=\"white\", ec=\"gray\", alpha=0.9),\n",
    ")\n",
    "\n",
    "plt.tight_layout()\n",
    "plt.show()"
   ]
  },
  {
   "cell_type": "markdown",
   "id": "22",
   "metadata": {},
   "source": [
    "### <a id='toc1_2_4_'></a>[PI Group Metrics](#toc0_)"
   ]
  },
  {
   "cell_type": "code",
   "execution_count": null,
   "id": "23",
   "metadata": {},
   "outputs": [],
   "source": [
    "pi_accounts_with_metrics"
   ]
  },
  {
   "cell_type": "markdown",
   "id": "24",
   "metadata": {},
   "source": [
    "#### <a id='toc1_2_4_1_'></a>[Find Inefficient PIs based on `vram_hours`](#toc0_)"
   ]
  },
  {
   "cell_type": "code",
   "execution_count": null,
   "id": "25",
   "metadata": {},
   "outputs": [],
   "source": [
    "from matplotlib.transforms import blended_transform_factory\n",
    "\n",
    "inefficient_pis_vram_hours = efficiency_analysis.sort_and_filter_records_with_metrics(\n",
    "    metrics_df_name_enum=MetricsDataFrameNameEnum.PI_GROUPS,\n",
    "    sorting_key=\"pi_acc_vram_hours\",\n",
    "    ascending=False,\n",
    "    filter_criteria={\n",
    "        \"pi_acc_vram_hours\": {\"min\": 200, \"inclusive\": True},  # VRAM-hours threshold for identifying inefficient users\n",
    "        \"job_count\": {\"min\": 5, \"inclusive\": True},  # Minimum number of jobs to consider a PI account\n",
    "    },\n",
    ")\n",
    "# Display top inefficient users by VRAM-hours\n",
    "print(\"\\nTop inefficient PI Groups by VRAM-Hours:\")\n",
    "display(inefficient_pis_vram_hours.head(10))\n",
    "\n",
    "top_pi_accounts = inefficient_pis_vram_hours.head(10)\n",
    "\n",
    "pi_accounts = top_pi_accounts[\"pi_account\"].tolist()\n",
    "user_counts = top_pi_accounts.get(\"user_count\", [\"-\"] * len(top_pi_accounts)).tolist()\n",
    "\n",
    "plt.figure(figsize=(10, 6))\n",
    "ax = sns.barplot(\n",
    "    y=top_pi_accounts[\"pi_account\"].tolist(),\n",
    "    x=top_pi_accounts[\"pi_acc_vram_hours\"],\n",
    "    order=pi_accounts,\n",
    "    orient=\"h\",\n",
    "    palette=\"Blues_r\",\n",
    "    hue=top_pi_accounts[\"pi_account\"].tolist(),\n",
    ")\n",
    "\n",
    "# We'll replace the default tick labels with custom two-line labels placed OUTSIDE the left spine.\n",
    "ax.set_yticks(range(len(pi_accounts)))\n",
    "ax.set_yticklabels([])  # clear built-in labels\n",
    "ax.set_ylabel(\"PI Account\")\n",
    "\n",
    "transform = blended_transform_factory(ax.transAxes, ax.transData)  # x in axes fraction, y in data coords\n",
    "x_outside = -0.02  # negative x fraction places text just left of spine; adjust if needed\n",
    "line_gap = 0.4  # vertical separation between the two lines\n",
    "for y_pos, (pi, uc) in enumerate(zip(pi_accounts, user_counts, strict=True)):\n",
    "    # First line (PI account) slightly above center\n",
    "    ax.text(\n",
    "        x_outside,\n",
    "        y_pos - line_gap / 2,\n",
    "        pi,\n",
    "        ha=\"right\",\n",
    "        va=\"center\",\n",
    "        transform=transform,\n",
    "        fontsize=10,\n",
    "        clip_on=False,\n",
    "    )\n",
    "    # Second line (Users) slightly below center\n",
    "    ax.text(\n",
    "        x_outside,\n",
    "        y_pos + line_gap / 2,\n",
    "        f\"# of Users: {uc}\",\n",
    "        ha=\"right\",\n",
    "        va=\"center\",\n",
    "        transform=transform,\n",
    "        fontsize=9,\n",
    "        color=\"dimgray\",\n",
    "        clip_on=False,\n",
    "    )\n",
    "\n",
    "# Y-axis label: place further left than custom tick labels.\n",
    "ax.set_ylabel(\"PI Account / Users\", rotation=90, labelpad=20)\n",
    "# Position the label using axes fraction (x< x_outside)\n",
    "ax.yaxis.set_label_coords(x_outside - 0.30, 0.5)\n",
    "\n",
    "# Hide y-axis tick labels (already blank) but keep small outward ticks if desired\n",
    "ax.tick_params(axis=\"y\", which=\"both\", direction=\"out\", length=4, pad=2)\n",
    "# plt.subplots_adjust(left=0.7)\n",
    "\n",
    "plt.xlabel(\"VRAM-Hours\")\n",
    "plt.title(\"Top Inefficient PI Accounts by VRAM-Hours\")\n",
    "\n",
    "# Annotate bars with VRAM-Hours and Job Hours to the right\n",
    "xmax = top_pi_accounts[\"pi_acc_vram_hours\"].max()\n",
    "xlim = xmax * 1.6 if xmax > 0 else 1\n",
    "ax.set_xlim(0, xlim)\n",
    "for i, (vram_hours, pi_acc_job_hours) in enumerate(\n",
    "    zip(top_pi_accounts[\"pi_acc_vram_hours\"], top_pi_accounts[\"pi_acc_job_hours\"], strict=True)\n",
    "):\n",
    "    xpos = min(vram_hours + xlim * 0.02, xlim * 0.92)\n",
    "    ax.text(\n",
    "        xpos,\n",
    "        i,\n",
    "        f\"VRAM-Hours: {vram_hours:.2f}\\nJob Hours: {pi_acc_job_hours:.2f}\",\n",
    "        va=\"center\",\n",
    "        ha=\"left\",\n",
    "        fontsize=9,\n",
    "        color=\"black\",\n",
    "        clip_on=True,\n",
    "    )\n",
    "\n",
    "plt.tight_layout()\n",
    "plt.show()"
   ]
  }
 ],
 "metadata": {
  "language_info": {
   "name": "python"
  }
 },
 "nbformat": 4,
 "nbformat_minor": 5
}
