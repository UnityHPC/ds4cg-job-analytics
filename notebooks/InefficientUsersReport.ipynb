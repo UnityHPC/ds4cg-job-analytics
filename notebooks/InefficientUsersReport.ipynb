{
 "cells": [
  {
   "cell_type": "markdown",
   "id": "1528c15c",
   "metadata": {},
   "source": [
    "# Inefficient Users Analysis - Requested VRAM Efficiency\n",
    "\n",
    "This notebook analyzes inefficient users based on requested VRAM efficiency. \n",
    "\n",
    "The analysis focuses on identifying users who consistently request more VRAM than they actually use, which can indicate inefficient resource allocation and impact overall cluster utilization."
   ]
  },
  {
   "cell_type": "code",
   "execution_count": null,
   "id": "8560574f",
   "metadata": {},
   "outputs": [],
   "source": [
    "# Import required modules\n",
    "\n",
    "import sys\n",
    "from pathlib import Path\n",
    "import pandas as pd\n",
    "import matplotlib.pyplot as plt\n",
    "import seaborn as sns\n",
    "\n",
    "# Add project root to sys.path for module imports\n",
    "project_root = str(Path.cwd().resolve().parent)\n",
    "if project_root not in sys.path:\n",
    "    sys.path.insert(0, project_root)"
   ]
  },
  {
   "cell_type": "code",
   "execution_count": null,
   "id": "8341f725",
   "metadata": {},
   "outputs": [],
   "source": [
    "%load_ext autoreload\n",
    "# Reload all modules imported with %aimport every time before executing the Python code typed.\n",
    "%autoreload 1\n",
    "%aimport src.visualization.columns, src.database.database_connection, src.visualization.models,\\\n",
    "src.preprocess.preprocess, src.analysis.efficiency_analysis"
   ]
  },
  {
   "cell_type": "code",
   "execution_count": null,
   "id": "ce6c0ce4",
   "metadata": {},
   "outputs": [],
   "source": [
    "from src.analysis import efficiency_analysis as ea\n",
    "from src.utilities.load_and_preprocess_jobs import load_and_preprocess_jobs\n",
    "\n",
    "print(f\"Project root: {project_root}\")\n",
    "\n",
    "# Set display options for better output\n",
    "pd.set_option('display.max_columns', None)\n",
    "pd.set_option('display.width', None)\n",
    "\n",
    "# Configure matplotlib\n",
    "plt.style.use('default')\n",
    "sns.set_palette(\"husl\")"
   ]
  },
  {
   "cell_type": "markdown",
   "id": "29d60b3f",
   "metadata": {},
   "source": [
    "## Load Dataset\n",
    "\n",
    "Load the complete jobs dataset from the database without any filtering to analyze all users and their requested VRAM efficiency."
   ]
  },
  {
   "cell_type": "code",
   "execution_count": null,
   "id": "b423eb34",
   "metadata": {},
   "outputs": [],
   "source": [
    "# Load the full jobs DataFrame from DuckDB\n",
    "preprocessed_jobs_df = load_and_preprocess_jobs(\n",
    "    db_path=\"../20250814_slurm_data.db\",\n",
    "    table_name=\"Jobs\",\n",
    ")\n",
    "\n",
    "print(f\"Loaded {len(preprocessed_jobs_df)} jobs from the database\")\n",
    "\n",
    "# Display basic statistics about the dataset\n",
    "display(preprocessed_jobs_df.head())"
   ]
  },
  {
   "cell_type": "markdown",
   "id": "83da10a1",
   "metadata": {},
   "source": [
    "## Initialize Efficiency Analysis\n",
    "\n",
    "Create an EfficiencyAnalysis instance and calculate all efficiency metrics for the complete dataset."
   ]
  },
  {
   "cell_type": "code",
   "execution_count": null,
   "id": "55ed6ac6",
   "metadata": {},
   "outputs": [],
   "source": [
    "# Initialize EfficiencyAnalysis with the full dataset\n",
    "efficiency_analysis = ea.EfficiencyAnalysis(jobs_df=preprocessed_jobs_df)\n",
    "\n",
    "# Calculate all efficiency metrics using the entire dataset (no filtering)\n",
    "print(\"Calculating efficiency metrics for all jobs...\")\n",
    "metrics_dict = efficiency_analysis.calculate_all_efficiency_metrics(preprocessed_jobs_df)\n",
    "\n",
    "# Extract the calculated metrics\n",
    "jobs_with_metrics = metrics_dict[\"jobs_with_efficiency_metrics\"]\n",
    "users_with_metrics = metrics_dict[\"users_with_efficiency_metrics\"]\n",
    "pi_accounts_with_metrics = metrics_dict[\"pi_accounts_with_efficiency_metrics\"]\n",
    "\n",
    "print(\"Calculated metrics for:\")\n",
    "print(f\"  - {len(jobs_with_metrics)} jobs\")\n",
    "print(f\"  - {len(users_with_metrics)} users\")\n",
    "print(f\"  - {len(pi_accounts_with_metrics)} PI accounts\")"
   ]
  },
  {
   "cell_type": "markdown",
   "id": "2ed47d58",
   "metadata": {},
   "source": [
    "## Inefficient Users by Requested VRAM Efficiency\n",
    "\n",
    "Find users who consistently request more VRAM than they actually use. This analysis helps identify users who may need guidance on optimal resource allocation."
   ]
  },
  {
   "cell_type": "code",
   "execution_count": null,
   "id": "3ec6172c",
   "metadata": {},
   "outputs": [],
   "source": [
    "# Find inefficient users by requested VRAM efficiency\n",
    "# Users with efficiency < 0.3 (using less than 30% of requested VRAM)\n",
    "inefficient_users_requested_vram = efficiency_analysis.find_inefficient_users_by_requested_vram_efficiency(\n",
    "    requested_vram_efficiency_filter={\"min\": 0, \"max\": 0.3, \"inclusive\": False},\n",
    "    min_jobs=10  # Only consider users with at least 10 jobs\n",
    ")\n",
    "\n",
    "print(f\"Found {len(inefficient_users_requested_vram)} inefficient users by requested VRAM efficiency\")\n",
    "print(\"\\nTop 10 most inefficient users by requested VRAM efficiency:\")\n",
    "display(inefficient_users_requested_vram.head(10))"
   ]
  },
  {
   "cell_type": "markdown",
   "id": "849c61c5",
   "metadata": {},
   "source": [
    "## Analysis at Different Efficiency Thresholds\n",
    "\n",
    "Let's analyze users at different efficiency thresholds to understand the distribution of inefficiency."
   ]
  },
  {
   "cell_type": "code",
   "execution_count": null,
   "id": "0b642bc7",
   "metadata": {},
   "outputs": [],
   "source": [
    "# Analyze users at different efficiency thresholds\n",
    "thresholds = [0.1, 0.2, 0.3, 0.4, 0.5, 0.6, 0.7, 0.8]\n",
    "threshold_analysis = []\n",
    "\n",
    "for threshold in thresholds:\n",
    "    inefficient_users = efficiency_analysis.find_inefficient_users_by_requested_vram_efficiency(\n",
    "        requested_vram_efficiency_filter={\"max\": threshold, \"inclusive\": True},\n",
    "        min_jobs=5\n",
    "    )\n",
    "    \n",
    "    total_vram_hours = inefficient_users[\"vram_hours\"].sum() if not inefficient_users.empty else 0\n",
    "    total_job_hours = inefficient_users[\"user_job_hours\"].sum() if not inefficient_users.empty else 0\n",
    "    \n",
    "    threshold_analysis.append({\n",
    "        \"threshold\": threshold,\n",
    "        \"user_count\": len(inefficient_users),\n",
    "        \"total_vram_hours\": total_vram_hours,\n",
    "        \"total_job_hours\": total_job_hours,\n",
    "        \"avg_efficiency\": inefficient_users[\"expected_value_requested_vram_efficiency\"].mean() \n",
    "        if not inefficient_users.empty else 0\n",
    "    })\n",
    "\n",
    "threshold_df = pd.DataFrame(threshold_analysis)\n",
    "print(\"Users below different requested VRAM efficiency thresholds:\")\n",
    "display(threshold_df)"
   ]
  },
  {
   "cell_type": "markdown",
   "id": "d14a6cc4",
   "metadata": {},
   "source": [
    "## Summary\n",
    "\n",
    "Based on the analysis of requested VRAM efficiency across all users, we can identify the worst offenders."
   ]
  },
  {
   "cell_type": "code",
   "execution_count": null,
   "id": "1988b739",
   "metadata": {},
   "outputs": [],
   "source": [
    "# Generate summary statistics\n",
    "total_users = len(users_with_metrics)\n",
    "users_with_data = len(users_with_metrics[users_with_metrics[\"expected_value_requested_vram_efficiency\"].notna()])\n",
    "\n",
    "# Users below 30% efficiency (our main focus)\n",
    "inefficient_pct = len(inefficient_users_requested_vram)\n",
    "pct_inefficient = (inefficient_pct / users_with_data) * 100 if users_with_data > 0 else 0\n",
    "\n",
    "# Total resource impact\n",
    "total_vram_hours_inefficient = inefficient_users_requested_vram[\"vram_hours\"].sum()\n",
    "total_vram_hours_all = users_with_metrics[\"vram_hours\"].sum()\n",
    "pct_vram_hours_wasted = (total_vram_hours_inefficient / total_vram_hours_all) * 100 if total_vram_hours_all > 0 else 0\n",
    "\n",
    "# Top worst performers\n",
    "if not inefficient_users_requested_vram.empty:\n",
    "    worst_user = inefficient_users_requested_vram.iloc[0]\n",
    "    print(\"=== WORST PERFORMER ===\")\n",
    "    print(f\"User: {worst_user['User']}\")\n",
    "    print(f\"Requested VRAM efficiency: {worst_user['expected_value_requested_vram_efficiency']:.3f}\")\n",
    "    print(f\"Job count: {worst_user['job_count']}\")\n",
    "    print(f\"VRAM-hours: {worst_user['vram_hours']:.1f}\")\n",
    "    print(f\"PI Account: {worst_user['pi_account']}\")"
   ]
  },
  {
   "cell_type": "markdown",
   "id": "ffa99d37",
   "metadata": {},
   "source": [
    "### Generate Report for Worst Performing User\n",
    "\n",
    "Let's generate a report for the worst performing user we identified earlier. Can also be done through a separate script:\n",
    "```py\n",
    "python scripts/generate_user_reports.py --db-path .\\20250814_slurm_data.db users --users user1,user2\n",
    "```"
   ]
  },
  {
   "cell_type": "code",
   "execution_count": null,
   "id": "225b1a4d",
   "metadata": {},
   "outputs": [],
   "source": [
    "# Generate report for the worst performing user using the new method\n",
    "if not inefficient_users_requested_vram.empty:\n",
    "    worst_user_id = inefficient_users_requested_vram.iloc[1][\"User\"]  # 2nd user as they have more jobs\n",
    "    \n",
    "    print(f\"Generating report for inefficient user: {worst_user_id}\")\n",
    "    \n",
    "    report_path = efficiency_analysis.generate_user_report(\n",
    "        user_id=worst_user_id,\n",
    "        output_dir=\"../reports/user_reports\",\n",
    "        template_path=\"../reports/ppt_user_report_template.qmd\"\n",
    "    )\n",
    "    \n",
    "    if not report_path:\n",
    "        print(\"\\nFailed to generate report.\")\n",
    "else:\n",
    "    print(\"No inefficient users found to generate report for.\")"
   ]
  },
  {
   "cell_type": "markdown",
   "id": "22deebe3",
   "metadata": {},
   "source": [
    "### Generate Reports for Top 5 Inefficient Users"
   ]
  },
  {
   "cell_type": "code",
   "execution_count": null,
   "id": "ede3ff3f",
   "metadata": {},
   "outputs": [],
   "source": [
    "# Generate reports for top 5 inefficient users using the new method\n",
    "if not inefficient_users_requested_vram.empty:\n",
    "    top_5_users = inefficient_users_requested_vram.head(5)[\"User\"].tolist()\n",
    "    \n",
    "    print(f\"Generating reports for top 5 inefficient users: {top_5_users}\")\n",
    "    \n",
    "    successful_reports = []\n",
    "    failed_reports = []\n",
    "    \n",
    "    for user_id in top_5_users:\n",
    "        print(f\"\\n--- Generating report for {user_id} ---\")\n",
    "        \n",
    "        try:\n",
    "            # Much simpler - just call the method!\n",
    "            report_path = efficiency_analysis.generate_user_report(\n",
    "                user_id=user_id,\n",
    "                output_dir=\"../reports/user_reports\",\n",
    "                template_path=\"../reports/ppt_user_report_template.qmd\"\n",
    "            )\n",
    "            \n",
    "            if report_path:\n",
    "                successful_reports.append((user_id, report_path))\n",
    "                print(f\"✅ Success: {user_id}\")\n",
    "            else:\n",
    "                failed_reports.append(user_id)\n",
    "                print(f\"❌ Failed: {user_id}\")\n",
    "                \n",
    "        except Exception as e:\n",
    "            failed_reports.append(user_id)\n",
    "            print(f\"❌ Exception for {user_id}: {e}\")\n",
    "    \n",
    "    print(f\"Successfully generated: {len(successful_reports)} reports\")\n",
    "    print(f\"Failed: {len(failed_reports)} reports\")\n",
    "\n",
    "            \n",
    "else:\n",
    "    print(\"No inefficient users found to generate reports for.\")"
   ]
  }
 ],
 "metadata": {},
 "nbformat": 4,
 "nbformat_minor": 5
}
