{
 "cells": [
  {
   "cell_type": "markdown",
   "id": "0",
   "metadata": {},
   "source": [
    "# VRAM Efficiency Analysis Demo\n",
    "\n",
    "This notebook demonstrates the use of the `plot_vram_efficiency` method in the `EfficiencyAnalysis` class. The method allows for customizable VRAM efficiency plotting for selected users over a specified date range."
   ]
  },
  {
   "cell_type": "code",
   "execution_count": null,
   "id": "1",
   "metadata": {},
   "outputs": [],
   "source": [
    "# Import required modules\n",
    "import sys\n",
    "from pathlib import Path"
   ]
  },
  {
   "cell_type": "code",
   "execution_count": null,
   "id": "2",
   "metadata": {},
   "outputs": [],
   "source": [
    "project_root = str(Path.cwd().resolve().parent)\n",
    "print(f\"Project root: {project_root}\")\n",
    "\n",
    "# Add project root to sys.path for module imports\n",
    "if project_root not in sys.path:\n",
    "    sys.path.insert(0, project_root)\n",
    "\n",
    "\n",
    "# Automatically reload modules before executing code\n",
    "# This is useful for development to see changes without restarting the kernel.\n",
    "%load_ext autoreload\n",
    "# Reload all modules imported with %aimport every time before executing the Python code typed.\n",
    "%autoreload 1\n",
    "%aimport src.analysis.efficiency_analysis\n",
    "%aimport src.preprocess.preprocess"
   ]
  },
  {
   "cell_type": "code",
   "execution_count": null,
   "id": "3",
   "metadata": {},
   "outputs": [],
   "source": [
    "# Import Required Libraries and Modules\n",
    "from src.analysis.efficiency_analysis import EfficiencyAnalysis\n",
    "from src.preprocess.preprocess import preprocess_data\n",
    "from src.database.database_connection import DatabaseConnection\n",
    "from src.analysis.frequency_analysis import FrequencyAnalysis"
   ]
  },
  {
   "cell_type": "code",
   "execution_count": null,
   "id": "4",
   "metadata": {},
   "outputs": [],
   "source": [
    "# Load and Preprocess GPU Job Data\n",
    "# Connect to the database\n",
    "db = DatabaseConnection(db_url=\"../slurm_data_new.db\")\n",
    "\n",
    "# Query jobs with GPUs\n",
    "gpu_df = db.fetch_query(\"SELECT * FROM Jobs WHERE GPUs > 0\")"
   ]
  },
  {
   "cell_type": "code",
   "execution_count": null,
   "id": "5",
   "metadata": {},
   "outputs": [],
   "source": [
    "# Preprocess the data\n",
    "preprocessed_df = preprocess_data(\n",
    "    gpu_df, min_elapsed_seconds=0, include_failed_cancelled_jobs=False, include_cpu_only_jobs=True\n",
    ")\n",
    "\n",
    "# Initialize the EfficiencyAnalysis class\n",
    "efficiency_analyzer = EfficiencyAnalysis(jobs_df=preprocessed_df)\n",
    "\n",
    "# Initialize the FrequencyAnalyzer with the preprocessed DataFrame\n",
    "frequency_analyzer = FrequencyAnalysis(preprocessed_df)"
   ]
  },
  {
   "cell_type": "code",
   "execution_count": null,
   "id": "79833a219963e894",
   "metadata": {},
   "outputs": [],
   "source": [
    "import numpy as np\n",
    "\n",
    "jobs = efficiency_analyzer.filter_jobs_for_analysis(\n",
    "    gpu_count_filter=1,\n",
    "    vram_constraint_filter=None,\n",
    "    allocated_vram_filter={\"min\": 0, \"max\": np.inf, \"inclusive\": False},  # Filter jobs with allocated VRAM > 0\n",
    "    gpu_mem_usage_filter={\"min\": 0, \"max\": np.inf, \"inclusive\": False},  # Filter jobs with GPU memory usage > 0 GB\n",
    ")\n",
    "\n",
    "# Calculate job efficiency metrics\n",
    "job_metrics = efficiency_analyzer.calculate_job_efficiency_metrics(filtered_jobs=jobs)\n",
    "\n",
    "# Find inefficient users\n",
    "users = efficiency_analyzer.calculate_user_efficiency_metrics()\n",
    "\n",
    "inefficient_users = efficiency_analyzer.find_inefficient_users_by_alloc_vram_efficiency(\n",
    "    alloc_vram_efficiency_filter={\"min\": 0, \"max\": 0.3, \"inclusive\": False}, min_jobs=5\n",
    ")\n",
    "display(inefficient_users)\n",
    "\n",
    "# Filter out users with zero efficiency\n",
    "inefficient_users = inefficient_users[inefficient_users[\"expected_value_alloc_vram_efficiency\"] > 0]\n",
    "\n",
    "# Select the top 5 problematic users\n",
    "top_problematic_users = inefficient_users.head(5)[\"User\"].tolist()\n",
    "\n",
    "users_to_analyze = top_problematic_users[:4]  # Limit to first 4 users for demonstration"
   ]
  },
  {
   "cell_type": "code",
   "execution_count": null,
   "id": "f58d5eb0bce3f5be",
   "metadata": {},
   "outputs": [],
   "source": [
    "# Initialize the TimeSeriesVisualizer with the users\n",
    "from src.visualization.time_series import TimeSeriesVisualizer\n",
    "\n",
    "time_series_visualizer = TimeSeriesVisualizer(users_to_analyze)"
   ]
  },
  {
   "cell_type": "code",
   "execution_count": null,
   "id": "10",
   "metadata": {},
   "outputs": [],
   "source": [
    "# Secondary Y-axis for job counts (dual-metric visualization)\n",
    "print(\"=== Secondary Y-Axis for Job Counts ===\")\n",
    "\n",
    "hours_df = efficiency_analyzer.plot_vram_efficiency(\n",
    "    users=users_to_analyze,\n",
    "    time_unit=\"Months\",\n",
    "    days_back=365,\n",
    "    annotation_style=\"none\",  # No text annotations to keep plot clean\n",
    "    show_secondary_y=True,  # Show job counts on secondary y-axis\n",
    "    remove_zero_values=True,\n",
    ")"
   ]
  },
  {
   "cell_type": "code",
   "execution_count": null,
   "id": "8463b56c",
   "metadata": {},
   "outputs": [],
   "source": [
    "print(\"=== Plotting VRAM Hours ===\")\n",
    "vram_df = efficiency_analyzer.plot_vram_hours(\n",
    "    users=users_to_analyze,\n",
    "    time_unit=\"Months\",\n",
    "    days_back=365,\n",
    "    annotation_style=\"none\",  # No text annotations to keep plot clean\n",
    "    remove_zero_values=True,\n",
    ")\n",
    "vram_df"
   ]
  },
  {
   "cell_type": "code",
   "execution_count": null,
   "id": "12",
   "metadata": {},
   "outputs": [],
   "source": [
    "# Interactive VRAM Hours plot for the same users\n",
    "print(\"=== Interactive VRAM Hours Plot ===\")\n",
    "fig = efficiency_analyzer.plot_vram_hours_interactive(\n",
    "    users=users_to_analyze, time_unit=\"Months\", days_back=365, exclude_fields=[\"Time\"]\n",
    ")"
   ]
  },
  {
   "cell_type": "markdown",
   "id": "33acccad",
   "metadata": {},
   "source": [
    "## Customization Options\n",
    "\n",
    "The efficiency analysis tools provide extensive customization options:\n",
    "\n",
    "1. **Time Units**: Choose between \"Days\", \"Weeks\", \"Months\"\n",
    "2. **Date Range**: Specify exact `start_date` and `end_date` or use `days_back`\n",
    "3. **Annotation Styles**: \"hover\", \"combined\", \"table\", \"none\"\n",
    "4. **Visualization Options**: Show secondary y-axis, filter zero values\n",
    "5. **Data Processing**: Control max points, exclude specific fields from annotations\n",
    "\n",
    "These options help tailor the analysis to specific needs and visualization preferences."
   ]
  },
  {
   "cell_type": "code",
   "execution_count": null,
   "id": "7fb27b941602401d91542211134fc71a",
   "metadata": {},
   "outputs": [],
   "source": [
    "from src.config.enum_constants import TimeUnitEnum\n",
    "\n",
    "\n",
    "# Configuring a specific date range for focused analysis: January to March 2025\n",
    "start_date = \"2025-01-01\"  # Start of January 2025\n",
    "end_date = \"2025-03-31\"  # End of March 2025\n",
    "\n",
    "print(\"=== Comparing Users with Custom Parameters (Jan-March 2025) ===\")\n",
    "\n",
    "print(f\"Date range: {start_date} to {end_date}\")\n",
    "\n",
    "\n",
    "# Plot first group with Weeks timeunit and combined annotations\n",
    "fig = time_series_visualizer.plot_vram_efficiency_interactive(\n",
    "    users=users_to_analyze,\n",
    "    time_unit=TimeUnitEnum.WEEKS.value,\n",
    "    start_date=start_date,\n",
    "    end_date=end_date,\n",
    "    remove_zero_values=True,\n",
    "    exclude_fields=[\"Time\"],\n",
    ")\n",
    "\n",
    "fig = time_series_visualizer.plot_vram_efficiency_interactive(\n",
    "    users=users_to_analyze,\n",
    "    time_unit=\"Days\",\n",
    "    start_date=start_date,\n",
    "    end_date=\"2025-01-15\",\n",
    "    remove_zero_values=True,\n",
    "    exclude_fields=[\"Time\"],\n",
    ")"
   ]
  }
 ],
 "metadata": {},
 "nbformat": 4,
 "nbformat_minor": 5
}
