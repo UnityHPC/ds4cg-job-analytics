{
 "cells": [
  {
   "cell_type": "markdown",
   "id": "c3ca59b2",
   "metadata": {},
   "source": [
    "# VRAM Efficiency Analysis Demo\n",
    "\n",
    "This notebook demonstrates the use of the `plot_vram_efficiency` method in the `EfficiencyAnalysis` class. The method allows for customizable VRAM efficiency plotting for selected users over a specified date range."
   ]
  },
  {
   "cell_type": "code",
   "execution_count": null,
   "id": "17fc1a7f",
   "metadata": {},
   "outputs": [],
   "source": [
    "# Import required modules\n",
    "import sys\n",
    "from pathlib import Path"
   ]
  },
  {
   "cell_type": "code",
   "execution_count": null,
   "id": "d97d3deb",
   "metadata": {},
   "outputs": [],
   "source": [
    "project_root = str(Path.cwd().resolve().parent)\n",
    "print(f\"Project root: {project_root}\")\n",
    "\n",
    "# Add project root to sys.path for module imports\n",
    "if project_root not in sys.path:\n",
    "    sys.path.insert(0, project_root)\n",
    "\n",
    "\n",
    "# Automatically reload modules before executing code\n",
    "# This is useful for development to see changes without restarting the kernel.\n",
    "%load_ext autoreload\n",
    "# Reload all modules imported with %aimport every time before executing the Python code typed.\n",
    "%autoreload 1\n",
    "%aimport src.analysis.vram_usage, src.preprocess.preprocess"
   ]
  },
  {
   "cell_type": "code",
   "execution_count": null,
   "id": "49108dcb",
   "metadata": {},
   "outputs": [],
   "source": [
    "# Import Required Libraries and Modules\n",
    "from src.analysis.vram_usage import EfficiencyAnalysis\n",
    "from src.preprocess.preprocess import preprocess_data\n",
    "from src.database.database_connection import DatabaseConnection"
   ]
  },
  {
   "cell_type": "code",
   "execution_count": null,
   "id": "31114528",
   "metadata": {},
   "outputs": [],
   "source": [
    "# Load and Preprocess GPU Job Data\n",
    "# Connect to the database\n",
    "db = DatabaseConnection(db_url=\"../slurm_data.db\")\n",
    "\n",
    "# Query jobs with GPUs\n",
    "gpu_df = db.connection.query(\"SELECT * FROM Jobs WHERE GPUs > 0\").to_df()\n",
    "\n",
    "# Preprocess the data\n",
    "preprocessed_df = preprocess_data(\n",
    "    gpu_df, min_elapsed_seconds=0, include_failed_cancelled_jobs=False, include_cpu_only_jobs=True\n",
    ")\n",
    "\n",
    "# Initialize the EfficiencyAnalysis class\n",
    "efficiency_analyzer = EfficiencyAnalysis(df=preprocessed_df, table_name=\"Jobs\")"
   ]
  },
  {
   "cell_type": "code",
   "execution_count": null,
   "id": "32cf12fe",
   "metadata": {},
   "outputs": [],
   "source": [
    "import numpy as np\n",
    "\n",
    "jobs = efficiency_analyzer.filter_jobs_for_analysis(\n",
    "    gpu_count_filter=1,\n",
    "    vram_constraint_filter=None,\n",
    "    allocated_vram_filter={\"min\": 0, \"max\": np.inf, \"inclusive\": False},\n",
    "    gpu_mem_usage_filter={\"min\": 0.1, \"max\": np.inf, \"inclusive\": False},\n",
    ")\n",
    "# Find inefficient users\n",
    "users = efficiency_analyzer.calculate_user_efficiency_metrics()\n",
    "\n",
    "inefficient_users = efficiency_analyzer.find_inefficient_users_by_alloc_vram_efficiency(\n",
    "    efficiency_threshold=0.3, min_jobs=5\n",
    ")\n",
    "inefficient_users = inefficient_users[inefficient_users[\"expected_value_alloc_vram_efficiency\"] > 0]\n",
    "\n",
    "# Select the top 5 problematic users\n",
    "top_problematic_users = inefficient_users.head(5)[\"User\"].tolist()\n",
    "\n",
    "# Plot VRAM efficiency for the top problematic users\n",
    "efficiency_analyzer.plot_vram_efficiency(users=[\"msharma8_umassd_edu\"])\n",
    "inefficient_users.head(5)"
   ]
  },
  {
   "cell_type": "code",
   "execution_count": null,
   "id": "7dff032e",
   "metadata": {},
   "outputs": [],
   "source": [
    "import numpy as np\n",
    "\n",
    "jobs = efficiency_analyzer.filter_jobs_for_analysis(\n",
    "    gpu_count_filter=1,\n",
    "    vram_constraint_filter=None,\n",
    "    allocated_vram_filter={\"min\": 0, \"max\": np.inf, \"inclusive\": False},\n",
    "    gpu_mem_usage_filter={\"min\": 0.1, \"max\": np.inf, \"inclusive\": False},\n",
    ")\n",
    "# Find inefficient users\n",
    "users = efficiency_analyzer.calculate_user_efficiency_metrics()\n",
    "\n",
    "inefficient_users = efficiency_analyzer.find_inefficient_users_by_alloc_vram_efficiency(\n",
    "    efficiency_threshold=0.3, min_jobs=5\n",
    ")\n",
    "inefficient_users = inefficient_users[inefficient_users[\"expected_value_alloc_vram_efficiency\"] > 0]\n",
    "\n",
    "# Select the top 5 problematic users\n",
    "top_problematic_users = inefficient_users.head(5)[\"User\"].tolist()\n",
    "\n",
    "# Plot VRAM efficiency for the top problematic users\n",
    "efficiency_analyzer.plot_vram_efficiency(users=top_problematic_users)\n",
    "inefficient_users.head(5)"
   ]
  },
  {
   "cell_type": "markdown",
   "id": "c297f188",
   "metadata": {},
   "source": []
  }
 ],
 "metadata": {
  "language_info": {
   "name": "python"
  }
 },
 "nbformat": 4,
 "nbformat_minor": 5
}
