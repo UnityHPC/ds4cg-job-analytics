{
 "cells": [
  {
   "cell_type": "markdown",
   "id": "0",
   "metadata": {},
   "source": [
    "# VRAM Efficiency Analysis Demo\n",
    "\n",
    "This notebook demonstrates the use of the `plot_vram_efficiency` method in the `EfficiencyAnalysis` class. The method allows for customizable VRAM efficiency plotting for selected users over a specified date range."
   ]
  },
  {
   "cell_type": "code",
   "execution_count": null,
   "id": "1",
   "metadata": {},
   "outputs": [],
   "source": [
    "# Import required modules\n",
    "import sys\n",
    "from pathlib import Path"
   ]
  },
  {
   "cell_type": "code",
   "execution_count": null,
   "id": "2",
   "metadata": {},
   "outputs": [],
   "source": [
    "project_root = str(Path.cwd().resolve().parent)\n",
    "print(f\"Project root: {project_root}\")\n",
    "\n",
    "# Add project root to sys.path for module imports\n",
    "if project_root not in sys.path:\n",
    "    sys.path.insert(0, project_root)\n",
    "\n",
    "\n",
    "# Automatically reload modules before executing code\n",
    "# This is useful for development to see changes without restarting the kernel.\n",
    "%load_ext autoreload\n",
    "# Reload all modules imported with %aimport every time before executing the Python code typed.\n",
    "%autoreload 1\n",
    "%aimport src.analysis.vram_usage, src.preprocess.preprocess"
   ]
  },
  {
   "cell_type": "code",
   "execution_count": null,
   "id": "3",
   "metadata": {},
   "outputs": [],
   "source": [
    "# Import Required Libraries and Modules\n",
    "from src.analysis.vram_usage import EfficiencyAnalysis\n",
    "from src.preprocess.preprocess import preprocess_data\n",
    "from src.database.database_connection import DatabaseConnection"
   ]
  },
  {
   "cell_type": "code",
   "execution_count": null,
   "id": "4",
   "metadata": {},
   "outputs": [],
   "source": [
    "# Load and Preprocess GPU Job Data\n",
    "# Connect to the database\n",
    "db = DatabaseConnection(db_url=\"../slurm_data.db\")\n",
    "\n",
    "# Query jobs with GPUs\n",
    "gpu_df = db.connection.query(\"SELECT * FROM Jobs WHERE GPUs > 0\").to_df()"
   ]
  },
  {
   "cell_type": "code",
   "execution_count": null,
   "id": "5",
   "metadata": {},
   "outputs": [],
   "source": [
    "# Preprocess the data\n",
    "preprocessed_df = preprocess_data(\n",
    "    gpu_df, min_elapsed_seconds=0, include_failed_cancelled_jobs=False, include_cpu_only_jobs=True\n",
    ")\n",
    "\n",
    "# Initialize the EfficiencyAnalysis class\n",
    "efficiency_analyzer = EfficiencyAnalysis(df=preprocessed_df, table_name=\"Jobs\")"
   ]
  },
  {
   "cell_type": "code",
   "execution_count": null,
   "id": "6",
   "metadata": {},
   "outputs": [],
   "source": [
    "import numpy as np\n",
    "\n",
    "jobs = efficiency_analyzer.filter_jobs_for_analysis(\n",
    "    gpu_count_filter=1,\n",
    "    vram_constraint_filter=None,\n",
    "    allocated_vram_filter={\"min\": 0, \"max\": np.inf, \"inclusive\": False},  # Filter jobs with allocated VRAM > 0\n",
    "    gpu_mem_usage_filter={\"min\": 0, \"max\": np.inf, \"inclusive\": False},  # Filter jobs with GPU memory usage > 0 GB\n",
    ")\n",
    "\n",
    "# Calculate job efficiency metrics\n",
    "job_metrics = efficiency_analyzer.calculate_job_efficiency_metrics(filtered_jobs=jobs)\n",
    "\n",
    "# Find inefficient users\n",
    "users = efficiency_analyzer.calculate_user_efficiency_metrics()\n",
    "\n",
    "inefficient_users = efficiency_analyzer.find_inefficient_users_by_alloc_vram_efficiency(\n",
    "    efficiency_threshold=0.3, min_jobs=5\n",
    ")\n",
    "display(inefficient_users)\n",
    "\n",
    "# Filter out users with zero efficiency\n",
    "inefficient_users = inefficient_users[inefficient_users[\"expected_value_alloc_vram_efficiency\"] > 0]\n",
    "\n",
    "# Select the top 5 problematic users\n",
    "top_problematic_users = inefficient_users.head(5)[\"User\"].tolist()\n",
    "\n",
    "inefficient_users.head(5)"
   ]
  },
  {
   "cell_type": "markdown",
   "id": "7",
   "metadata": {},
   "source": [
    "## plot_vram_efficiency\n",
    "\n",
    "### Annotation Styles Available:\n",
    "1. **\"hover\"** - Clean annotations with just GPU hours in small boxes\n",
    "2. **\"combined\"** - Both GPU hours and job counts in compact format  \n",
    "3. **\"table\"** - Clean plot with detailed metrics displayed in a table below\n",
    "4. **\"none\"** - No annotations on the plot\n",
    "5. **Secondary Y-axis** - Job counts plotted on a secondary y-axis"
   ]
  },
  {
   "cell_type": "code",
   "execution_count": null,
   "id": "8",
   "metadata": {},
   "outputs": [],
   "source": [
    "users_to_analyze = top_problematic_users"
   ]
  },
  {
   "cell_type": "code",
   "execution_count": null,
   "id": "9",
   "metadata": {},
   "outputs": [],
   "source": [
    "# Clean plot with detailed metrics table below\n",
    "print(\"=== Table Style ===\")\n",
    "\n",
    "fig = efficiency_analyzer.plot_vram_efficiency(\n",
    "    users=users_to_analyze[:4],\n",
    "    time_unit=\"Months\",\n",
    "    days_back=365,\n",
    "    annotation_style=\"table\",  # This will show a detailed table below the plot\n",
    "    remove_zero_values=True,\n",
    ")"
   ]
  },
  {
   "cell_type": "code",
   "execution_count": null,
   "id": "10",
   "metadata": {},
   "outputs": [],
   "source": [
    "# Secondary Y-axis for job counts (dual-metric visualization)\n",
    "print(\"=== Secondary Y-Axis for Job Counts ===\")\n",
    "\n",
    "fig = efficiency_analyzer.plot_vram_efficiency(\n",
    "    users=users_to_analyze[:4],\n",
    "    time_unit=\"Months\",\n",
    "    days_back=180,\n",
    "    annotation_style=\"none\",  # No text annotations to keep plot clean\n",
    "    show_secondary_y=True,  # Show job counts on secondary y-axis\n",
    "    remove_zero_values=True,\n",
    ")"
   ]
  },
  {
   "cell_type": "code",
   "execution_count": null,
   "id": "11",
   "metadata": {},
   "outputs": [],
   "source": [
    "# Interactive plot with tooltips (requires plotly)\n",
    "print(\"=== Interactive Plot with Tooltips ===\")\n",
    "print(\"This will fall back to table view if plotly is not installed\")\n",
    "\n",
    "fig = efficiency_analyzer.plot_vram_efficiency_interactive(\n",
    "    users=users_to_analyze[:4], time_unit=\"Months\", days_back=365, remove_zero_values=True, exclude_fields=[\"Time\"]\n",
    ")"
   ]
  },
  {
   "cell_type": "code",
   "execution_count": null,
   "id": "12",
   "metadata": {},
   "outputs": [],
   "source": [
    "# Interactive VRAM Hours plot for the same users\n",
    "print(\"=== Interactive VRAM Hours Plot ===\")\n",
    "fig = efficiency_analyzer.plot_vram_hours_interactive(\n",
    "    users=users_to_analyze[:4], time_unit=\"Months\", days_back=365, max_points=12, exclude_fields=[\"Time\"]\n",
    ")"
   ]
  }
 ],
 "metadata": {
  "kernelspec": {
   "display_name": "duckdb",
   "language": "python",
   "name": "python3"
  },
  "language_info": {
   "codemirror_mode": {
    "name": "ipython",
    "version": 3
   },
   "file_extension": ".py",
   "mimetype": "text/x-python",
   "name": "python",
   "nbconvert_exporter": "python",
   "pygments_lexer": "ipython3",
   "version": "3.11.9"
  }
 },
 "nbformat": 4,
 "nbformat_minor": 5
}
