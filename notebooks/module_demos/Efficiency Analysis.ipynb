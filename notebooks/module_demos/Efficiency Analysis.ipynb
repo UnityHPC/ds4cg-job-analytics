{
 "cells": [
  {
   "cell_type": "markdown",
   "id": "0",
   "metadata": {},
   "source": [
    "# <a id='toc1_'></a>[Efficiency Analysis](#toc0_)\n",
    "\n",
    "\n",
    "This notebook demonstrates the use of `EfficiencyAnalysis` class in `src/analysis/efficiency_analysis.py` for analyzing the efficiency of jobs, users, and PI groups."
   ]
  },
  {
   "cell_type": "markdown",
   "id": "1",
   "metadata": {},
   "source": [
    "**Table of contents**<a id='toc0_'></a>    \n",
    "- [Efficiency Analysis](#toc1_)    \n",
    "  - [Setup](#toc1_1_)    \n",
    "  - [Example: Analyze Workload Efficiency Across Jobs that Use some VRAM](#toc1_2_)    \n",
    "    - [Job Efficiency Metrics](#toc1_2_1_)    \n",
    "      - [Find most inefficient jobs with no VRAM constraints based on `alloc_vram_efficiency`](#toc1_2_1_1_)    \n",
    "    - [User Efficiency Metrics](#toc1_2_2_)    \n",
    "      - [Find Inefficient Users based on `expected_value_alloc_vram_efficiency`](#toc1_2_2_1_)    \n",
    "      - [Distribution of `expected_value_requested_vram_efficiency`](#toc1_2_2_2_)    \n",
    "      - [Find Users with Highest `vram_hours`](#toc1_2_2_3_)    \n",
    "    - [PI Group Efficiency Metrics](#toc1_2_3_)    \n",
    "      - [Find PIs with Highest `vram_hours`](#toc1_2_3_1_)    \n",
    "  - [Example: Analyze all jobs with no VRAM constraints](#toc1_3_)    \n",
    "    - [Job Efficiency Metrics](#toc1_3_1_)    \n",
    "    - [Top users with most number of jobs that have no VRAM constraints](#toc1_3_2_)    \n",
    "    - [Find inefficient jobs with no VRAM Constraints based on `alloc_vram_efficiency_score`](#toc1_3_3_)    \n",
    "\n",
    "<!-- vscode-jupyter-toc-config\n",
    "\tnumbering=false\n",
    "\tanchor=true\n",
    "\tflat=false\n",
    "\tminLevel=1\n",
    "\tmaxLevel=6\n",
    "\t/vscode-jupyter-toc-config -->\n",
    "<!-- THIS CELL WILL BE REPLACED ON TOC UPDATE. DO NOT WRITE YOUR TEXT IN THIS CELL -->"
   ]
  },
  {
   "cell_type": "markdown",
   "id": "2",
   "metadata": {},
   "source": [
    "## <a id='toc1_1_'></a>[Setup](#toc0_)"
   ]
  },
  {
   "cell_type": "code",
   "execution_count": null,
   "id": "3",
   "metadata": {},
   "outputs": [],
   "source": [
    "# Import required modules\n",
    "import sys\n",
    "from pathlib import Path\n",
    "import pandas as pd\n",
    "import matplotlib.pyplot as plt\n",
    "import seaborn as sns"
   ]
  },
  {
   "cell_type": "markdown",
   "id": "4",
   "metadata": {},
   "source": [
    "Jupyter server should be run at the notebook directory, so the output of the following cell would be the project root:"
   ]
  },
  {
   "cell_type": "code",
   "execution_count": null,
   "id": "5",
   "metadata": {},
   "outputs": [],
   "source": [
    "project_root = str(Path.cwd().resolve().parent.parent)\n",
    "print(f\"Project root: {project_root}\")"
   ]
  },
  {
   "cell_type": "code",
   "execution_count": null,
   "id": "6",
   "metadata": {},
   "outputs": [],
   "source": [
    "# Automatically reload modules before executing code (set this up BEFORE imports)\n",
    "%load_ext autoreload\n",
    "%autoreload 2\n",
    "\n",
    "# Add project root to sys.path for module imports\n",
    "if project_root not in sys.path:\n",
    "    sys.path.insert(0, project_root)\n",
    "\n",
    "from src.analysis import efficiency_analysis as ea\n",
    "from src.visualization import (\n",
    "    JobsWithMetricsVisualizer,\n",
    "    UsersWithMetricsVisualizer,\n",
    "    PIGroupsWithMetricsVisualizer,\n",
    ")\n",
    "from src.config.enum_constants import MetricsDataFrameNameEnum\n",
    "from src.config.paths import (\n",
    "    DATA_DIR,\n",
    "    JOBS_VISUALIZATION_DATA_DIR,\n",
    "    USERS_VISUALIZATION_DATA_DIR,\n",
    "    PI_GROUPS_VISUALIZATION_DATA_DIR,\n",
    ")"
   ]
  },
  {
   "cell_type": "code",
   "execution_count": null,
   "id": "7",
   "metadata": {},
   "outputs": [],
   "source": [
    "# Load the jobs DataFrame from DuckDB\n",
    "preprocessed_jobs_df = ea.load_preprocessed_jobs_dataframe_from_duckdb(\n",
    "    db_path=Path(DATA_DIR) / \"slurm_data.db\",\n",
    "    table_name=\"Jobs\",\n",
    ")\n",
    "display(preprocessed_jobs_df.head(10))\n",
    "print(preprocessed_jobs_df.shape)"
   ]
  },
  {
   "cell_type": "markdown",
   "id": "8",
   "metadata": {},
   "source": [
    "## <a id='toc1_2_'></a>[Example: Analyze Workload Efficiency Across Jobs that Use some VRAM](#toc0_)\n"
   ]
  },
  {
   "cell_type": "code",
   "execution_count": null,
   "id": "9",
   "metadata": {},
   "outputs": [],
   "source": [
    "efficiency_analysis = ea.EfficiencyAnalysis(\n",
    "    jobs_df=preprocessed_jobs_df, metrics_df_name_enum=MetricsDataFrameNameEnum\n",
    ")"
   ]
  },
  {
   "cell_type": "code",
   "execution_count": null,
   "id": "10",
   "metadata": {},
   "outputs": [],
   "source": [
    "filtered_jobs = efficiency_analysis.filter_jobs_for_analysis(\n",
    "    gpu_mem_usage_filter={\"min\": 0, \"inclusive\": False}, elapsed_seconds_min=600\n",
    ")\n",
    "filtered_jobs"
   ]
  },
  {
   "cell_type": "markdown",
   "id": "11",
   "metadata": {},
   "source": [
    "Generate all metrics:"
   ]
  },
  {
   "cell_type": "code",
   "execution_count": null,
   "id": "12",
   "metadata": {},
   "outputs": [],
   "source": [
    "metrics_dict = efficiency_analysis.calculate_all_efficiency_metrics(filtered_jobs)\n",
    "\n",
    "jobs_with_metrics = metrics_dict[\"jobs_with_efficiency_metrics\"]\n",
    "users_with_metrics = metrics_dict[\"users_with_efficiency_metrics\"]\n",
    "pi_accounts_with_metrics = metrics_dict[\"pi_accounts_with_efficiency_metrics\"]"
   ]
  },
  {
   "cell_type": "markdown",
   "id": "13",
   "metadata": {},
   "source": [
    "### <a id='toc1_2_1_'></a>[Job Efficiency Metrics](#toc0_)"
   ]
  },
  {
   "cell_type": "code",
   "execution_count": null,
   "id": "14",
   "metadata": {},
   "outputs": [],
   "source": [
    "# Set option to display all columns\n",
    "pd.set_option(\"display.max_columns\", None)\n",
    "# Display the DataFrame\n",
    "display(jobs_with_metrics.head(10))\n",
    "# To revert to default settings (optional)\n",
    "pd.reset_option(\"display.max_columns\")\n",
    "\n",
    "print(f\"Jobs found: {len(jobs_with_metrics)}\")"
   ]
  },
  {
   "cell_type": "markdown",
   "id": "15",
   "metadata": {},
   "source": [
    "#### <a id='toc1_2_1_1_'></a>[Find most inefficient jobs with no VRAM constraints based on `alloc_vram_efficiency`](#toc0_)"
   ]
  },
  {
   "cell_type": "code",
   "execution_count": null,
   "id": "16",
   "metadata": {},
   "outputs": [],
   "source": [
    "inefficient_jobs_alloc_vram_eff = efficiency_analysis.sort_and_filter_records_with_metrics(\n",
    "    metrics_df_name_enum=MetricsDataFrameNameEnum.JOBS,\n",
    "    sorting_key=\"alloc_vram_efficiency\",\n",
    "    ascending=True,  # Sort by alloc_vram_efficiency in ascending order\n",
    "    filter_criteria={\n",
    "        # \"alloc_vram_efficiency\": {\"min\": 80 * 24, \"inclusive\": True},\n",
    "    },\n",
    ")\n",
    "# Display top inefficient users by allocated VRAM efficiency\n",
    "print(\"\\nTop inefficient Jobs by Allocated VRAM Efficiency:\")\n",
    "display(inefficient_jobs_alloc_vram_eff.head(10))\n",
    "\n",
    "# Plot top inefficient jobs by allocated VRAM efficiency, with efficiency as labels\n",
    "jobs_with_metrics_visualizer = JobsWithMetricsVisualizer(inefficient_jobs_alloc_vram_eff.head(10))\n",
    "jobs_with_metrics_visualizer.visualize(\n",
    "    output_dir_path=JOBS_VISUALIZATION_DATA_DIR,\n",
    "    column=\"alloc_vram_efficiency\",\n",
    "    bar_label_columns=[\"job_hours\", \"vram_hours\"],\n",
    "    figsize=(10, 6),\n",
    ")"
   ]
  },
  {
   "cell_type": "markdown",
   "id": "17",
   "metadata": {},
   "source": [
    "### <a id='toc1_2_2_'></a>[User Efficiency Metrics](#toc0_)"
   ]
  },
  {
   "cell_type": "code",
   "execution_count": null,
   "id": "18",
   "metadata": {},
   "outputs": [],
   "source": [
    "users_with_metrics"
   ]
  },
  {
   "cell_type": "markdown",
   "id": "19",
   "metadata": {},
   "source": [
    "#### <a id='toc1_2_2_1_'></a>[Find Inefficient Users based on `expected_value_alloc_vram_efficiency`](#toc0_)"
   ]
  },
  {
   "cell_type": "code",
   "execution_count": null,
   "id": "20",
   "metadata": {},
   "outputs": [],
   "source": [
    "inefficient_users_alloc_vram_eff = efficiency_analysis.sort_and_filter_records_with_metrics(\n",
    "    metrics_df_name_enum=MetricsDataFrameNameEnum.USERS,\n",
    "    sorting_key=\"expected_value_alloc_vram_efficiency\",\n",
    "    ascending=True,  # we want to find users with low efficiency\n",
    "    filter_criteria={\n",
    "        \"expected_value_alloc_vram_efficiency\": {\"max\": 0.3, \"inclusive\": True},\n",
    "        \"job_count\": {\"min\": 5, \"inclusive\": True},  # Minimum number of jobs to consider a user\n",
    "    },\n",
    ")\n",
    "print(\"\\nTop inefficient users by allocated vram efficiency:\")\n",
    "display(inefficient_users_alloc_vram_eff.head(20))\n",
    "\n",
    "# Plot top inefficient users by allocated vram efficiency, with allocated vram efficiency as labels\n",
    "users_with_metrics_visualizer = UsersWithMetricsVisualizer(inefficient_users_alloc_vram_eff.head(10))\n",
    "users_with_metrics_visualizer.visualize(\n",
    "    column=\"expected_value_alloc_vram_efficiency\",\n",
    "    bar_label_columns=[\"vram_hours\", \"user_job_hours\"],\n",
    "    figsize=(10, 6),\n",
    ")"
   ]
  },
  {
   "cell_type": "markdown",
   "id": "21",
   "metadata": {},
   "source": [
    "#### <a id='toc1_2_2_2_'></a>[Distribution of `expected_value_requested_vram_efficiency`](#toc0_)"
   ]
  },
  {
   "cell_type": "code",
   "execution_count": null,
   "id": "22",
   "metadata": {},
   "outputs": [],
   "source": [
    "inefficient_users_ev_req_vram_eff = efficiency_analysis.sort_and_filter_records_with_metrics(\n",
    "    metrics_df_name_enum=MetricsDataFrameNameEnum.USERS,\n",
    "    sorting_key=\"expected_value_requested_vram_efficiency\",\n",
    "    ascending=True,  # Sort by expected_value_requested_vram_efficiency in ascending order\n",
    "    filter_criteria={\n",
    "        \"job_count\": {\"min\": 5, \"inclusive\": True},  # minimum job count threshold\n",
    "    },\n",
    ")\n",
    "users_with_metrics_ev_visualizer = UsersWithMetricsVisualizer(inefficient_users_ev_req_vram_eff)\n",
    "users_with_metrics_ev_visualizer.visualize_metric_distribution(\n",
    "    output_dir_path=USERS_VISUALIZATION_DATA_DIR, column=\"expected_value_requested_vram_efficiency\", figsize=(8, 5)\n",
    ")"
   ]
  },
  {
   "cell_type": "markdown",
   "id": "23",
   "metadata": {},
   "source": [
    "#### <a id='toc1_2_2_3_'></a>[Find Users with Highest `vram_hours`](#toc0_)"
   ]
  },
  {
   "cell_type": "code",
   "execution_count": null,
   "id": "24",
   "metadata": {},
   "outputs": [],
   "source": [
    "users_with_highest_vram_hours = efficiency_analysis.sort_and_filter_records_with_metrics(\n",
    "    metrics_df_name_enum=MetricsDataFrameNameEnum.USERS,\n",
    "    sorting_key=\"vram_hours\",\n",
    "    ascending=False,  # Sort by vram_hours in descending order\n",
    ")\n",
    "# Display top users by VRAM-hours\n",
    "print(\"\\nTop users by VRAM-hours:\")\n",
    "display(users_with_highest_vram_hours.head(20))\n",
    "\n",
    "\n",
    "# Plot top users by VRAM-hours, with VRAM-hours as labels\n",
    "users_with_metrics_visualizer = UsersWithMetricsVisualizer(users_with_highest_vram_hours.head(10))\n",
    "users_with_metrics_visualizer.visualize(\n",
    "    column=\"vram_hours\", bar_label_columns=[\"vram_hours\", \"user_job_hours\"], figsize=(10, 6)\n",
    ")"
   ]
  },
  {
   "cell_type": "markdown",
   "id": "25",
   "metadata": {},
   "source": [
    "### <a id='toc1_2_3_'></a>[PI Group Efficiency Metrics](#toc0_)"
   ]
  },
  {
   "cell_type": "code",
   "execution_count": null,
   "id": "26",
   "metadata": {},
   "outputs": [],
   "source": [
    "pi_accounts_with_metrics"
   ]
  },
  {
   "cell_type": "markdown",
   "id": "27",
   "metadata": {},
   "source": [
    "#### <a id='toc1_2_3_1_'></a>[Find PIs with Highest `vram_hours`](#toc0_)"
   ]
  },
  {
   "cell_type": "code",
   "execution_count": null,
   "id": "28",
   "metadata": {},
   "outputs": [],
   "source": [
    "top_pi_groups_by_vram_hours = efficiency_analysis.sort_and_filter_records_with_metrics(\n",
    "    metrics_df_name_enum=MetricsDataFrameNameEnum.PI_GROUPS,\n",
    "    sorting_key=\"pi_acc_vram_hours\",\n",
    "    ascending=False,\n",
    "    filter_criteria={\n",
    "        \"pi_acc_vram_hours\": {\"min\": 200, \"inclusive\": True},  # VRAM-hours threshold for identifying inefficient users\n",
    "        \"job_count\": {\"min\": 5, \"inclusive\": True},  # Minimum number of jobs to consider a PI account\n",
    "    },\n",
    ")\n",
    "# Display top inefficient users by VRAM-hours\n",
    "print(\"\\nTop inefficient PI Groups by VRAM-hours:\")\n",
    "display(top_pi_groups_by_vram_hours.head(20))\n",
    "\n",
    "pi_group_visualizer = PIGroupsWithMetricsVisualizer(top_pi_groups_by_vram_hours.head(10))\n",
    "pi_group_visualizer.visualize(\n",
    "    output_dir_path=PI_GROUPS_VISUALIZATION_DATA_DIR,\n",
    "    column=\"pi_acc_vram_hours\",\n",
    "    bar_label_columns=[\"pi_acc_vram_hours\", \"pi_acc_job_hours\"],\n",
    "    figsize=(10, 6),\n",
    ")"
   ]
  },
  {
   "cell_type": "markdown",
   "id": "29",
   "metadata": {},
   "source": [
    "## <a id='toc1_3_'></a>[Example: Analyze all jobs with no VRAM constraints](#toc0_)"
   ]
  },
  {
   "cell_type": "code",
   "execution_count": null,
   "id": "30",
   "metadata": {},
   "outputs": [],
   "source": [
    "# Filter jobs where no VRAM constraint was set but a GPU was allocated\n",
    "no_vram_constraint_efficiency_analysis = ea.EfficiencyAnalysis(\n",
    "    jobs_df=preprocessed_jobs_df, metrics_df_name_enum=MetricsDataFrameNameEnum\n",
    ")\n",
    "all_no_vram_constraint_jobs = no_vram_constraint_efficiency_analysis.filter_jobs_for_analysis(\n",
    "    vram_constraint_filter={\"min\": 0, \"inclusive\": False},  # No VRAM constraints\n",
    "    gpu_count_filter={\"min\": 1, \"inclusive\": True},  # At least one GPU allocated\n",
    "    gpu_mem_usage_filter={\"min\": 0, \"inclusive\": False},  # Used more than 0 GiB of VRAM\n",
    ")\n",
    "\n",
    "display(all_no_vram_constraint_jobs.head(10))\n",
    "print(all_no_vram_constraint_jobs.shape)"
   ]
  },
  {
   "cell_type": "markdown",
   "id": "31",
   "metadata": {},
   "source": [
    "### <a id='toc1_3_1_'></a>[Job Efficiency Metrics](#toc0_)"
   ]
  },
  {
   "cell_type": "code",
   "execution_count": null,
   "id": "32",
   "metadata": {},
   "outputs": [],
   "source": [
    "no_vram_constraint_jobs_with_metrics = no_vram_constraint_efficiency_analysis.calculate_job_efficiency_metrics(\n",
    "    all_no_vram_constraint_jobs\n",
    ")\n",
    "\n",
    "# Set option to display all columns\n",
    "pd.set_option(\"display.max_columns\", None)\n",
    "# Display the DataFrame\n",
    "display(no_vram_constraint_jobs_with_metrics.head(10))\n",
    "# To revert to default settings (optional)\n",
    "pd.reset_option(\"display.max_columns\")\n",
    "print(f\"Jobs found: {len(no_vram_constraint_jobs_with_metrics)}\")"
   ]
  },
  {
   "cell_type": "markdown",
   "id": "33",
   "metadata": {},
   "source": [
    "### <a id='toc1_3_2_'></a>[Top users with most number of jobs that have no VRAM constraints](#toc0_)"
   ]
  },
  {
   "cell_type": "code",
   "execution_count": null,
   "id": "34",
   "metadata": {},
   "outputs": [],
   "source": [
    "# Plot top users by number of jobs with no VRAM constraints\n",
    "if not all_no_vram_constraint_jobs.empty:\n",
    "    plt.figure(figsize=(10, 5))\n",
    "    user_counts = all_no_vram_constraint_jobs[\"User\"].value_counts().head(20)\n",
    "    sns.barplot(x=user_counts.values, y=user_counts.index, orient=\"h\")\n",
    "    plt.xlabel(\"Number of Jobs\")\n",
    "    plt.ylabel(\"User\")\n",
    "    plt.title(\"Top 20 Users with the Most Jobs with no VRAM Constraints\")\n",
    "    plt.tight_layout()\n",
    "    plt.show()\n",
    "else:\n",
    "    print(\"No jobs found without VRAM constraints.\")"
   ]
  },
  {
   "cell_type": "markdown",
   "id": "35",
   "metadata": {},
   "source": [
    "### <a id='toc1_3_3_'></a>[Find inefficient jobs with no VRAM Constraints based on `alloc_vram_efficiency_score`](#toc0_)"
   ]
  },
  {
   "cell_type": "code",
   "execution_count": null,
   "id": "36",
   "metadata": {},
   "outputs": [],
   "source": [
    "low_alloc_vram_score_jobs = no_vram_constraint_efficiency_analysis.sort_and_filter_records_with_metrics(\n",
    "    metrics_df_name_enum=MetricsDataFrameNameEnum.JOBS,\n",
    "    sorting_key=\"alloc_vram_efficiency_score\",\n",
    "    ascending=True,  # Sort by alloc_vram_efficiency_score in ascending order\n",
    "    filter_criteria={\n",
    "        \"alloc_vram_efficiency_score\": {\"max\": -10, \"inclusive\": True},  # score threshold\n",
    "    },\n",
    ")\n",
    "# Display top inefficient users by alloc_vram_efficiency_score\n",
    "print(\"\\nTop inefficient Jobs by allocated VRAM efficiency score:\")\n",
    "\n",
    "display(low_alloc_vram_score_jobs.head(5))\n",
    "\n",
    "jobs_with_metrics_visualizer = JobsWithMetricsVisualizer(low_alloc_vram_score_jobs.head(10))\n",
    "jobs_with_metrics_visualizer.visualize(\n",
    "    column=\"alloc_vram_efficiency_score\",\n",
    "    bar_label_columns=[\"alloc_vram_efficiency_score\", \"job_hours\"],\n",
    "    figsize=(10, 6),\n",
    ")"
   ]
  }
 ],
 "metadata": {
  "language_info": {
   "name": "python"
  }
 },
 "nbformat": 4,
 "nbformat_minor": 5
}
