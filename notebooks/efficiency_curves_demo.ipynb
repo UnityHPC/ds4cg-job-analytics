{
 "cells": [
  {
   "cell_type": "markdown",
   "id": "77444c5b",
   "metadata": {},
   "source": [
    "## Test Efficiency curves"
   ]
  },
  {
   "cell_type": "code",
   "execution_count": null,
   "id": "a0f6e6fb",
   "metadata": {},
   "outputs": [],
   "source": [
    "# Import required modules\n",
    "import sys\n",
    "from pathlib import Path\n",
    "\n",
    "# Add src to sys.path for module imports\n",
    "sys.path.append(str(Path.cwd().parent / \"src\"))"
   ]
  },
  {
   "cell_type": "code",
   "execution_count": null,
   "id": "9537ecb7",
   "metadata": {},
   "outputs": [],
   "source": [
    "project_root = str(Path.cwd().resolve().parent)\n",
    "print(f\"Project root: {project_root}\")"
   ]
  },
  {
   "cell_type": "code",
   "execution_count": null,
   "id": "44661129",
   "metadata": {},
   "outputs": [],
   "source": [
    "# Add project root to sys.path for module imports\n",
    "if project_root not in sys.path:\n",
    "    sys.path.insert(0, project_root)\n",
    "\n",
    "from src.analysis.vram_usage import EfficiencyAnalysis\n",
    "\n",
    "# Automatically reload modules before executing code\n",
    "# This is useful for development to see changes without restarting the kernel.\n",
    "%load_ext autoreload\n",
    "# Reload all modules imported with %aimport every time before executing the Python code typed.\n",
    "%autoreload 1\n",
    "%aimport src.analysis.vram_usage"
   ]
  },
  {
   "cell_type": "code",
   "execution_count": null,
   "id": "ed56bcde",
   "metadata": {},
   "outputs": [],
   "source": [
    "%reload_ext autoreload"
   ]
  },
  {
   "cell_type": "code",
   "execution_count": null,
   "id": "8998e4f4",
   "metadata": {},
   "outputs": [],
   "source": [
    "# Import required libraries\n",
    "import numpy as np\n",
    "from src.analysis.efficiency_curves import plot_efficiency_curves"
   ]
  },
  {
   "cell_type": "code",
   "execution_count": null,
   "id": "0fa555ef",
   "metadata": {},
   "outputs": [],
   "source": [
    "# load data from db and preprocess it\n",
    "from src.database.database_connection import DatabaseConnection\n",
    "\n",
    "db = DatabaseConnection(db_url=\"../slurm_data.db\")\n",
    "gpu_df = db.connection.query(\"SELECT * FROM Jobs WHERE GPUs > 0\").to_df()"
   ]
  },
  {
   "cell_type": "code",
   "execution_count": null,
   "id": "d63a088e",
   "metadata": {},
   "outputs": [],
   "source": [
    "from src.preprocess import preprocess_data\n",
    "\n",
    "# Preprocess the data\n",
    "gpu_df = preprocess_data(gpu_df)"
   ]
  },
  {
   "cell_type": "code",
   "execution_count": null,
   "id": "7a73baf1",
   "metadata": {},
   "outputs": [],
   "source": [
    "analyze = EfficiencyAnalysis(df=gpu_df)\n",
    "\n",
    "jobs_df = analyze.calculate_job_efficiency_metrics(gpu_df)"
   ]
  },
  {
   "cell_type": "code",
   "execution_count": null,
   "id": "c41771fa",
   "metadata": {},
   "outputs": [],
   "source": [
    "# Define thresholds for efficiency\n",
    "thresholds = np.arange(0, 101, 10)"
   ]
  },
  {
   "cell_type": "code",
   "execution_count": null,
   "id": "6206d7e6",
   "metadata": {},
   "outputs": [],
   "source": [
    "print(jobs_df.columns)"
   ]
  },
  {
   "cell_type": "code",
   "execution_count": null,
   "id": "d25d06b6",
   "metadata": {},
   "outputs": [],
   "source": [
    "# Plot efficiency curves for the entire dataset\n",
    "fig, axes = plot_efficiency_curves(\n",
    "    data=jobs_df,\n",
    "    efficiency_column=\"alloc_vram_efficiency\",\n",
    "    gpu_hours_column=\"gpu_hours\",\n",
    "    thresholds=thresholds,\n",
    "    title=\"Efficiency Curves for All Groups\",\n",
    ")"
   ]
  },
  {
   "cell_type": "code",
   "execution_count": null,
   "id": "604ea99b",
   "metadata": {},
   "outputs": [],
   "source": [
    "# Plot efficiency curves grouped by the 'group' column\n",
    "fig, axes = plot_efficiency_curves(\n",
    "    data=jobs_df,\n",
    "    efficiency_column=\"alloc_vram_efficiency\",\n",
    "    gpu_hours_column=\"gpu_hours\",\n",
    "    thresholds=thresholds,\n",
    "    title=\"Efficiency Curves by Group\",\n",
    ")"
   ]
  }
 ],
 "metadata": {
  "language_info": {
   "name": "python"
  }
 },
 "nbformat": 4,
 "nbformat_minor": 5
}
