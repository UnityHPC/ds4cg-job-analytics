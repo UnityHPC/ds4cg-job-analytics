{
 "cells": [
  {
   "cell_type": "markdown",
   "id": "83295ddd",
   "metadata": {},
   "source": [
    "## ROC Plot ##"
   ]
  },
  {
   "cell_type": "code",
   "execution_count": null,
   "id": "15e2eac5",
   "metadata": {},
   "outputs": [],
   "source": [
    "# Import required modules\n",
    "import sys\n",
    "from pathlib import Path"
   ]
  },
  {
   "cell_type": "code",
   "execution_count": null,
   "id": "024d5aa4",
   "metadata": {},
   "outputs": [],
   "source": [
    "# import project root into modules\n",
    "project_root = str(Path.cwd().resolve().parent)\n",
    "if project_root not in sys.path:\n",
    "    sys.path.append(project_root)"
   ]
  },
  {
   "cell_type": "code",
   "execution_count": null,
   "id": "005e9a55",
   "metadata": {},
   "outputs": [],
   "source": [
    "from src.analysis import roc_plot\n",
    "from src.analysis.efficiency_analysis import load_preprocessed_jobs_dataframe_from_duckdb\n",
    "from src.config import enum_constants\n",
    "\n",
    "# Automatically reload modules before executing code\n",
    "%load_ext autoreload\n",
    "# Reload all modules imported with %aimport every time before executing the Python code typed.\n",
    "%autoreload 1\n",
    "%aimport src.analysis.roc_plot, src.config.enum_constants, src.analysis.efficiency_analysis"
   ]
  },
  {
   "cell_type": "code",
   "execution_count": null,
   "id": "912d1e58",
   "metadata": {},
   "outputs": [],
   "source": [
    "# load jobs df\n",
    "loaded_df = load_preprocessed_jobs_dataframe_from_duckdb(db_path=\"../data/slurm_data.db\")"
   ]
  },
  {
   "cell_type": "code",
   "execution_count": null,
   "id": "d136fed5",
   "metadata": {},
   "outputs": [],
   "source": [
    "# initilize the ROCVisualizer instance\n",
    "roc_instance = roc_plot.ROCVisualizer(jobs_df=loaded_df)\n",
    "\n",
    "# clip vram_constraint_efficiency to 1\n",
    "\n",
    "# filter out CPU-only job\n",
    "filtered_df = roc_instance.filter_jobs_for_analysis(\n",
    "    gpu_count_filter={\"min\": 0, \"max\": float(\"inf\"), \"inclusive\": False},\n",
    "    elapsed_seconds_min=0)\n",
    "\n",
    "# calcualted dataframe with metrics\n",
    "roc_instance.calculate_all_efficiency_metrics(filtered_df)\n",
    "\n"
   ]
  },
  {
   "cell_type": "markdown",
   "id": "7ec5c38f",
   "metadata": {},
   "source": [
    "### Threshold: alloc_vram_efficiency ###"
   ]
  },
  {
   "cell_type": "code",
   "execution_count": null,
   "id": "af4e36f5",
   "metadata": {},
   "outputs": [],
   "source": [
    "# roc_instance = roc_plot.ROCVisualizer(db_path=\"../data/slurm_data.db\")\n",
    "threshold_metric = enum_constants.JobEfficiencyMetricsEnum.ALLOC_VRAM_EFFICIENCY\n",
    "proportion_metric = enum_constants.ProportionMetricsEnum.JOB_HOURS\n",
    "fig, (axe1) = roc_instance.plot_roc_jobs(\n",
    "    max_threshold=1.0, threshold_step=0.001, threshold_metric=threshold_metric, proportion_metric=proportion_metric\n",
    ")"
   ]
  },
  {
   "cell_type": "code",
   "execution_count": null,
   "id": "fb088c93",
   "metadata": {},
   "outputs": [],
   "source": [
    "# plot number of jobs by percentage with regard to alloc_vram_effificient\n",
    "threshold_metric = enum_constants.JobEfficiencyMetricsEnum.ALLOC_VRAM_EFFICIENCY\n",
    "proportion_metric = enum_constants.ProportionMetricsEnum.JOBS\n",
    "fig, (axe1) = roc_instance.plot_roc_jobs(\n",
    "    min_threshold=0.0,\n",
    "    max_threshold=1.0,\n",
    "    threshold_step=0.001,\n",
    "    threshold_metric=threshold_metric,\n",
    "    proportion_metric=proportion_metric,\n",
    "    plot_percentage=True,\n",
    ")"
   ]
  },
  {
   "cell_type": "code",
   "execution_count": null,
   "id": "07a08fd6",
   "metadata": {},
   "outputs": [],
   "source": [
    "# plot raw numbers of jobs\n",
    "threshold_metric = enum_constants.JobEfficiencyMetricsEnum.ALLOC_VRAM_EFFICIENCY\n",
    "proportion_metric = enum_constants.ProportionMetricsEnum.JOBS\n",
    "fig, (axe1) = roc_instance.plot_roc_jobs(\n",
    "    max_threshold=1.0,\n",
    "    threshold_step=0.001,\n",
    "    threshold_metric=threshold_metric,\n",
    "    proportion_metric=proportion_metric,\n",
    "    plot_percentage=False,\n",
    ")"
   ]
  },
  {
   "cell_type": "code",
   "execution_count": null,
   "id": "6af4e51c",
   "metadata": {},
   "outputs": [],
   "source": [
    "# plot raw number of job_hours\n",
    "threshold_metric = enum_constants.JobEfficiencyMetricsEnum.ALLOC_VRAM_EFFICIENCY\n",
    "proportion_metric = enum_constants.ProportionMetricsEnum.JOB_HOURS\n",
    "fig, (axe1) = roc_instance.plot_roc_jobs(\n",
    "    max_threshold=1.0,\n",
    "    threshold_step=0.001,\n",
    "    threshold_metric=threshold_metric,\n",
    "    proportion_metric=proportion_metric,\n",
    "    plot_percentage=False,\n",
    ")"
   ]
  },
  {
   "cell_type": "markdown",
   "id": "23319b47",
   "metadata": {},
   "source": [
    "### Threshold : vram_constraints_efficiency ###"
   ]
  },
  {
   "cell_type": "code",
   "execution_count": null,
   "id": "4f397036",
   "metadata": {},
   "outputs": [],
   "source": [
    "threshold_metric = enum_constants.JobEfficiencyMetricsEnum.VRAM_CONSTRAINT_EFFICIENCY\n",
    "df = roc_instance.jobs_with_efficiency_metrics\n",
    "len(df[df[threshold_metric.value].isna()])"
   ]
  },
  {
   "cell_type": "code",
   "execution_count": null,
   "id": "c3e085b7",
   "metadata": {},
   "outputs": [],
   "source": [
    "threshold_metric = enum_constants.JobEfficiencyMetricsEnum.VRAM_CONSTRAINT_EFFICIENCY\n",
    "proportion_metric = enum_constants.ProportionMetricsEnum.JOBS\n",
    "fig, (axe1) = roc_instance.plot_roc_jobs(\n",
    "    max_threshold=1.0, threshold_step=0.001, threshold_metric=threshold_metric, proportion_metric=proportion_metric,\n",
    "    clip_threshold_metric=(True, 1.0)\n",
    ")"
   ]
  },
  {
   "cell_type": "code",
   "execution_count": null,
   "id": "78474d02",
   "metadata": {},
   "outputs": [],
   "source": [
    "# plot raw number of job_hours\n",
    "threshold_metric = enum_constants.JobEfficiencyMetricsEnum.VRAM_CONSTRAINT_EFFICIENCY\n",
    "proportion_metric = enum_constants.ProportionMetricsEnum.JOB_HOURS\n",
    "fig, (axe1) = roc_instance.plot_roc_jobs(\n",
    "    max_threshold=1.0,\n",
    "    threshold_step=0.001,\n",
    "    threshold_metric=threshold_metric,\n",
    "    proportion_metric=proportion_metric,\n",
    ")"
   ]
  },
  {
   "cell_type": "code",
   "execution_count": null,
   "id": "41518839",
   "metadata": {},
   "outputs": [],
   "source": []
  },
  {
   "cell_type": "markdown",
   "id": "f2dca437",
   "metadata": {},
   "source": [
    "### Threshold : alloc_vram_efficiency_score ###"
   ]
  },
  {
   "cell_type": "code",
   "execution_count": null,
   "id": "a3a77a67",
   "metadata": {},
   "outputs": [],
   "source": [
    "# # roc_instance = roc_plot.ROCVisualizer(db_path=\"../data/slurm_data.db\")\n",
    "# roc_instance = roc_plot.ROCVisualizer(db_path=\"../data/slurm_data.db\")\n"
   ]
  },
  {
   "cell_type": "code",
   "execution_count": null,
   "id": "c1061263",
   "metadata": {},
   "outputs": [],
   "source": [
    "# for alloc_vram_efficiency_score, we need to adjust the min_threshold manually\n",
    "\n",
    "threshold_metric = enum_constants.JobEfficiencyMetricsEnum.ALLOC_VRAM_EFFICIENCY_SCORE\n",
    "proportion_metric = enum_constants.ProportionMetricsEnum.JOBS\n",
    "fig, (axe1) = roc_instance.plot_roc_jobs(\n",
    "    max_threshold=0.0,\n",
    "    threshold_step=10,\n",
    "    min_threshold=-10000.0,\n",
    "    threshold_metric=threshold_metric,\n",
    "    proportion_metric=proportion_metric,\n",
    ")"
   ]
  },
  {
   "cell_type": "code",
   "execution_count": null,
   "id": "a56bb039",
   "metadata": {},
   "outputs": [],
   "source": [
    "print(roc_instance.jobs_with_efficiency_metrics[enum_constants.JobEfficiencyMetricsEnum.ALLOC_VRAM_EFFICIENCY_SCORE.value].mean())\n",
    "print(roc_instance.jobs_with_efficiency_metrics[enum_constants.JobEfficiencyMetricsEnum.ALLOC_VRAM_EFFICIENCY_SCORE.value].std())\n",
    "roc_instance.jobs_with_efficiency_metrics[enum_constants.JobEfficiencyMetricsEnum.ALLOC_VRAM_EFFICIENCY_SCORE.value].max()"
   ]
  },
  {
   "cell_type": "code",
   "execution_count": null,
   "id": "4e9c49de",
   "metadata": {},
   "outputs": [],
   "source": [
    "# for alloc_vram_efficiency_score, we need to adjust the min_threshold manually\n",
    "\n",
    "# plot raw number of job_hours\n",
    "threshold_metric = enum_constants.JobEfficiencyMetricsEnum.ALLOC_VRAM_EFFICIENCY_SCORE\n",
    "proportion_metric = enum_constants.ProportionMetricsEnum.JOBS\n",
    "fig, (axe1) = roc_instance.plot_roc_jobs(\n",
    "    # min_threshold=-10000,\n",
    "    max_threshold=0.0,\n",
    "    threshold_step=100,\n",
    "    threshold_metric=threshold_metric,\n",
    "    proportion_metric=proportion_metric,\n",
    ")"
   ]
  },
  {
   "cell_type": "markdown",
   "id": "5f4bbb33",
   "metadata": {},
   "source": [
    "### Threhold metric: Job_hour & vram_hour (For number of jobs only) ###"
   ]
  },
  {
   "cell_type": "code",
   "execution_count": null,
   "id": "385efbe3",
   "metadata": {},
   "outputs": [],
   "source": [
    "print(roc_instance.jobs_with_efficiency_metrics[\"job_hours\"].mean())\n",
    "print(roc_instance.jobs_with_efficiency_metrics[\"job_hours\"].std())\n",
    "print(roc_instance.jobs_with_efficiency_metrics[\"job_hours\"].max())\n",
    "print(roc_instance.jobs_with_efficiency_metrics[\"job_hours\"].min())"
   ]
  },
  {
   "cell_type": "code",
   "execution_count": null,
   "id": "e3bef3bd",
   "metadata": {},
   "outputs": [],
   "source": [
    "# for alloc_vram_efficiency_score, we need to adjust the min_threshold manually\n",
    "\n",
    "# plot raw number of job_hours\n",
    "threshold_metric = enum_constants.JobEfficiencyMetricsEnum.JOB_HOURS\n",
    "proportion_metric = enum_constants.ProportionMetricsEnum.JOBS\n",
    "max_job_hour = roc_instance.jobs_with_efficiency_metrics[\"job_hours\"].max()\n",
    "fig, (axe1) = roc_instance.plot_roc_jobs(\n",
    "    # min_threshold=-200000,\n",
    "    min_threshold=0.0,\n",
    "    max_threshold=50,\n",
    "    threshold_step=1,\n",
    "    threshold_metric=threshold_metric,\n",
    "    proportion_metric=proportion_metric,\n",
    ")"
   ]
  },
  {
   "cell_type": "code",
   "execution_count": null,
   "id": "772a21f5",
   "metadata": {},
   "outputs": [],
   "source": [
    "print(roc_instance.jobs_with_efficiency_metrics[\"vram_hours\"].mean())\n",
    "print(roc_instance.jobs_with_efficiency_metrics[\"vram_hours\"].std())\n",
    "print(roc_instance.jobs_with_efficiency_metrics[\"vram_hours\"].max())\n",
    "print(roc_instance.jobs_with_efficiency_metrics[\"vram_hours\"].min())"
   ]
  },
  {
   "cell_type": "code",
   "execution_count": null,
   "id": "06d0dfb7",
   "metadata": {},
   "outputs": [],
   "source": [
    "# for alloc_vram_efficiency_score, we need to adjust the min_threshold manually\n",
    "\n",
    "# plot raw number of job_hours\n",
    "threshold_metric = enum_constants.JobEfficiencyMetricsEnum.VRAM_HOURS\n",
    "proportion_metric = enum_constants.ProportionMetricsEnum.JOBS\n",
    "max_job_hour = roc_instance.jobs_with_efficiency_metrics[\"job_hours\"].max()\n",
    "fig, (axe1) = roc_instance.plot_roc_jobs(\n",
    "    # min_threshold=-200000,\n",
    "    min_threshold=0.0,\n",
    "    max_threshold=490,\n",
    "    threshold_step=1,\n",
    "    threshold_metric=threshold_metric,\n",
    "    proportion_metric=proportion_metric,\n",
    ")"
   ]
  },
  {
   "cell_type": "markdown",
   "id": "73d3181a",
   "metadata": {},
   "source": [
    "### Proportion metric : User ###"
   ]
  },
  {
   "cell_type": "code",
   "execution_count": null,
   "id": "b45a3300",
   "metadata": {},
   "outputs": [],
   "source": [
    "null_alloc_vram_efficiency_score = roc_instance.jobs_with_efficiency_metrics[\n",
    "    roc_instance.jobs_with_efficiency_metrics[\"alloc_vram_efficiency\"].isna()\n",
    "]\n",
    "\n",
    "print(\n",
    "    null_alloc_vram_efficiency_score[\n",
    "        [\"used_vram_gib\", \"allocated_vram\", \"alloc_vram_efficiency\", \"Partition\", \"GPUType\"]\n",
    "    ]\n",
    ")"
   ]
  },
  {
   "cell_type": "code",
   "execution_count": null,
   "id": "941dfe1c",
   "metadata": {},
   "outputs": [],
   "source": [
    "threshold_metric = enum_constants.JobEfficiencyMetricsEnum.ALLOC_VRAM_EFFICIENCY\n",
    "proportion_metric = enum_constants.ProportionMetricsEnum.USERS\n",
    "fig, (axe1) = roc_instance.plot_roc_jobs(\n",
    "    min_threshold=0.0,\n",
    "    threshold_step=0.01,\n",
    "    max_threshold=1.0,\n",
    "    threshold_metric=threshold_metric,\n",
    "    proportion_metric=proportion_metric,\n",
    "    plot_percentage=False,\n",
    ")"
   ]
  },
  {
   "cell_type": "code",
   "execution_count": null,
   "id": "d498c03c",
   "metadata": {},
   "outputs": [],
   "source": [
    "user_with_all_vram_score_null = (\n",
    "    roc_instance.jobs_with_efficiency_metrics.groupby(\"User\")[\"vram_constraint_efficiency\"]\n",
    "    .apply(lambda x: x.isnull().all())\n",
    "    .sum()\n",
    ")\n",
    "user_with_all_vram_score_null"
   ]
  },
  {
   "cell_type": "code",
   "execution_count": null,
   "id": "9b3e05f9",
   "metadata": {},
   "outputs": [],
   "source": [
    "# plot raw number of job_hours\n",
    "threshold_metric = enum_constants.JobEfficiencyMetricsEnum.VRAM_CONSTRAINT_EFFICIENCY\n",
    "proportion_metric = enum_constants.ProportionMetricsEnum.USERS\n",
    "fig, (axe1) = roc_instance.plot_roc_jobs(\n",
    "    min_threshold=0.0,\n",
    "    threshold_step=0.01,\n",
    "    max_threshold=1.0,\n",
    "    threshold_metric=threshold_metric,\n",
    "    proportion_metric=proportion_metric,\n",
    "    plot_percentage=False\n",
    ")"
   ]
  },
  {
   "cell_type": "code",
   "execution_count": null,
   "id": "cd198916",
   "metadata": {},
   "outputs": [],
   "source": [
    "# plot raw number of job_hours\n",
    "threshold_metric = enum_constants.JobEfficiencyMetricsEnum.ALLOC_VRAM_EFFICIENCY_SCORE\n",
    "proportion_metric = enum_constants.ProportionMetricsEnum.USERS\n",
    "fig, (axe1) = roc_instance.plot_roc_jobs(\n",
    "    max_threshold=0.0,\n",
    "    threshold_step=100,\n",
    "    min_threshold=-5000.0,\n",
    "    threshold_metric=threshold_metric,\n",
    "    proportion_metric=proportion_metric,\n",
    "    plot_percentage=False\n",
    ")"
   ]
  },
  {
   "cell_type": "markdown",
   "id": "ea3e1cdd",
   "metadata": {},
   "source": [
    "### Proportion Metrics: PI_GROUP ###"
   ]
  },
  {
   "cell_type": "code",
   "execution_count": null,
   "id": "e8a94712",
   "metadata": {},
   "outputs": [],
   "source": [
    "threshold_metric = enum_constants.JobEfficiencyMetricsEnum.ALLOC_VRAM_EFFICIENCY\n",
    "proportion_metric = enum_constants.ProportionMetricsEnum.PI_GROUPS\n",
    "fig, (axe1) = roc_instance.plot_roc_jobs(\n",
    "    min_threshold=0.0,\n",
    "    threshold_step=0.01,\n",
    "    max_threshold=1.0,\n",
    "    threshold_metric=threshold_metric,\n",
    "    proportion_metric=proportion_metric,\n",
    "    plot_percentage=False\n",
    ")"
   ]
  },
  {
   "cell_type": "code",
   "execution_count": null,
   "id": "b19cb557",
   "metadata": {},
   "outputs": [],
   "source": [
    "temp = (\n",
    "    roc_instance.jobs_with_efficiency_metrics.groupby(\"Account\", observed=True)[\"vram_constraint_efficiency\"]\n",
    "    .apply(lambda x: x.isnull().all())\n",
    "    .sum()\n",
    ")\n",
    "temp"
   ]
  },
  {
   "cell_type": "code",
   "execution_count": null,
   "id": "528abe87",
   "metadata": {},
   "outputs": [],
   "source": [
    "threshold_metric = enum_constants.JobEfficiencyMetricsEnum.VRAM_CONSTRAINT_EFFICIENCY\n",
    "proportion_metric = enum_constants.ProportionMetricsEnum.PI_GROUPS\n",
    "fig, (axe1) = roc_instance.plot_roc_jobs(\n",
    "    min_threshold=0.0,\n",
    "    threshold_step=0.01,\n",
    "    max_threshold=1.0,\n",
    "    threshold_metric=threshold_metric,\n",
    "    proportion_metric=proportion_metric,\n",
    "    plot_percentage=False\n",
    ")"
   ]
  },
  {
   "cell_type": "code",
   "execution_count": null,
   "id": "b4302431",
   "metadata": {},
   "outputs": [],
   "source": [
    "threshold_metric = enum_constants.JobEfficiencyMetricsEnum.ALLOC_VRAM_EFFICIENCY_SCORE\n",
    "proportion_metric = enum_constants.ProportionMetricsEnum.PI_GROUPS\n",
    "fig, (axe1) = roc_instance.plot_roc_jobs(\n",
    "    max_threshold=0.0,\n",
    "    threshold_step=10,\n",
    "    min_threshold=-5000.0,\n",
    "    threshold_metric=threshold_metric,\n",
    "    proportion_metric=proportion_metric,\n",
    "    plot_percentage=False\n",
    ")"
   ]
  },
  {
   "cell_type": "markdown",
   "id": "6ea80874",
   "metadata": {},
   "source": [
    "### Proportion Metrics: VRAM_HOURS ###"
   ]
  },
  {
   "cell_type": "code",
   "execution_count": null,
   "id": "8052449c",
   "metadata": {},
   "outputs": [],
   "source": [
    "threshold_metric = enum_constants.JobEfficiencyMetricsEnum.VRAM_CONSTRAINT_EFFICIENCY\n",
    "proportion_metric = enum_constants.ProportionMetricsEnum.VRAM_HOURS\n",
    "\n",
    "roc_instance.plot_roc_jobs(\n",
    "    min_threshold=0.0,\n",
    "    max_threshold=1.0,\n",
    "    threshold_step=0.01,\n",
    "    threshold_metric=threshold_metric,\n",
    "    proportion_metric=proportion_metric,\n",
    ")\n"
   ]
  },
  {
   "cell_type": "code",
   "execution_count": null,
   "id": "46e21318",
   "metadata": {},
   "outputs": [],
   "source": [
    "threshold_metric = enum_constants.JobEfficiencyMetricsEnum.ALLOC_VRAM_EFFICIENCY\n",
    "proportion_metric = enum_constants.ProportionMetricsEnum.VRAM_HOURS\n",
    "\n",
    "roc_instance.plot_roc_jobs(\n",
    "    min_threshold=0.0,\n",
    "    max_threshold=1.0,\n",
    "    threshold_step=0.01,\n",
    "    threshold_metric=threshold_metric,\n",
    "    proportion_metric=proportion_metric,\n",
    ")\n"
   ]
  },
  {
   "cell_type": "code",
   "execution_count": null,
   "id": "77a38202",
   "metadata": {},
   "outputs": [],
   "source": [
    "threshold_metric = enum_constants.JobEfficiencyMetricsEnum.ALLOC_VRAM_EFFICIENCY_SCORE\n",
    "proportion_metric = enum_constants.ProportionMetricsEnum.VRAM_HOURS\n",
    "\n",
    "roc_instance.plot_roc_jobs(\n",
    "    max_threshold=0.0,\n",
    "    # min_threshold=-200000.0,\n",
    "    threshold_step=1000,\n",
    "    threshold_metric=threshold_metric,\n",
    "    proportion_metric=proportion_metric,\n",
    ")\n"
   ]
  },
  {
   "cell_type": "markdown",
   "id": "755b097a",
   "metadata": {},
   "source": [
    "## Multiple line plot by user ###"
   ]
  },
  {
   "cell_type": "markdown",
   "id": "616f79eb",
   "metadata": {},
   "source": [
    "#### Inspect 6 users who submitted the highest number of jobs ####"
   ]
  },
  {
   "cell_type": "code",
   "execution_count": null,
   "id": "7df743c9",
   "metadata": {},
   "outputs": [],
   "source": [
    "top_user_with_job_count = (\n",
    "    roc_instance.jobs_with_efficiency_metrics.groupby(\"User\")\n",
    "    .agg(job_count=(\"JobID\", \"count\"), user_job_hours=(\"job_hours\", \"sum\"))\n",
    "    .reset_index()\n",
    "    .sort_values(by=\"job_count\")\n",
    "    .tail(6)\n",
    ")\n",
    "print(top_user_with_job_count)"
   ]
  },
  {
   "cell_type": "code",
   "execution_count": null,
   "id": "c72650b8",
   "metadata": {},
   "outputs": [],
   "source": [
    "from src.config.enum_constants import ProportionMetricsEnum, JobEfficiencyMetricsEnum\n",
    "\n",
    "roc_instance.multiple_line_roc_plot(\n",
    "    plot_object_list=list(top_user_with_job_count[\"User\"].to_numpy()),\n",
    "    object_column_type=ProportionMetricsEnum.USERS,\n",
    "    threshold_metric=JobEfficiencyMetricsEnum.ALLOC_VRAM_EFFICIENCY,\n",
    "    proportion_metric=ProportionMetricsEnum.JOBS,\n",
    "    min_threshold=0.0,\n",
    "    max_threshold=1.0,\n",
    "    threshold_step=0.001,\n",
    "    plot_percentage=False,\n",
    ")"
   ]
  },
  {
   "cell_type": "code",
   "execution_count": null,
   "id": "3fc563a2",
   "metadata": {},
   "outputs": [],
   "source": [
    "roc_instance.multiple_line_roc_plot(\n",
    "    plot_object_list=list(top_user_with_job_count[\"User\"].to_numpy()),\n",
    "    object_column_type=ProportionMetricsEnum.USERS,\n",
    "    threshold_metric=JobEfficiencyMetricsEnum.ALLOC_VRAM_EFFICIENCY_SCORE,\n",
    "    proportion_metric=ProportionMetricsEnum.JOBS,\n",
    "    min_threshold=-10000,\n",
    "    max_threshold=0.0,\n",
    "    threshold_step=10,\n",
    "    plot_percentage=False,\n",
    ")"
   ]
  },
  {
   "cell_type": "code",
   "execution_count": null,
   "id": "3e1c9b4d",
   "metadata": {},
   "outputs": [],
   "source": [
    "from src.config.enum_constants import ProportionMetricsEnum, JobEfficiencyMetricsEnum\n",
    "\n",
    "roc_instance.multiple_line_roc_plot(\n",
    "    plot_object_list=list(top_user_with_job_count[\"User\"].to_numpy()),\n",
    "    # plot_object_list=['dosterman_umass_edu'],\n",
    "    object_column_type=ProportionMetricsEnum.USERS,\n",
    "    threshold_metric=JobEfficiencyMetricsEnum.VRAM_CONSTRAINT_EFFICIENCY,\n",
    "    plot_percentage=False,\n",
    "    max_threshold=1.0,\n",
    "    min_threshold=0.0,\n",
    "    threshold_step=0.0001,\n",
    ")"
   ]
  },
  {
   "cell_type": "code",
   "execution_count": null,
   "id": "1f0fbead",
   "metadata": {},
   "outputs": [],
   "source": [
    "# Inspect an outliner\n",
    "cur_df = roc_instance.jobs_with_efficiency_metrics.copy()\n",
    "filtered = cur_df[cur_df[\"User\"] == \"dosterman_umass_edu\"].copy()\n",
    "group = (\n",
    "    filtered.groupby(\"User\")\n",
    "    .agg(\n",
    "        job_count=(\"JobID\", \"count\"),\n",
    "        job_hours=(\"job_hours\", \"sum\"),\n",
    "        vram_efficiency_score=(JobEfficiencyMetricsEnum.ALLOC_VRAM_EFFICIENCY.value, \"sum\"),\n",
    "        allocated_vram=(\"allocated_vram\", \"sum\"),\n",
    "        used_vram=(\"used_vram_gib\", \"sum\"),\n",
    "    )\n",
    "    .reset_index()\n",
    ")\n",
    "print(group)"
   ]
  },
  {
   "cell_type": "markdown",
   "id": "15a44bd3",
   "metadata": {},
   "source": [
    "#### Inspect the 6 users with highest number of job_hours ####"
   ]
  },
  {
   "cell_type": "code",
   "execution_count": null,
   "id": "25b2f013",
   "metadata": {},
   "outputs": [],
   "source": [
    "top_user_by_job_hour = (\n",
    "    roc_instance.jobs_with_efficiency_metrics.groupby(\"User\")\n",
    "    .agg(job_count=(\"JobID\", \"count\"), job_hours=(\"job_hours\", \"sum\"))\n",
    "    .reset_index()\n",
    "    .sort_values(by=\"job_hours\")\n",
    "    .tail(6)\n",
    ")\n",
    "print(top_user_by_job_hour)"
   ]
  },
  {
   "cell_type": "code",
   "execution_count": null,
   "id": "8c4288be",
   "metadata": {},
   "outputs": [],
   "source": [
    "roc_instance.multiple_line_roc_plot(\n",
    "    plot_object_list=top_user_by_job_hour[\"User\"].to_list(),\n",
    "    object_column_type=ProportionMetricsEnum.USERS,\n",
    "    threshold_metric=JobEfficiencyMetricsEnum.VRAM_CONSTRAINT_EFFICIENCY,\n",
    "    proportion_metric=ProportionMetricsEnum.JOB_HOURS,\n",
    "    min_threshold=0.0,\n",
    "    max_threshold=1.0,\n",
    "    threshold_step=0.001,\n",
    "    plot_percentage=False,\n",
    ")"
   ]
  },
  {
   "cell_type": "code",
   "execution_count": null,
   "id": "46e49eb3",
   "metadata": {},
   "outputs": [],
   "source": [
    "roc_instance.multiple_line_roc_plot(\n",
    "    plot_object_list=top_user_by_job_hour[\"User\"].to_list(),\n",
    "    object_column_type=ProportionMetricsEnum.USERS,\n",
    "    threshold_metric=JobEfficiencyMetricsEnum.ALLOC_VRAM_EFFICIENCY,\n",
    "    proportion_metric=ProportionMetricsEnum.JOB_HOURS,\n",
    "    min_threshold=0.0,\n",
    "    max_threshold=1.0,\n",
    "    threshold_step=0.001,\n",
    "    plot_percentage=False,\n",
    ")"
   ]
  },
  {
   "cell_type": "markdown",
   "id": "3f060a78",
   "metadata": {},
   "source": [
    "### Multiple plot ROC by PI Group ###"
   ]
  },
  {
   "cell_type": "code",
   "execution_count": null,
   "id": "30f5980b",
   "metadata": {},
   "outputs": [],
   "source": [
    "# from src.analysis.roc_plot import ROCVisualizer\n",
    "\n",
    "# roc_instance = ROCVisualizer(db_path=\"../data/slurm_data.db\")"
   ]
  },
  {
   "cell_type": "code",
   "execution_count": null,
   "id": "a590c5fb",
   "metadata": {},
   "outputs": [],
   "source": [
    "from src.config.enum_constants import ProportionMetricsEnum, JobEfficiencyMetricsEnum\n",
    "\n",
    "cur_df = roc_instance.jobs_with_efficiency_metrics\n",
    "top_pi_group_job_counts = (\n",
    "    cur_df.groupby(ProportionMetricsEnum.PI_GROUPS.value)\n",
    "    .agg(job_count=(\"JobID\", \"count\"), job_hours=(\"job_hours\", \"sum\"))\n",
    "    .reset_index()\n",
    "    .sort_values(by=\"job_count\")\n",
    "    .tail(6)\n",
    ")\n",
    "top_pi_group_job_counts"
   ]
  },
  {
   "cell_type": "code",
   "execution_count": null,
   "id": "1b5182a1",
   "metadata": {},
   "outputs": [],
   "source": [
    "roc_instance.multiple_line_roc_plot(\n",
    "    plot_object_list=list(top_pi_group_job_counts[ProportionMetricsEnum.PI_GROUPS.value].to_numpy()),\n",
    "    object_column_type=ProportionMetricsEnum.PI_GROUPS,\n",
    "    max_threshold=1.0,\n",
    "    min_threshold=0.0,\n",
    "    threshold_step=0.001,\n",
    "    plot_percentage=False,\n",
    ")"
   ]
  },
  {
   "cell_type": "code",
   "execution_count": null,
   "id": "b40fa9f6",
   "metadata": {},
   "outputs": [],
   "source": [
    "roc_instance.multiple_line_roc_plot(\n",
    "    plot_object_list=list(top_pi_group_job_counts[ProportionMetricsEnum.PI_GROUPS.value].to_numpy()),\n",
    "    object_column_type=ProportionMetricsEnum.PI_GROUPS,\n",
    "    threshold_metric=JobEfficiencyMetricsEnum.ALLOC_VRAM_EFFICIENCY_SCORE,\n",
    "    max_threshold=0.0,\n",
    "    min_threshold=-100.0,\n",
    "    threshold_step=1.0,\n",
    "    plot_percentage=False,\n",
    ")"
   ]
  }
 ],
 "metadata": {
  "kernelspec": {
   "display_name": "ds4cg_unity",
   "language": "python",
   "name": "python3"
  },
  "language_info": {
   "codemirror_mode": {
    "name": "ipython",
    "version": 3
   },
   "file_extension": ".py",
   "mimetype": "text/x-python",
   "name": "python",
   "nbconvert_exporter": "python",
   "pygments_lexer": "ipython3",
   "version": "3.11.13"
  }
 },
 "nbformat": 4,
 "nbformat_minor": 5
}
