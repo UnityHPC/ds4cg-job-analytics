{
 "cells": [
  {
   "cell_type": "markdown",
   "id": "83295ddd",
   "metadata": {},
   "source": [
    "## ROC Plot ##"
   ]
  },
  {
   "cell_type": "code",
   "execution_count": null,
   "id": "15e2eac5",
   "metadata": {},
   "outputs": [],
   "source": [
    "# Import required modules\n",
    "import sys\n",
    "from pathlib import Path"
   ]
  },
  {
   "cell_type": "code",
   "execution_count": null,
   "id": "024d5aa4",
   "metadata": {},
   "outputs": [],
   "source": [
    "#import project root into modules\n",
    "project_root = str(Path.cwd().resolve().parent)\n",
    "if project_root not in sys.path:\n",
    "    sys.path.append(project_root)\n",
    "\n"
   ]
  },
  {
   "cell_type": "code",
   "execution_count": null,
   "id": "005e9a55",
   "metadata": {},
   "outputs": [],
   "source": [
    "from src.analysis import roc_plot\n",
    "from src.config import enum_constants\n",
    "# Automatically reload modules before executing code\n",
    "%load_ext autoreload\n",
    "# Reload all modules imported with %aimport every time before executing the Python code typed.\n",
    "%autoreload 1\n",
    "%aimport src.analysis.roc_plot, src.config.enum_constants"
   ]
  },
  {
   "cell_type": "code",
   "execution_count": null,
   "id": "d136fed5",
   "metadata": {},
   "outputs": [],
   "source": [
    "#initilize the ROCVisualizer instance \n",
    "roc_instance = roc_plot.ROCVisualizer(db_path=\"../data/slurm_data.db\")"
   ]
  },
  {
   "cell_type": "markdown",
   "id": "7ec5c38f",
   "metadata": {},
   "source": [
    "### Threshold: alloc_vram_efficiency ###"
   ]
  },
  {
   "cell_type": "code",
   "execution_count": null,
   "id": "af4e36f5",
   "metadata": {},
   "outputs": [],
   "source": [
    "# roc_instance = roc_plot.ROCVisualizer(db_path=\"../data/slurm_data.db\")\n",
    "threshold_metric = enum_constants.JobEfficiencyMetricsEnum.ALLOC_VRAM_EFFICIENCY\n",
    "proportion_metric = enum_constants.ROCProportionMetricsEnum.JOB_HOURS\n",
    "fig, (axe1) = roc_instance.plot_roc(\n",
    "    max_threshold=1.0,\n",
    "    threshold_step=0.001,\n",
    "    threshold_metric=threshold_metric,\n",
    "    proportion_metric=proportion_metric\n",
    ")"
   ]
  },
  {
   "cell_type": "code",
   "execution_count": null,
   "id": "fb088c93",
   "metadata": {},
   "outputs": [],
   "source": [
    "threshold_metric = enum_constants.JobEfficiencyMetricsEnum.ALLOC_VRAM_EFFICIENCY\n",
    "proportion_metric = enum_constants.ROCProportionMetricsEnum.JOBS\n",
    "fig, (axe1) = roc_instance.plot_roc(\n",
    "    max_threshold=1.0,\n",
    "    threshold_step=0.001,\n",
    "    threshold_metric=threshold_metric,\n",
    "    proportion_metric=proportion_metric\n",
    ")\n"
   ]
  },
  {
   "cell_type": "code",
   "execution_count": null,
   "id": "07a08fd6",
   "metadata": {},
   "outputs": [],
   "source": [
    "#plot raw numbers of jobs\n",
    "threshold_metric = enum_constants.JobEfficiencyMetricsEnum.ALLOC_VRAM_EFFICIENCY\n",
    "proportion_metric = enum_constants.ROCProportionMetricsEnum.JOBS\n",
    "fig, (axe1)= roc_instance.plot_roc(\n",
    "    max_threshold=1.0,\n",
    "    threshold_step=0.001,\n",
    "    threshold_metric=threshold_metric,\n",
    "    proportion_metric=proportion_metric,\n",
    "    plot_percentage=False\n",
    ")"
   ]
  },
  {
   "cell_type": "code",
   "execution_count": null,
   "id": "6af4e51c",
   "metadata": {},
   "outputs": [],
   "source": [
    "#plot raw number of job_hours\n",
    "threshold_metric = enum_constants.JobEfficiencyMetricsEnum.ALLOC_VRAM_EFFICIENCY\n",
    "proportion_metric = enum_constants.ROCProportionMetricsEnum.JOB_HOURS\n",
    "fig, (axe1) = roc_instance.plot_roc(\n",
    "    max_threshold=1.0,\n",
    "    threshold_step=0.001,\n",
    "    threshold_metric=threshold_metric,\n",
    "    proportion_metric=proportion_metric,\n",
    "    plot_percentage=False\n",
    ")"
   ]
  },
  {
   "cell_type": "markdown",
   "id": "23319b47",
   "metadata": {},
   "source": [
    "### Threshold : vram_constraints_efficiency ###"
   ]
  },
  {
   "cell_type": "code",
   "execution_count": null,
   "id": "c3e085b7",
   "metadata": {},
   "outputs": [],
   "source": [
    "#plot raw number of job_hours\n",
    "threshold_metric = enum_constants.JobEfficiencyMetricsEnum.VRAM_CONSTRAINT_EFFICIENCY\n",
    "proportion_metric = enum_constants.ROCProportionMetricsEnum.JOBS\n",
    "fig, (axe1) = roc_instance.plot_roc(\n",
    "    max_threshold=1.25,\n",
    "    threshold_step=0.001,\n",
    "    threshold_metric=threshold_metric,\n",
    "    proportion_metric=proportion_metric\n",
    ")"
   ]
  },
  {
   "cell_type": "code",
   "execution_count": null,
   "id": "78474d02",
   "metadata": {},
   "outputs": [],
   "source": [
    "#plot raw number of job_hours\n",
    "threshold_metric = enum_constants.JobEfficiencyMetricsEnum.VRAM_CONSTRAINT_EFFICIENCY\n",
    "proportion_metric = enum_constants.ROCProportionMetricsEnum.JOB_HOURS\n",
    "fig, (axe1) = roc_instance.plot_roc(\n",
    "    max_threshold=6.1,\n",
    "    threshold_step=0.001,\n",
    "    threshold_metric=threshold_metric,\n",
    "    proportion_metric=proportion_metric,\n",
    "    plot_percentage=True\n",
    ")"
   ]
  },
  {
   "cell_type": "code",
   "execution_count": null,
   "id": "41518839",
   "metadata": {},
   "outputs": [],
   "source": []
  },
  {
   "cell_type": "markdown",
   "id": "f2dca437",
   "metadata": {},
   "source": [
    "### Threshold : alloc_vram_efficiency_score ###"
   ]
  },
  {
   "cell_type": "code",
   "execution_count": null,
   "id": "a3a77a67",
   "metadata": {},
   "outputs": [],
   "source": [
    "# # roc_instance = roc_plot.ROCVisualizer(db_path=\"../data/slurm_data.db\")\n",
    "# roc_instance = roc_plot.ROCVisualizer(db_path=\"../data/slurm_data.db\")\n"
   ]
  },
  {
   "cell_type": "code",
   "execution_count": null,
   "id": "c1061263",
   "metadata": {},
   "outputs": [],
   "source": [
    "#for alloc_vram_efficiency_score, we need to adjust the min_threshold manually\n",
    "\n",
    "#plot raw number of job_hours\n",
    "threshold_metric = enum_constants.JobEfficiencyMetricsEnum.ALLOC_VRAM_EFFICIENCY_SCORE\n",
    "proportion_metric = enum_constants.ROCProportionMetricsEnum.JOBS\n",
    "fig, (axe1) = roc_instance.plot_roc(\n",
    "    max_threshold=0.0,\n",
    "    threshold_step=0.1,\n",
    "    threshold_metric=threshold_metric,\n",
    "    proportion_metric=proportion_metric,\n",
    ")"
   ]
  },
  {
   "cell_type": "code",
   "execution_count": null,
   "id": "4e9c49de",
   "metadata": {},
   "outputs": [],
   "source": [
    "#for alloc_vram_efficiency_score, we need to adjust the min_threshold manually\n",
    "\n",
    "#plot raw number of job_hours\n",
    "threshold_metric = enum_constants.JobEfficiencyMetricsEnum.ALLOC_VRAM_EFFICIENCY_SCORE\n",
    "proportion_metric = enum_constants.ROCProportionMetricsEnum.JOB_HOURS\n",
    "fig, (axe1) = roc_instance.plot_roc(\n",
    "    # min_threshold=-10000.0,\n",
    "    max_threshold=0.0,\n",
    "    threshold_step=1.0,\n",
    "    threshold_metric=threshold_metric,\n",
    "    proportion_metric=proportion_metric,\n",
    ")"
   ]
  },
  {
   "cell_type": "markdown",
   "id": "73d3181a",
   "metadata": {},
   "source": [
    "### Proportion metric : User ###"
   ]
  },
  {
   "cell_type": "code",
   "execution_count": null,
   "id": "b45a3300",
   "metadata": {},
   "outputs": [],
   "source": [
    "null_alloc_vram_efficiency_score = roc_instance.jobs_with_efficiency_metrics\\\n",
    "    [roc_instance.jobs_with_efficiency_metrics[\"alloc_vram_efficiency\"].isna()]\n",
    "\n",
    "print(null_alloc_vram_efficiency_score[[\"used_vram_gib\", \"allocated_vram\", \"alloc_vram_efficiency\", \"Partition\", \\\n",
    "                                        \"GPUType\"]])"
   ]
  },
  {
   "cell_type": "code",
   "execution_count": null,
   "id": "941dfe1c",
   "metadata": {},
   "outputs": [],
   "source": [
    "\n",
    "threshold_metric = enum_constants.JobEfficiencyMetricsEnum.ALLOC_VRAM_EFFICIENCY\n",
    "proportion_metric = enum_constants.ROCProportionMetricsEnum.USER\n",
    "fig, (axe1) = roc_instance.plot_roc(\n",
    "    min_threshold=0.0,\n",
    "    threshold_step=0.01,\n",
    "    max_threshold= 1.0,\n",
    "    threshold_metric=threshold_metric,\n",
    "    proportion_metric=proportion_metric,\n",
    "    plot_percentage=False\n",
    ")"
   ]
  },
  {
   "cell_type": "code",
   "execution_count": null,
   "id": "d498c03c",
   "metadata": {},
   "outputs": [],
   "source": [
    "user_with_all_vram_score_null = roc_instance.jobs_with_efficiency_metrics.groupby('User')\\\n",
    "[\"vram_constraint_efficiency\"].apply(lambda x : x.isnull().all()).sum()\n",
    "user_with_all_vram_score_null"
   ]
  },
  {
   "cell_type": "code",
   "execution_count": null,
   "id": "9b3e05f9",
   "metadata": {},
   "outputs": [],
   "source": [
    "\n",
    "#plot raw number of job_hours\n",
    "threshold_metric = enum_constants.JobEfficiencyMetricsEnum.VRAM_CONSTRAINT_EFFICIENCY\n",
    "proportion_metric = enum_constants.ROCProportionMetricsEnum.USER\n",
    "fig, (axe1) = roc_instance.plot_roc(\n",
    "    min_threshold=0.0,\n",
    "    threshold_step=0.01,\n",
    "    max_threshold=1.0,\n",
    "    threshold_metric=threshold_metric,\n",
    "    proportion_metric=proportion_metric,\n",
    "    plot_percentage=False\n",
    ")"
   ]
  },
  {
   "cell_type": "code",
   "execution_count": null,
   "id": "cd198916",
   "metadata": {},
   "outputs": [],
   "source": [
    "\n",
    "#plot raw number of job_hours\n",
    "threshold_metric = enum_constants.JobEfficiencyMetricsEnum.ALLOC_VRAM_EFFICIENCY_SCORE\n",
    "proportion_metric = enum_constants.ROCProportionMetricsEnum.USER\n",
    "fig, (axe1) = roc_instance.plot_roc(\n",
    "    max_threshold=0.0,\n",
    "    threshold_step=1,\n",
    "    threshold_metric=threshold_metric,\n",
    "    proportion_metric=proportion_metric,\n",
    ")"
   ]
  },
  {
   "cell_type": "markdown",
   "id": "ea3e1cdd",
   "metadata": {},
   "source": [
    "### Proportion Metrics: PI_GROUP ###"
   ]
  },
  {
   "cell_type": "code",
   "execution_count": null,
   "id": "e8a94712",
   "metadata": {},
   "outputs": [],
   "source": [
    "threshold_metric = enum_constants.JobEfficiencyMetricsEnum.ALLOC_VRAM_EFFICIENCY\n",
    "proportion_metric = enum_constants.ROCProportionMetricsEnum.PI_GROUP\n",
    "fig, (axe1) = roc_instance.plot_roc(\n",
    "    min_threshold=0.0,\n",
    "    threshold_step=0.01,\n",
    "    max_threshold= 1.0,\n",
    "    threshold_metric=threshold_metric,\n",
    "    proportion_metric=proportion_metric,\n",
    "    plot_percentage=False\n",
    ")"
   ]
  },
  {
   "cell_type": "code",
   "execution_count": null,
   "id": "b19cb557",
   "metadata": {},
   "outputs": [],
   "source": [
    "temp = roc_instance.jobs_with_efficiency_metrics.groupby(\"Account\", observed=True)\\\n",
    "    [\"vram_constraint_efficiency\"].apply(lambda x : x.isnull().all()).sum()\n",
    "temp"
   ]
  },
  {
   "cell_type": "code",
   "execution_count": null,
   "id": "528abe87",
   "metadata": {},
   "outputs": [],
   "source": [
    "\n",
    "threshold_metric = enum_constants.JobEfficiencyMetricsEnum.VRAM_CONSTRAINT_EFFICIENCY\n",
    "proportion_metric = enum_constants.ROCProportionMetricsEnum.PI_GROUP\n",
    "fig, (axe1) = roc_instance.plot_roc(\n",
    "    min_threshold=0.0,\n",
    "    threshold_step=0.01,\n",
    "    max_threshold= 1.0,\n",
    "    threshold_metric=threshold_metric,\n",
    "    proportion_metric=proportion_metric,\n",
    "    plot_percentage=False\n",
    ")"
   ]
  },
  {
   "cell_type": "code",
   "execution_count": null,
   "id": "b4302431",
   "metadata": {},
   "outputs": [],
   "source": [
    "\n",
    "threshold_metric = enum_constants.JobEfficiencyMetricsEnum.ALLOC_VRAM_EFFICIENCY_SCORE\n",
    "proportion_metric = enum_constants.ROCProportionMetricsEnum.PI_GROUP\n",
    "fig, (axe1) = roc_instance.plot_roc(\n",
    "    max_threshold=0.0,\n",
    "    threshold_step=1,\n",
    "    threshold_metric=threshold_metric,\n",
    "    proportion_metric=proportion_metric,\n",
    ")"
   ]
  },
  {
   "cell_type": "markdown",
   "id": "378d7938",
   "metadata": {},
   "source": [
    "#### Observation: About 139 (in total of 300 PI group) PI group, 537 (in total of over 1000 users) distinct user whose vram_constraint_efficiency is Null ####"
   ]
  },
  {
   "cell_type": "markdown",
   "id": "755b097a",
   "metadata": {},
   "source": [
    "### Multiple line plot by user ###"
   ]
  },
  {
   "cell_type": "code",
   "execution_count": null,
   "id": "93b0f0a3",
   "metadata": {},
   "outputs": [],
   "source": [
    "from src.analysis.roc_plot import ROCVisualizer\n",
    "\n",
    "roc_instance = ROCVisualizer(db_path=\"../data/slurm_data.db\")"
   ]
  },
  {
   "cell_type": "code",
   "execution_count": null,
   "id": "7df743c9",
   "metadata": {},
   "outputs": [],
   "source": [
    "\n",
    "top_user_with_job_count = roc_instance.jobs_with_efficiency_metrics.groupby(\"User\").agg(\n",
    "    job_count = (\"JobID\", \"count\"),\n",
    "    user_job_hours=(\"job_hours\", \"sum\")\n",
    ").reset_index().sort_values(by=\"job_count\").tail(6)\n",
    "print(top_user_with_job_count)"
   ]
  },
  {
   "cell_type": "code",
   "execution_count": null,
   "id": "c72650b8",
   "metadata": {},
   "outputs": [],
   "source": [
    "from src.config.enum_constants import ROCProportionMetricsEnum, JobEfficiencyMetricsEnum\n",
    "roc_instance.multiple_line_roc_plot(\n",
    "    plot_object_list=list(top_user_with_job_count[\"User\"].to_numpy()),\n",
    "    object_column_type=ROCProportionMetricsEnum.USER,\n",
    "    threshold_metric=JobEfficiencyMetricsEnum.ALLOC_VRAM_EFFICIENCY,\n",
    "    proportion_metric= ROCProportionMetricsEnum.JOB_HOURS,\n",
    "    plot_percentage=False,\n",
    "    min_threshold=0.0,\n",
    "    max_threshold=1.0,\n",
    "    threshold_step=0.001\n",
    ")"
   ]
  },
  {
   "cell_type": "code",
   "execution_count": null,
   "id": "3e1c9b4d",
   "metadata": {},
   "outputs": [],
   "source": [
    "from src.config.enum_constants import ROCProportionMetricsEnum, JobEfficiencyMetricsEnum\n",
    "roc_instance.multiple_line_roc_plot(\n",
    "    plot_object_list=list(top_user_with_job_count[\"User\"].to_numpy()),\n",
    "    # plot_object_list=['dosterman_umass_edu'],\n",
    "    object_column_type=ROCProportionMetricsEnum.USER,\n",
    "    threshold_metric=JobEfficiencyMetricsEnum.ALLOC_VRAM_EFFICIENCY_SCORE,\n",
    "    plot_percentage=False,\n",
    "    min_threshold=-100.0,\n",
    "    max_threshold=0.0,\n",
    "    threshold_step=1.0\n",
    ")"
   ]
  },
  {
   "cell_type": "code",
   "execution_count": null,
   "id": "1f0fbead",
   "metadata": {},
   "outputs": [],
   "source": [
    "#Inspect an outliner\n",
    "cur_df = roc_instance.jobs_with_efficiency_metrics.copy()\n",
    "filtered = cur_df[cur_df[\"User\"] == \"dosterman_umass_edu\"].copy()\n",
    "group = filtered.groupby(\"User\").agg(\n",
    "    job_count = (\"JobID\", \"count\"),\n",
    "    job_hours = (\"job_hours\", \"sum\"),\n",
    "    vram_efficiency_score = (JobEfficiencyMetricsEnum.ALLOC_VRAM_EFFICIENCY.value, \"sum\"),\n",
    "    allocated_vram = (\"allocated_vram\", \"sum\"),\n",
    "    used_vram = (\"used_vram_gib\", \"sum\")\n",
    ").reset_index()\n",
    "print(group)"
   ]
  },
  {
   "cell_type": "markdown",
   "id": "3f060a78",
   "metadata": {},
   "source": [
    "### Multiple plot ROC by PI Group ###"
   ]
  },
  {
   "cell_type": "code",
   "execution_count": null,
   "id": "30f5980b",
   "metadata": {},
   "outputs": [],
   "source": [
    "from src.analysis.roc_plot import ROCVisualizer\n",
    "\n",
    "roc_instance = ROCVisualizer(db_path=\"../data/slurm_data.db\")"
   ]
  },
  {
   "cell_type": "code",
   "execution_count": null,
   "id": "a590c5fb",
   "metadata": {},
   "outputs": [],
   "source": [
    "from src.config.enum_constants import ROCProportionMetricsEnum, JobEfficiencyMetricsEnum\n",
    "cur_df = roc_instance.jobs_with_efficiency_metrics\n",
    "top_pi_group_job_counts = cur_df.groupby(ROCProportionMetricsEnum.PI_GROUP.value).agg(\n",
    "    job_count = (\"JobID\", \"count\"),\n",
    "    job_hours = (\"job_hours\", \"sum\")\n",
    ").reset_index().sort_values(by = \"job_count\").tail(6)\n",
    "top_pi_group_job_counts"
   ]
  },
  {
   "cell_type": "code",
   "execution_count": null,
   "id": "1b5182a1",
   "metadata": {},
   "outputs": [],
   "source": [
    "roc_instance.multiple_line_roc_plot(\n",
    "    plot_object_list=list(top_pi_group_job_counts[ROCProportionMetricsEnum.PI_GROUP.value].to_numpy()),\n",
    "    object_column_type=ROCProportionMetricsEnum.PI_GROUP,\n",
    "    max_threshold=1.0,\n",
    "    min_threshold=0.0,\n",
    "    threshold_step=0.001,\n",
    "    plot_percentage=False\n",
    ")"
   ]
  },
  {
   "cell_type": "code",
   "execution_count": null,
   "id": "b40fa9f6",
   "metadata": {},
   "outputs": [],
   "source": [
    "roc_instance.multiple_line_roc_plot(\n",
    "    plot_object_list=list(top_pi_group_job_counts[ROCProportionMetricsEnum.PI_GROUP.value].to_numpy()),\n",
    "    object_column_type=ROCProportionMetricsEnum.PI_GROUP,\n",
    "    threshold_metric=JobEfficiencyMetricsEnum.ALLOC_VRAM_EFFICIENCY_SCORE,\n",
    "    max_threshold=0.0,\n",
    "    min_threshold=-50.0,\n",
    "    threshold_step=1.0,\n",
    "    plot_percentage=False\n",
    ")"
   ]
  }
 ],
 "metadata": {
  "language_info": {
   "name": "python"
  }
 },
 "nbformat": 4,
 "nbformat_minor": 5
}
