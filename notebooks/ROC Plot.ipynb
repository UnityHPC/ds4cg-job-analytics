{
 "cells": [
  {
   "cell_type": "markdown",
   "id": "83295ddd",
   "metadata": {},
   "source": [
    "## ROC Plot ##"
   ]
  },
  {
   "cell_type": "code",
   "execution_count": null,
   "id": "15e2eac5",
   "metadata": {},
   "outputs": [],
   "source": [
    "# Import required modules\n",
    "import sys\n",
    "from pathlib import Path"
   ]
  },
  {
   "cell_type": "code",
   "execution_count": null,
   "id": "024d5aa4",
   "metadata": {},
   "outputs": [],
   "source": [
    "#import project root into modules\n",
    "project_root = str(Path.cwd().resolve().parent)\n",
    "if project_root not in sys.path:\n",
    "    sys.path.append(project_root)\n",
    "\n"
   ]
  },
  {
   "cell_type": "code",
   "execution_count": null,
   "id": "005e9a55",
   "metadata": {},
   "outputs": [],
   "source": [
    "from src.analysis import roc_plot\n",
    "from src.config import enum_constants\n",
    "# Automatically reload modules before executing code\n",
    "%load_ext autoreload\n",
    "# Reload all modules imported with %aimport every time before executing the Python code typed.\n",
    "%autoreload 1\n",
    "%aimport src.analysis.roc_plot, src.config.enum_constants"
   ]
  },
  {
   "cell_type": "code",
   "execution_count": null,
   "id": "d136fed5",
   "metadata": {},
   "outputs": [],
   "source": [
    "#initilize the ROCVisualizer instance \n",
    "roc_instance = roc_plot.ROCVisualizer(db_path=\"../data/slurm_data_small.db\")"
   ]
  },
  {
   "cell_type": "markdown",
   "id": "7ec5c38f",
   "metadata": {},
   "source": [
    "### Threshold: alloc_vram_efficiency ###"
   ]
  },
  {
   "cell_type": "code",
   "execution_count": null,
   "id": "af4e36f5",
   "metadata": {},
   "outputs": [],
   "source": [
    "# roc_instance = roc_plot.ROCVisualizer(db_path=\"../data/slurm_data.db\")\n",
    "threshold_metric = enum_constants.JobEfficiencyMetricsEnum.ALLOC_VRAM_EFFICIENCY\n",
    "proportion_metric = enum_constants.ROCProportionMetricsEnum.JOB_HOURS\n",
    "fig, (axe1) = roc_instance.plot_roc(\n",
    "    max_threshold=1.0,\n",
    "    threshold_step=0.001,\n",
    "    threshold_metric=threshold_metric,\n",
    "    proportion_metric=proportion_metric\n",
    ")"
   ]
  },
  {
   "cell_type": "code",
   "execution_count": null,
   "id": "fb088c93",
   "metadata": {},
   "outputs": [],
   "source": [
    "threshold_metric = enum_constants.JobEfficiencyMetricsEnum.ALLOC_VRAM_EFFICIENCY\n",
    "proportion_metric = enum_constants.ROCProportionMetricsEnum.JOBS\n",
    "fig, (axe1) = roc_instance.plot_roc(\n",
    "    max_threshold=1.0,\n",
    "    threshold_step=0.001,\n",
    "    threshold_metric=threshold_metric,\n",
    "    proportion_metric=proportion_metric\n",
    ")\n"
   ]
  },
  {
   "cell_type": "code",
   "execution_count": null,
   "id": "07a08fd6",
   "metadata": {},
   "outputs": [],
   "source": [
    "#plot raw numbers of jobs\n",
    "threshold_metric = enum_constants.JobEfficiencyMetricsEnum.ALLOC_VRAM_EFFICIENCY\n",
    "proportion_metric = enum_constants.ROCProportionMetricsEnum.JOBS\n",
    "fig, (axe1)= roc_instance.plot_roc(\n",
    "    max_threshold=1.0,\n",
    "    threshold_step=0.001,\n",
    "    threshold_metric=threshold_metric,\n",
    "    proportion_metric=proportion_metric,\n",
    "    plot_percentage=False\n",
    ")"
   ]
  },
  {
   "cell_type": "code",
   "execution_count": null,
   "id": "6af4e51c",
   "metadata": {},
   "outputs": [],
   "source": [
    "#plot raw number of job_hours\n",
    "threshold_metric = enum_constants.JobEfficiencyMetricsEnum.ALLOC_VRAM_EFFICIENCY\n",
    "proportion_metric = enum_constants.ROCProportionMetricsEnum.JOB_HOURS\n",
    "fig, (axe1) = roc_instance.plot_roc(\n",
    "    max_threshold=1.0,\n",
    "    threshold_step=0.001,\n",
    "    threshold_metric=threshold_metric,\n",
    "    proportion_metric=proportion_metric,\n",
    "    plot_percentage=False\n",
    ")"
   ]
  },
  {
   "cell_type": "markdown",
   "id": "23319b47",
   "metadata": {},
   "source": [
    "### Threshold : vram_constraints_efficiency ###"
   ]
  },
  {
   "cell_type": "code",
   "execution_count": null,
   "id": "c3e085b7",
   "metadata": {},
   "outputs": [],
   "source": [
    "#plot raw number of job_hours\n",
    "threshold_metric = enum_constants.JobEfficiencyMetricsEnum.VRAM_CONSTRAINT_EFFICIENCY\n",
    "proportion_metric = enum_constants.ROCProportionMetricsEnum.JOBS\n",
    "fig, (axe1) = roc_instance.plot_roc(\n",
    "    max_threshold=1.25,\n",
    "    threshold_step=0.001,\n",
    "    threshold_metric=threshold_metric,\n",
    "    proportion_metric=proportion_metric\n",
    ")"
   ]
  },
  {
   "cell_type": "code",
   "execution_count": null,
   "id": "78474d02",
   "metadata": {},
   "outputs": [],
   "source": [
    "#plot raw number of job_hours\n",
    "threshold_metric = enum_constants.JobEfficiencyMetricsEnum.VRAM_CONSTRAINT_EFFICIENCY\n",
    "proportion_metric = enum_constants.ROCProportionMetricsEnum.JOB_HOURS\n",
    "fig, (axe1) = roc_instance.plot_roc(\n",
    "    max_threshold=1.5,\n",
    "    threshold_step=0.001,\n",
    "    threshold_metric=threshold_metric,\n",
    "    proportion_metric=proportion_metric,\n",
    "    plot_percentage=False\n",
    ")"
   ]
  },
  {
   "cell_type": "markdown",
   "id": "f2dca437",
   "metadata": {},
   "source": [
    "### Threshold : alloc_vram_efficiency_score ###"
   ]
  },
  {
   "cell_type": "code",
   "execution_count": null,
   "id": "a3a77a67",
   "metadata": {},
   "outputs": [],
   "source": [
    "# roc_instance = roc_plot.ROCVisualizer(db_path=\"../data/slurm_data.db\")\n",
    "roc_instance = roc_plot.ROCVisualizer(db_path=\"../data/slurm_data.db\")\n"
   ]
  },
  {
   "cell_type": "code",
   "execution_count": null,
   "id": "c1061263",
   "metadata": {},
   "outputs": [],
   "source": [
    "#for alloc_vram_efficiency_score, we need to adjust the min_threshold manually\n",
    "\n",
    "#plot raw number of job_hours\n",
    "threshold_metric = enum_constants.JobEfficiencyMetricsEnum.ALLOC_VRAM_EFFICIENCY_SCORE\n",
    "proportion_metric = enum_constants.ROCProportionMetricsEnum.JOBS\n",
    "fig, (axe1) = roc_instance.plot_roc(\n",
    "    min_threshold=-300.0,\n",
    "    max_threshold=0.0,\n",
    "    threshold_step=0.1,\n",
    "    threshold_metric=threshold_metric,\n",
    "    proportion_metric=proportion_metric,\n",
    ")"
   ]
  },
  {
   "cell_type": "code",
   "execution_count": null,
   "id": "4e9c49de",
   "metadata": {},
   "outputs": [],
   "source": [
    "#for alloc_vram_efficiency_score, we need to adjust the min_threshold manually\n",
    "\n",
    "#plot raw number of job_hours\n",
    "threshold_metric = enum_constants.JobEfficiencyMetricsEnum.ALLOC_VRAM_EFFICIENCY_SCORE\n",
    "proportion_metric = enum_constants.ROCProportionMetricsEnum.JOB_HOURS\n",
    "fig, (axe1) = roc_instance.plot_roc(\n",
    "    max_threshold=0.0,\n",
    "    threshold_step=0.1,\n",
    "    threshold_metric=threshold_metric,\n",
    "    proportion_metric=proportion_metric,\n",
    ")"
   ]
  }
 ],
 "metadata": {
  "language_info": {
   "name": "python"
  }
 },
 "nbformat": 4,
 "nbformat_minor": 5
}
