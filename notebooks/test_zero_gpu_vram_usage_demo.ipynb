{
 "cells": [
  {
   "cell_type": "markdown",
   "id": "c99c534f",
   "metadata": {},
   "source": [
    "# Test and Demonstrate zero_gpu_vram_usage Analysis\n",
    "\n",
    "This notebook tests and demonstrates the main functions in `src/analysis/zero_gpu_vram_usage.py` for analyzing hybrid workload efficiency and CPU-GPU balance."
   ]
  },
  {
   "cell_type": "code",
   "execution_count": 2,
   "id": "474cfe7a",
   "metadata": {},
   "outputs": [
    {
     "ename": "ModuleNotFoundError",
     "evalue": "No module named 'database.DatabaseConnection'",
     "output_type": "error",
     "traceback": [
      "\u001b[31m---------------------------------------------------------------------------\u001b[39m",
      "\u001b[31mModuleNotFoundError\u001b[39m                       Traceback (most recent call last)",
      "\u001b[36mCell\u001b[39m\u001b[36m \u001b[39m\u001b[32mIn[2]\u001b[39m\u001b[32m, line 9\u001b[39m\n\u001b[32m      6\u001b[39m \u001b[38;5;66;03m# Add src to sys.path for module imports\u001b[39;00m\n\u001b[32m      7\u001b[39m sys.path.append(\u001b[38;5;28mstr\u001b[39m(Path.cwd().parent / \u001b[33m'\u001b[39m\u001b[33msrc\u001b[39m\u001b[33m'\u001b[39m))\n\u001b[32m----> \u001b[39m\u001b[32m9\u001b[39m \u001b[38;5;28;01mfrom\u001b[39;00m\u001b[38;5;250m \u001b[39m\u001b[34;01manalysis\u001b[39;00m\u001b[38;5;250m \u001b[39m\u001b[38;5;28;01mimport\u001b[39;00m zero_gpu_vram_usage\n",
      "\u001b[36mFile \u001b[39m\u001b[32mc:\\Users\\ayush\\Desktop\\Coding\\DS4CG\\ds4cg-job-analytics\\src\\analysis\\zero_gpu_vram_usage.py:10\u001b[39m\n\u001b[32m      8\u001b[39m \u001b[38;5;28;01mfrom\u001b[39;00m\u001b[38;5;250m \u001b[39m\u001b[34;01mpathlib\u001b[39;00m\u001b[38;5;250m \u001b[39m\u001b[38;5;28;01mimport\u001b[39;00m Path\n\u001b[32m      9\u001b[39m \u001b[38;5;28;01mfrom\u001b[39;00m\u001b[38;5;250m \u001b[39m\u001b[34;01mpreprocess\u001b[39;00m\u001b[34;01m.\u001b[39;00m\u001b[34;01mpreprocess\u001b[39;00m\u001b[38;5;250m \u001b[39m\u001b[38;5;28;01mimport\u001b[39;00m preprocess_data\n\u001b[32m---> \u001b[39m\u001b[32m10\u001b[39m \u001b[38;5;28;01mfrom\u001b[39;00m\u001b[38;5;250m \u001b[39m\u001b[34;01mdatabase\u001b[39;00m\u001b[34;01m.\u001b[39;00m\u001b[34;01mDatabaseConnection\u001b[39;00m\u001b[38;5;250m \u001b[39m\u001b[38;5;28;01mimport\u001b[39;00m DatabaseConnection\n\u001b[32m     12\u001b[39m \u001b[38;5;28;01mdef\u001b[39;00m\u001b[38;5;250m \u001b[39m\u001b[34mload_jobs_dataframe_from_duckdb\u001b[39m(db_path=\u001b[38;5;28;01mNone\u001b[39;00m, table_name=\u001b[33m\"\u001b[39m\u001b[33mJobs\u001b[39m\u001b[33m\"\u001b[39m):\n\u001b[32m     13\u001b[39m \u001b[38;5;250m    \u001b[39m\u001b[33;03m\"\"\"\u001b[39;00m\n\u001b[32m     14\u001b[39m \u001b[33;03m    Connect to the DuckDB slurm_data_small.db and return the jobs table as a pandas DataFrame.\u001b[39;00m\n\u001b[32m     15\u001b[39m \n\u001b[32m   (...)\u001b[39m\u001b[32m     21\u001b[39m \u001b[33;03m        pd.DataFrame: DataFrame containing the table data.\u001b[39;00m\n\u001b[32m     22\u001b[39m \u001b[33;03m    \"\"\"\u001b[39;00m\n",
      "\u001b[31mModuleNotFoundError\u001b[39m: No module named 'database.DatabaseConnection'"
     ]
    }
   ],
   "source": [
    "# Import required modules\n",
    "import sys\n",
    "from pathlib import Path\n",
    "import pandas as pd\n",
    "\n",
    "# Add src to sys.path for module imports\n",
    "sys.path.append(str(Path.cwd().parent / 'src'))\n",
    "\n",
    "from analysis import zero_gpu_vram_usage"
   ]
  },
  {
   "cell_type": "code",
   "execution_count": null,
   "id": "b9359836",
   "metadata": {},
   "outputs": [],
   "source": [
    "# Load the jobs DataFrame from DuckDB\n",
    "df = zero_gpu_vram_usage.load_jobs_dataframe_from_duckdb()\n",
    "display(df.head())"
   ]
  },
  {
   "cell_type": "code",
   "execution_count": null,
   "id": "6902e87f",
   "metadata": {},
   "outputs": [],
   "source": [
    "# Run analyze_hybrid_workload_efficiency\n",
    "df_hybrid = zero_gpu_vram_usage.analyze_hybrid_workload_efficiency(df)\n",
    "display(df_hybrid.head())\n",
    "print(f\"Hybrid jobs found: {len(df_hybrid)}\")"
   ]
  },
  {
   "cell_type": "code",
   "execution_count": null,
   "id": "8a9160ac",
   "metadata": {},
   "outputs": [],
   "source": [
    "# Run evaluate_cpu_gpu_balance\n",
    "analysis_results = zero_gpu_vram_usage.evaluate_cpu_gpu_balance(df_hybrid)\n",
    "\n",
    "# Display key summary statistics\n",
    "print(\"Total jobs:\", analysis_results['total_jobs'])\n",
    "print(\"Total GPU hours:\", analysis_results['total_gpu_hours'])\n",
    "print(\"Average VRAM efficiency:\", f\"{analysis_results['avg_efficiency']:.2%}\")\n",
    "print(\"Median VRAM efficiency:\", f\"{analysis_results['median_efficiency']:.2%}\")\n",
    "\n",
    "# Show recommendations\n",
    "print(\"\\nRecommendations:\")\n",
    "for rec in analysis_results['recommendations']:\n",
    "    print(\"-\", rec)\n",
    "\n",
    "# Display efficiency patterns table\n",
    "analysis_results['efficiency_patterns']"
   ]
  },
  {
   "cell_type": "code",
   "execution_count": null,
   "id": "b78c2ba7",
   "metadata": {},
   "outputs": [],
   "source": [
    "import matplotlib.pyplot as plt\n",
    "import seaborn as sns\n",
    "\n",
    "# Plot VRAM efficiency distribution\n",
    "plt.figure(figsize=(8, 5))\n",
    "sns.histplot(df_hybrid['vram_efficiency'].dropna(), bins=30, kde=True)\n",
    "plt.xlabel('VRAM Efficiency')\n",
    "plt.ylabel('Number of Jobs')\n",
    "plt.title('Distribution of VRAM Efficiency for Hybrid Jobs')\n",
    "plt.show()\n",
    "\n",
    "# Plot top inefficient users by GPU hours\n",
    "if 'top_inefficient_users' in analysis_results:\n",
    "    top_users = analysis_results['top_inefficient_users'].head(10)\n",
    "    plt.figure(figsize=(10, 5))\n",
    "    sns.barplot(y=top_users.index, x=top_users['GPU_Hours'], orient='h')\n",
    "    plt.xlabel('GPU Hours')\n",
    "    plt.ylabel('User')\n",
    "    plt.title('Top 10 Users by GPU Hours (Hybrid Jobs)')\n",
    "    plt.show()"
   ]
  }
 ],
 "metadata": {
  "kernelspec": {
   "display_name": "duckdb",
   "language": "python",
   "name": "python3"
  },
  "language_info": {
   "codemirror_mode": {
    "name": "ipython",
    "version": 3
   },
   "file_extension": ".py",
   "mimetype": "text/x-python",
   "name": "python",
   "nbconvert_exporter": "python",
   "pygments_lexer": "ipython3",
   "version": "3.11.9"
  }
 },
 "nbformat": 4,
 "nbformat_minor": 5
}
