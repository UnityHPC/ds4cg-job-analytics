{
 "cells": [
  {
   "cell_type": "markdown",
   "id": "c99c534f",
   "metadata": {},
   "source": [
    "# Test and Demonstrate zero_gpu_vram_usage Analysis\n",
    "\n",
    "This notebook tests and demonstrates the main functions in `src/analysis/zero_gpu_vram_usage.py` for analyzing hybrid workload efficiency and CPU-GPU balance."
   ]
  },
  {
   "cell_type": "code",
   "execution_count": null,
   "id": "9e2966db",
   "metadata": {},
   "outputs": [],
   "source": [
    "# Import required modules\n",
    "import sys\n",
    "from pathlib import Path\n",
    "\n",
    "# Add src to sys.path for module imports\n",
    "sys.path.append(str(Path.cwd().parent / \"src\"))"
   ]
  },
  {
   "cell_type": "code",
   "execution_count": null,
   "id": "5ed424e4",
   "metadata": {},
   "outputs": [],
   "source": [
    "project_root = str(Path.cwd().resolve().parent)\n",
    "print(f\"Project root: {project_root}\")"
   ]
  },
  {
   "cell_type": "code",
   "execution_count": null,
   "id": "250c250e",
   "metadata": {},
   "outputs": [],
   "source": [
    "# Add project root to sys.path for module imports\n",
    "if project_root not in sys.path:\n",
    "    sys.path.insert(0, project_root)\n",
    "\n",
    "from src.analysis.vram_usage import EfficiencyAnalysis\n",
    "\n",
    "# Automatically reload modules before executing code\n",
    "# This is useful for development to see changes without restarting the kernel.\n",
    "%load_ext autoreload\n",
    "# Reload all modules imported with %aimport every time before executing the Python code typed.\n",
    "%autoreload 1\n",
    "%aimport src.analysis.vram_usage"
   ]
  },
  {
   "cell_type": "code",
   "execution_count": null,
   "id": "9ff2006d",
   "metadata": {},
   "outputs": [],
   "source": [
    "from src.database.DatabaseConnection import DatabaseConnection\n",
    "\n",
    "# Connect to the database\n",
    "db = DatabaseConnection(db_url=\"../slurm_data_new.db\")\n",
    "\n",
    "# Query jobs with GPUs\n",
    "gpu_df = db.connection.query(\"SELECT * FROM Jobs WHERE GPUs > 0\").to_df()"
   ]
  },
  {
   "cell_type": "code",
   "execution_count": null,
   "id": "474cfe7a",
   "metadata": {},
   "outputs": [],
   "source": [
    "# Initialize the EfficiencyAnalysis class\n",
    "analysis = EfficiencyAnalysis(df=gpu_df)\n",
    "\n",
    "# Load jobs data\n",
    "jobs_df = analysis.jobs_df\n",
    "\n",
    "# Display the loaded data\n",
    "display(jobs_df.head())"
   ]
  },
  {
   "cell_type": "code",
   "execution_count": null,
   "id": "47eb5ebf",
   "metadata": {},
   "outputs": [],
   "source": [
    "import pandas as pd\n",
    "multi = gpu_df[gpu_df[\"GPUs\"] > 1]\n",
    "display(jobs_df[\"StartTime\"].head(10))\n",
    "display(jobs_df[\"StartTime\"].tail(10))\n"
   ]
  },
  {
   "cell_type": "code",
   "execution_count": null,
   "id": "b9359836",
   "metadata": {},
   "outputs": [],
   "source": [
    "# Calculate efficiency metrics\n",
    "from src.preprocess.preprocess import preprocess_data\n",
    "\n",
    "preprocessed_df = preprocess_data(jobs_df)\n",
    "\n",
    "analysis.jobs_df = preprocessed_df\n",
    "\n",
    "filtered_jobs = analysis.calculate_efficiency_metrics(\n",
    "    vram_constraint_filter=0, allocated_vram_greater_than=0, gpu_mem_usage_min=0, gpus_min=1, elapsed_seconds_min=600\n",
    ")\n",
    "\n",
    "# Display the filtered jobs\n",
    "display(filtered_jobs.head())"
   ]
  },
  {
   "cell_type": "code",
   "execution_count": null,
   "id": "9a4e6530",
   "metadata": {},
   "outputs": [],
   "source": [
    "# Run evaluate_cpu_gpu_balance\n",
    "analysis_results = analysis.evaluate_cpu_gpu_usage()\n",
    "\n",
    "# Display key summary statistics\n",
    "print(\"Total jobs:\", analysis_results[\"total_jobs\"])\n",
    "print(\"Total GPU hours:\", analysis_results[\"total_gpu_hours\"])\n",
    "print(\"Average VRAM efficiency:\", f\"{analysis_results['avg_efficiency']:.2%}\")\n",
    "print(\"Median VRAM efficiency:\", f\"{analysis_results['median_efficiency']:.2%}\")\n",
    "\n",
    "# Show recommendations\n",
    "print(\"\\nRecommendations:\")\n",
    "for rec in analysis_results[\"report\"]:\n",
    "    print(\"-\", rec)\n",
    "# Display efficiency patterns table\n",
    "analysis_results[\"efficiency_patterns\"]"
   ]
  },
  {
   "cell_type": "code",
   "execution_count": null,
   "id": "8a9160ac",
   "metadata": {},
   "outputs": [],
   "source": [
    "import matplotlib.pyplot as plt\n",
    "import seaborn as sns\n",
    "\n",
    "# Plot VRAM efficiency distribution\n",
    "plt.figure(figsize=(8, 5))\n",
    "sns.histplot(filtered_jobs[\"vram_efficiency\"].dropna(), bins=30, kde=True)\n",
    "plt.xlabel(\"VRAM Efficiency\")\n",
    "plt.ylabel(\"Number of Jobs\")\n",
    "plt.title(\"Distribution of VRAM Efficiency for Hybrid Jobs\")\n",
    "plt.xlim(0, 1.0)\n",
    "plt.show()\n",
    "\n",
    "# print(analysis_results['top_inefficient_users'].head(5))\n",
    "\n",
    "# Plot top inefficient users by GPU hours\n",
    "if \"top_inefficient_users\" in analysis_results:\n",
    "    top_users = analysis_results[\"top_inefficient_users\"].head(10)\n",
    "    plt.figure(figsize=(10, 5))\n",
    "    sns.barplot(y=top_users.index, x=top_users[\"GPU_Hours\"], orient=\"h\")\n",
    "    plt.xlabel(\"GPU Hours\")\n",
    "    plt.ylabel(\"User\")\n",
    "    plt.title(\"Top 10 Inefficient Users by GPU Hours (Hybrid Jobs)\")\n",
    "    plt.show()"
   ]
  }
 ],
 "metadata": {
  "language_info": {
   "name": "python"
  }
 },
 "nbformat": 4,
 "nbformat_minor": 5
}
