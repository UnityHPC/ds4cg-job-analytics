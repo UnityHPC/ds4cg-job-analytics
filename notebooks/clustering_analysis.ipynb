{
 "cells": [
  {
   "cell_type": "code",
   "execution_count": null,
   "id": "fe6e2eda",
   "metadata": {},
   "outputs": [],
   "source": [
    "import sys\n",
    "from pathlib import Path\n",
    "\n",
    "# Add src to sys.path for module imports\n",
    "sys.path.append(str(Path.cwd().parent / \"src\"))"
   ]
  },
  {
   "cell_type": "code",
   "execution_count": null,
   "id": "1411c287",
   "metadata": {},
   "outputs": [],
   "source": [
    "project_root = str(Path.cwd().resolve().parent)\n",
    "print(f\"Project root: {project_root}\")\n",
    "\n",
    "# Add project root to sys.path for module imports\n",
    "if project_root not in sys.path:\n",
    "    sys.path.insert(0, project_root)\n",
    "\n",
    "\n",
    "# Automatically reload modules before executing code\n",
    "# This is useful for development to see changes without restarting the kernel.\n",
    "%load_ext autoreload\n",
    "# Reload all modules imported with %aimport every time before executing the Python code typed.\n",
    "%autoreload 1\n",
    "%aimport src.analysis.vram_usage, src.preprocess.preprocess\n"
   ]
  },
  {
   "cell_type": "code",
   "execution_count": null,
   "id": "a5da1902",
   "metadata": {},
   "outputs": [],
   "source": [
    "# Import required libraries and modules\n",
    "import numpy as np\n",
    "import matplotlib.pyplot as plt\n",
    "import seaborn as sns\n",
    "from sklearn.cluster import KMeans\n",
    "from src.analysis.vram_usage import EfficiencyAnalysis\n",
    "from src.preprocess.preprocess import preprocess_data\n",
    "from src.database.database_connection import DatabaseConnection\n",
    "\n"
   ]
  },
  {
   "cell_type": "code",
   "execution_count": null,
   "id": "d7f786a2",
   "metadata": {},
   "outputs": [],
   "source": [
    "from src.analysis.vram_usage import EfficiencyAnalysis\n",
    "from src.preprocess.preprocess import preprocess_data\n",
    "from src.database.database_connection import DatabaseConnection\n",
    "\n"
   ]
  },
  {
   "cell_type": "code",
   "execution_count": null,
   "id": "e6a25f46",
   "metadata": {},
   "outputs": [],
   "source": [
    "efficiency_analyzer = EfficiencyAnalysis()\n",
    "\n",
    "# Filter jobs for clustering analysis\n",
    "gpu_jobs = efficiency_analyzer.filter_jobs_for_analysis(allocated_vram_filter=0,\n",
    "    gpu_count_filter=1, vram_constraint_filter=None, gpu_mem_usage_filter={\"min\": 0, \"max\": np.inf, \"inclusive\": False}\n",
    ")\n",
    "     \n"
   ]
  },
  {
   "cell_type": "code",
   "execution_count": null,
   "id": "5dfb1c5a",
   "metadata": {},
   "outputs": [],
   "source": [
    "# Calculate user efficiency metrics\n",
    "jobs_df = efficiency_analyzer.calculate_job_efficiency_metrics(gpu_jobs)\n",
    "user_efficiency_data = jobs_df\n",
    "print(user_efficiency_data.columns)\n",
    "# Group users by usage category\n",
    "low_usage_threshold = 0.2\n",
    "user_efficiency_data[\"Usage_Group\"] = user_efficiency_data[\"alloc_vram_efficiency\"].apply(\n",
    "    lambda x: \"Low Usage\" if x < low_usage_threshold else \"High Usage\"\n",
    ")\n",
    "\n",
    "# Display grouped data\n",
    "print(\"Grouped Data by Usage:\")\n",
    "print(user_efficiency_data.groupby(\"Usage_Group\").size())\n",
    "     \n"
   ]
  },
  {
   "cell_type": "code",
   "execution_count": null,
   "id": "227b5352",
   "metadata": {},
   "outputs": [],
   "source": [
    "# Determine the optimal number of clusters using the elbow method\n",
    "clustering_data = user_efficiency_data[[\"alloc_vram_efficiency\"]]\n",
    "clustering_data = clustering_data.replace([np.inf, -np.inf], np.nan).dropna()\n",
    "\n",
    "print(clustering_data.describe())\n",
    "\n",
    "inertia = []\n",
    "for n_clusters in range(1, 11):\n",
    "    kmeans = KMeans(n_clusters=n_clusters, random_state=42)\n",
    "    kmeans.fit(clustering_data)\n",
    "    inertia.append(kmeans.inertia_)\n",
    "\n",
    "# Plot the elbow method\n",
    "plt.figure(figsize=(8, 5))\n",
    "plt.plot(range(1, 11), inertia, marker=\"o\")\n",
    "plt.xlabel(\"Number of Clusters\")\n",
    "plt.ylabel(\"Inertia\")\n",
    "plt.title(\"Elbow Method for Optimal Clusters\")\n",
    "plt.show()\n",
    "     "
   ]
  },
  {
   "cell_type": "code",
   "execution_count": null,
   "id": "c3276890",
   "metadata": {},
   "outputs": [],
   "source": [
    "# Apply KMeans clustering\n",
    "optimal_clusters = 3  # Replace with the optimal number of clusters determined from the elbow method\n",
    "kmeans = KMeans(n_clusters=optimal_clusters, random_state=42)\n",
    "\n",
    "# Fit and predict clusters for the filtered data\n",
    "clustering_data[\"Cluster\"] = kmeans.fit_predict(clustering_data)\n",
    "\n",
    "# Merge the cluster assignments back into the original DataFrame\n",
    "user_efficiency_data = user_efficiency_data.merge(\n",
    "    clustering_data[[\"Cluster\"]], left_index=True, right_index=True, how=\"left\"\n",
    ")\n",
    "\n",
    "# Display the clustered data\n",
    "print(\"Clustered Data by User:\")\n",
    "print(user_efficiency_data)\n",
    "     "
   ]
  },
  {
   "cell_type": "code",
   "execution_count": null,
   "id": "fe39688d",
   "metadata": {},
   "outputs": [],
   "source": [
    "# Visualize the clusters\n",
    "plt.figure(figsize=(10, 6))\n",
    "sns.scatterplot(\n",
    "    x=user_efficiency_data.index,\n",
    "    y=user_efficiency_data[\"alloc_vram_efficiency\"],\n",
    "    hue=user_efficiency_data[\"Cluster\"],\n",
    "    palette=\"viridis\",\n",
    ")\n",
    "plt.xlabel(\"User\")\n",
    "plt.ylabel(\"Weighted VRAM Efficiency Contribution\")\n",
    "plt.title(f\"Clustering of Users by Weighted VRAM Efficiency (Optimal Clusters: {optimal_clusters})\")\n",
    "plt.xticks([])\n",
    "plt.tight_layout()\n",
    "plt.show()"
   ]
  }
 ],
 "metadata": {
  "kernelspec": {
   "display_name": "duckdb",
   "language": "python",
   "name": "python3"
  },
  "language_info": {
   "codemirror_mode": {
    "name": "ipython",
    "version": 3
   },
   "file_extension": ".py",
   "mimetype": "text/x-python",
   "name": "python",
   "nbconvert_exporter": "python",
   "pygments_lexer": "ipython3",
   "version": "3.11.13"
  }
 },
 "nbformat": 4,
 "nbformat_minor": 5
}
