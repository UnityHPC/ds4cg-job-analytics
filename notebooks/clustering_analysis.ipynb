{
 "cells": [
  {
   "cell_type": "code",
   "execution_count": null,
   "id": "a62d67df",
   "metadata": {},
   "outputs": [],
   "source": [
    "import sys\n",
    "from pathlib import Path\n",
    "\n",
    "# Add src to sys.path for module imports\n",
    "sys.path.append(str(Path.cwd().parent / \"src\"))"
   ]
  },
  {
   "cell_type": "code",
   "execution_count": null,
   "id": "2294910f",
   "metadata": {},
   "outputs": [],
   "source": [
    "project_root = str(Path.cwd().resolve().parent)\n",
    "print(f\"Project root: {project_root}\")\n",
    "\n",
    "# Add project root to sys.path for module imports\n",
    "if project_root not in sys.path:\n",
    "    sys.path.insert(0, project_root)\n",
    "\n",
    "\n",
    "# Automatically reload modules before executing code\n",
    "# This is useful for development to see changes without restarting the kernel.\n",
    "%load_ext autoreload\n",
    "# Reload all modules imported with %aimport every time before executing the Python code typed.\n",
    "%autoreload 1\n",
    "%aimport src.analysis.vram_usage, src.preprocess.preprocess"
   ]
  },
  {
   "cell_type": "code",
   "execution_count": null,
   "id": "3188074c",
   "metadata": {},
   "outputs": [],
   "source": [
    "# Import required libraries and modules\n",
    "import numpy as np\n",
    "import matplotlib.pyplot as plt\n",
    "import seaborn as sns\n",
    "from sklearn.cluster import KMeans"
   ]
  },
  {
   "cell_type": "code",
   "execution_count": null,
   "id": "b4442e0c",
   "metadata": {},
   "outputs": [],
   "source": [
    "from src.analysis.efficiency_analysis import EfficiencyAnalysis\n",
    "from src.preprocess.preprocess import preprocess_data\n",
    "from src.database.database_connection import DatabaseConnection\n",
    "\n",
    "# Connect to the database\n",
    "db = DatabaseConnection(db_url=\"../slurm_data.db\")\n",
    "\n",
    "# Query jobs with GPUs\n",
    "gpu_df = db.connection.query(\"SELECT * FROM Jobs WHERE GPUs > 0\").to_df()"
   ]
  },
  {
   "cell_type": "code",
   "execution_count": null,
   "id": "2a9f0999",
   "metadata": {},
   "outputs": [],
   "source": [
    "# Preprocess the data\n",
    "preprocessed_df = preprocess_data(\n",
    "    gpu_df, min_elapsed_seconds=0, include_failed_cancelled_jobs=False, include_cpu_only_jobs=True\n",
    ")\n",
    "\n",
    "# Initialize the EfficiencyAnalysis class\n",
    "efficiency_analyzer = EfficiencyAnalysis(df=preprocessed_df, table_name=\"Jobs\")\n",
    "\n",
    "# Filter jobs for clustering analysis\n",
    "gpu_jobs = efficiency_analyzer.filter_jobs_for_analysis(\n",
    "    gpu_count_filter=1, vram_constraint_filter=None, gpu_mem_usage_filter={\"min\": 0, \"max\": np.inf, \"inclusive\": False}\n",
    ")"
   ]
  },
  {
   "cell_type": "code",
   "execution_count": null,
   "id": "429acd44",
   "metadata": {},
   "outputs": [],
   "source": [
    "# Calculate user efficiency metrics\n",
    "jobs_df = efficiency_analyzer.calculate_job_efficiency_metrics(gpu_jobs)\n",
    "user_efficiency_data = jobs_df\n",
    "print(user_efficiency_data.columns)\n",
    "# Group users by usage category\n",
    "low_usage_threshold = 0.2\n",
    "user_efficiency_data[\"Usage_Group\"] = user_efficiency_data[\"alloc_vram_efficiency\"].apply(\n",
    "    lambda x: \"Low Usage\" if x < low_usage_threshold else \"High Usage\"\n",
    ")\n",
    "\n",
    "# Display grouped data\n",
    "print(\"Grouped Data by Usage:\")\n",
    "print(user_efficiency_data.groupby(\"Usage_Group\").size())"
   ]
  },
  {
   "cell_type": "code",
   "execution_count": null,
   "id": "2a77eb8c",
   "metadata": {},
   "outputs": [],
   "source": [
    "# Determine the optimal number of clusters using the elbow method\n",
    "# clustering_data = user_efficiency_data[[\"alloc_vram_efficiency\"]]\n",
    "print(user_efficiency_data.columns)\n",
    "# clustering_data = clustering_data.replace([np.inf, -np.inf], np.nan).dropna()\n",
    "user_efficiency_data[\"vram_hours\"] = user_efficiency_data[\"job_hours\"] * user_efficiency_data[\"used_vram_gib\"]\n",
    "clustering_data = user_efficiency_data[[\"alloc_vram_efficiency\"]\n",
    "clustering_data = clustering_data.replace([np.inf, -np.inf], np.nan).dropna()\n",
    "print(clustering_data.describe())\n",
    "\n",
    "inertia = []\n",
    "for n_clusters in range(1, 11):\n",
    "    kmeans = KMeans(n_clusters=n_clusters, random_state=42)\n",
    "    kmeans.fit(clustering_data)\n",
    "    inertia.append(kmeans.inertia_)\n",
    "\n",
    "# Plot the elbow method\n",
    "plt.figure(figsize=(8, 5))\n",
    "plt.plot(range(1, 11), inertia, marker=\"o\")\n",
    "plt.xlabel(\"Number of Clusters\")\n",
    "plt.ylabel(\"Inertia\")\n",
    "plt.title(\"Elbow Method for Optimal Clusters\")\n",
    "plt.show()"
   ]
  },
  {
   "cell_type": "code",
   "execution_count": null,
   "id": "fee4d870",
   "metadata": {},
   "outputs": [],
   "source": [
    "# Apply KMeans clustering\n",
    "optimal_clusters = 4  # Replace with the optimal number of clusters determined from the elbow method\n",
    "kmeans = KMeans(n_clusters=optimal_clusters, random_state=42)\n",
    "\n",
    "# Fit and predict clusters for the filtered data\n",
    "\n",
    "clustering_data[\"Cluster\"] = kmeans.fit_predict(clustering_data)\n",
    "\n",
    "# Merge the cluster assignments back into the original DataFrame\n",
    "user_efficiency_data = user_efficiency_data.merge(\n",
    "    clustering_data[[\"Cluster\"]], left_index=True, right_index=True, how=\"left\"\n",
    ")\n",
    "\n",
    "# Display the clustered data\n",
    "print(\"Clustered Data by User:\")\n",
    "print(user_efficiency_data)"
   ]
  },
  {
   "cell_type": "code",
   "execution_count": null,
   "id": "071ac1fd",
   "metadata": {},
   "outputs": [],
   "source": [
    "# Visualize the clusters\n",
    "plt.figure(figsize=(10, 6))\n",
    "sns.scatterplot(\n",
    "    x=user_efficiency_data.index,\n",
    "    y=user_efficiency_data[\"alloc_vram_efficiency\"].clip(upper=1.0),\n",
    "    hue=user_efficiency_data[\"Cluster\"],\n",
    "    palette=\"viridis\",\n",
    ")\n",
    "plt.xlabel(\"User\")\n",
    "plt.ylabel(\"Weighted VRAM Efficiency Contribution\")\n",
    "plt.title(f\"Clustering of Users by Weighted VRAM Efficiency (Optimal Clusters: {optimal_clusters})\")\n",
    "plt.xticks([])\n",
    "plt.tight_layout()\n",
    "plt.show()"
   ]
  }
 ],
 "metadata": {},
 "nbformat": 4,
 "nbformat_minor": 5
}
