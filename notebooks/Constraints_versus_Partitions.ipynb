{
 "cells": [
  {
   "cell_type": "code",
   "execution_count": 1,
   "id": "c589425c",
   "metadata": {},
   "outputs": [],
   "source": [
    "# Import required modules\n",
    "import sys\n",
    "from pathlib import Path\n",
    "import pandas as pd\n",
    "import matplotlib.pyplot as plt\n",
    "import seaborn as sns\n",
    "import numpy as np"
   ]
  },
  {
   "cell_type": "code",
   "execution_count": 4,
   "id": "fe4eded7",
   "metadata": {},
   "outputs": [
    {
     "name": "stdout",
     "output_type": "stream",
     "text": [
      "Project root: C:\\Users\\Nitya Karthik A\\ds4cg-job-analytics\n"
     ]
    }
   ],
   "source": [
    "project_root = str(Path.cwd().resolve().parent)\n",
    "print(f\"Project root: {project_root}\")"
   ]
  },
  {
   "cell_type": "code",
   "execution_count": 3,
   "id": "dc1e8bdc",
   "metadata": {},
   "outputs": [],
   "source": [
    "# Add project root to sys.path for module imports\n",
    "if project_root not in sys.path:\n",
    "    sys.path.insert(0, project_root)\n",
    "\n",
    "from src.analysis import efficiency_analysis as ea\n",
    "from src.visualization import JobsWithMetricsVisualizer, UsersWithMetricsVisualizer\n",
    "\n",
    "# Automatically reload modules before executing code\n",
    "# This is useful for development to see changes without restarting the kernel.\n",
    "%load_ext autoreload\n",
    "# Reload all modules imported with %aimport every time before executing the Python code typed.\n",
    "%autoreload 2"
   ]
  },
  {
   "cell_type": "code",
   "execution_count": 7,
   "id": "47d6b139",
   "metadata": {},
   "outputs": [
    {
     "ename": "RuntimeError",
     "evalue": "Failed to load jobs DataFrame: IO Error: Cannot open file \"c:\\users\\nitya karthik a\\ds4cg-job-analytics\\notebooks\\..\\data\\slurm_data.db\": The process cannot access the file because it is being used by another process.\r\n\nFile is already open in \nC:\\Users\\Nitya Karthik A\\anaconda3\\envs\\duckdb\\python.exe (PID 24884)",
     "output_type": "error",
     "traceback": [
      "\u001b[31m---------------------------------------------------------------------------\u001b[39m",
      "\u001b[31mIOException\u001b[39m                               Traceback (most recent call last)",
      "\u001b[36mFile \u001b[39m\u001b[32m~\\ds4cg-job-analytics\\src\\analysis\\efficiency_analysis.py:41\u001b[39m, in \u001b[36mload_preprocessed_jobs_dataframe_from_duckdb\u001b[39m\u001b[34m(db_path, table_name, sample_size, random_state)\u001b[39m\n\u001b[32m     40\u001b[39m \u001b[38;5;28;01mtry\u001b[39;00m:\n\u001b[32m---> \u001b[39m\u001b[32m41\u001b[39m     db = \u001b[43mDatabaseConnection\u001b[49m\u001b[43m(\u001b[49m\u001b[38;5;28;43mstr\u001b[39;49m\u001b[43m(\u001b[49m\u001b[43mdb_path\u001b[49m\u001b[43m)\u001b[49m\u001b[43m)\u001b[49m\n\u001b[32m     43\u001b[39m     jobs_df = db.fetch_all_jobs(table_name=table_name)\n",
      "\u001b[36mFile \u001b[39m\u001b[32m<string>:4\u001b[39m, in \u001b[36m__init__\u001b[39m\u001b[34m(self, db_url, read_only)\u001b[39m\n",
      "\u001b[36mFile \u001b[39m\u001b[32m<string>:4\u001b[39m, in \u001b[36m_connect\u001b[39m\u001b[34m(self, read_only)\u001b[39m\n",
      "\u001b[31mIOException\u001b[39m: IO Error: Cannot open file \"c:\\users\\nitya karthik a\\ds4cg-job-analytics\\notebooks\\..\\data\\slurm_data.db\": The process cannot access the file because it is being used by another process.\r\n\nFile is already open in \nC:\\Users\\Nitya Karthik A\\anaconda3\\envs\\duckdb\\python.exe (PID 24884)",
      "\nThe above exception was the direct cause of the following exception:\n",
      "\u001b[31mRuntimeError\u001b[39m                              Traceback (most recent call last)",
      "\u001b[36mCell\u001b[39m\u001b[36m \u001b[39m\u001b[32mIn[7]\u001b[39m\u001b[32m, line 2\u001b[39m\n\u001b[32m      1\u001b[39m \u001b[38;5;66;03m# Load the jobs DataFrame from DuckDB\u001b[39;00m\n\u001b[32m----> \u001b[39m\u001b[32m2\u001b[39m preprocessed_jobs_df = \u001b[43mea\u001b[49m\u001b[43m.\u001b[49m\u001b[43mload_preprocessed_jobs_dataframe_from_duckdb\u001b[49m\u001b[43m(\u001b[49m\n\u001b[32m      3\u001b[39m \u001b[43m    \u001b[49m\u001b[43mdb_path\u001b[49m\u001b[43m=\u001b[49m\u001b[33;43m'\u001b[39;49m\u001b[33;43m../data/slurm_data.db\u001b[39;49m\u001b[33;43m'\u001b[39;49m\u001b[43m,\u001b[49m\n\u001b[32m      4\u001b[39m \u001b[43m    \u001b[49m\u001b[43mtable_name\u001b[49m\u001b[43m=\u001b[49m\u001b[33;43m'\u001b[39;49m\u001b[33;43mJobs\u001b[39;49m\u001b[33;43m'\u001b[39;49m\u001b[43m,\u001b[49m\n\u001b[32m      5\u001b[39m \u001b[43m    \u001b[49m\u001b[43m)\u001b[49m\n\u001b[32m      6\u001b[39m display(preprocessed_jobs_df.head(\u001b[32m10\u001b[39m))\n\u001b[32m      7\u001b[39m \u001b[38;5;28mprint\u001b[39m(preprocessed_jobs_df.shape)\n",
      "\u001b[36mFile \u001b[39m\u001b[32m~\\ds4cg-job-analytics\\src\\analysis\\efficiency_analysis.py:51\u001b[39m, in \u001b[36mload_preprocessed_jobs_dataframe_from_duckdb\u001b[39m\u001b[34m(db_path, table_name, sample_size, random_state)\u001b[39m\n\u001b[32m     49\u001b[39m     \u001b[38;5;28;01mreturn\u001b[39;00m processed_data\n\u001b[32m     50\u001b[39m \u001b[38;5;28;01mexcept\u001b[39;00m \u001b[38;5;167;01mException\u001b[39;00m \u001b[38;5;28;01mas\u001b[39;00m e:\n\u001b[32m---> \u001b[39m\u001b[32m51\u001b[39m     \u001b[38;5;28;01mraise\u001b[39;00m \u001b[38;5;167;01mRuntimeError\u001b[39;00m(\u001b[33mf\u001b[39m\u001b[33m\"\u001b[39m\u001b[33mFailed to load jobs DataFrame: \u001b[39m\u001b[38;5;132;01m{\u001b[39;00me\u001b[38;5;132;01m}\u001b[39;00m\u001b[33m\"\u001b[39m) \u001b[38;5;28;01mfrom\u001b[39;00m\u001b[38;5;250m \u001b[39m\u001b[34;01me\u001b[39;00m\n",
      "\u001b[31mRuntimeError\u001b[39m: Failed to load jobs DataFrame: IO Error: Cannot open file \"c:\\users\\nitya karthik a\\ds4cg-job-analytics\\notebooks\\..\\data\\slurm_data.db\": The process cannot access the file because it is being used by another process.\r\n\nFile is already open in \nC:\\Users\\Nitya Karthik A\\anaconda3\\envs\\duckdb\\python.exe (PID 24884)"
     ]
    }
   ],
   "source": [
    "# Load the jobs DataFrame from DuckDB\n",
    "preprocessed_jobs_df = ea.load_preprocessed_jobs_dataframe_from_duckdb(\n",
    "    db_path='../data/slurm_data.db',\n",
    "    table_name='Jobs',\n",
    "    )\n",
    "display(preprocessed_jobs_df.head(10))\n",
    "print(preprocessed_jobs_df.shape)"
   ]
  },
  {
   "cell_type": "code",
   "execution_count": null,
   "id": "097e4967",
   "metadata": {},
   "outputs": [],
   "source": [
    "#get all unique partitions \n",
    "partitions = preprocessed_jobs_df['Partition'].unique()\n",
    "print(f\"Unique partitions: {partitions}\")\n",
    "    "
   ]
  },
  {
   "cell_type": "code",
   "execution_count": null,
   "id": "fbe280d3",
   "metadata": {},
   "outputs": [],
   "source": [
    "#for each unique partition, get the vram constraint they are setting \n",
    "result = preprocessed_jobs_df.groupby('Partition')['vram_constraint'].unique()\n",
    "print(\"VRAM constraints for each partition:\")\n",
    "for partition, constraints in result.items():\n",
    "    print(f\"Partition: {partition}, VRAM Constraints: {constraints}\")"
   ]
  },
  {
   "cell_type": "code",
   "execution_count": null,
   "id": "e0540b62",
   "metadata": {},
   "outputs": [],
   "source": []
  },
  {
   "cell_type": "code",
   "execution_count": null,
   "id": "17a1216a",
   "metadata": {},
   "outputs": [],
   "source": [
    "def plot_vram_constraints_for_partition(df, partition_name):\n",
    "    \"\"\"\n",
    "    Create a bar plot showing job counts for each VRAM constraint in a specific partition.\n",
    "    \n",
    "    Parameters:\n",
    "    df: DataFrame containing the job data\n",
    "    partition_name: Name of the partition to plot\n",
    "    \"\"\"\n",
    "    # Filter data for the specific partition\n",
    "    partition_data = df[df['Partition'] == partition_name]\n",
    "    \n",
    "    if partition_data.empty:\n",
    "        print(f\"No data found for partition: {partition_name}\")\n",
    "        return\n",
    "    \n",
    "    # Count jobs for each VRAM constraint in this partition\n",
    "    vram_counts = partition_data['vram_constraint'].value_counts().sort_index()\n",
    "    \n",
    "    # Create the bar plot\n",
    "    plt.figure(figsize=(max(6, len(vram_counts) * 0.8), 6))\n",
    "    \n",
    "    # Use categorical x-axis with custom width\n",
    "    x_positions = range(len(vram_counts))\n",
    "    bars = plt.bar(x_positions, vram_counts.values, width=0.6)\n",
    "    \n",
    "    # Customize the plot\n",
    "    plt.title(f'Job Count by VRAM Constraint for Partition: {partition_name}')\n",
    "    plt.xlabel('VRAM Constraint')\n",
    "    plt.ylabel('Number of Jobs')\n",
    "    \n",
    "    # Set x-axis labels to show GB values\n",
    "    plt.xticks(x_positions, [f'{int(vram)}GB' for vram in vram_counts.index])\n",
    "    \n",
    "    # Add value labels on top of bars with smaller font\n",
    "    for i, (bar, count) in enumerate(zip(bars, vram_counts.values)):\n",
    "        plt.text(bar.get_x() + bar.get_width()/2, bar.get_height() + max(1, max(vram_counts.values) * 0.01), \n",
    "                str(count), ha='center', va='bottom', fontsize=10)\n",
    "    \n",
    "    plt.grid(axis='y', alpha=0.3)\n",
    "    plt.tight_layout()\n",
    "    plt.show()\n",
    "    \n",
    "    # Print summary\n",
    "    print(f\"\\nSummary for Partition '{partition_name}':\")\n",
    "    for vram, count in vram_counts.items():\n",
    "        print(f\"  {count} jobs for {vram}GB VRAM constraint\")\n"
   ]
  },
  {
   "cell_type": "code",
   "execution_count": null,
   "id": "2fc6adf0",
   "metadata": {},
   "outputs": [],
   "source": [
    "for partition in partitions:\n",
    "    plot_vram_constraints_for_partition(preprocessed_jobs_df, partition)"
   ]
  },
  {
   "cell_type": "code",
   "execution_count": null,
   "id": "563ab4e0",
   "metadata": {},
   "outputs": [],
   "source": [
    "def plot_percentage_stacked_vram_by_partition(df):\n",
    "    \"\"\"\n",
    "    Create a percentage stacked bar plot (all bars have same height, showing proportions).\n",
    "    \"\"\"\n",
    "    # Create a pivot table\n",
    "    pivot_data = df.groupby(['Partition', 'vram_constraint']).size().unstack(fill_value=0)\n",
    "    \n",
    "    # Convert to percentages\n",
    "    pivot_percentage = pivot_data.div(pivot_data.sum(axis=1), axis=0) * 100\n",
    "    \n",
    "    # Create the plot\n",
    "    fig, ax = plt.subplots(figsize=(max(8, len(pivot_data) * 1.2), 8))\n",
    "    \n",
    "    # Create stacked bars\n",
    "    bottom = np.zeros(len(pivot_percentage))\n",
    "    colors = plt.cm.Set3(np.linspace(0, 1, len(pivot_percentage.columns)))\n",
    "    \n",
    "    for i, (vram_constraint, color) in enumerate(zip(pivot_percentage.columns, colors)):\n",
    "        values = pivot_percentage[vram_constraint].values\n",
    "        bars = ax.bar(range(len(pivot_percentage)), values, bottom=bottom,\n",
    "                     label=f'{int(vram_constraint)}GB', color=color, width=0.7)\n",
    "        \n",
    "        # Add percentage labels\n",
    "        for bar, value in zip(bars, values):\n",
    "            if value > 5:  # Only label segments >5%\n",
    "                ax.text(bar.get_x() + bar.get_width()/2, \n",
    "                       bottom[bars.index(bar)] + value/2,\n",
    "                       f'{value:.1f}%', ha='center', va='center', \n",
    "                       fontsize=9, fontweight='bold')\n",
    "        \n",
    "        bottom += values\n",
    "    \n",
    "    # Customize the plot\n",
    "    ax.set_title('VRAM Constraint Distribution by Partition (Percentage)', fontsize=14, pad=20)\n",
    "    ax.set_xlabel('GPU Partition', fontsize=12)\n",
    "    ax.set_ylabel('Percentage of Jobs', fontsize=12)\n",
    "    \n",
    "    # Set x-axis labels\n",
    "    ax.set_xticks(range(len(pivot_percentage)))\n",
    "    ax.set_xticklabels(pivot_percentage.index, rotation=45 if len(pivot_percentage) > 5 else 0)\n",
    "    \n",
    "    # Add legend\n",
    "    ax.legend(title='VRAM Constraint', bbox_to_anchor=(1.05, 1), loc='upper left')\n",
    "    \n",
    "    # Set y-axis to 0-100%\n",
    "    ax.set_ylim(0, 100)\n",
    "    ax.grid(axis='y', alpha=0.3)\n",
    "    ax.set_axisbelow(True)\n",
    "    \n",
    "    plt.tight_layout()\n",
    "    plt.show()\n"
   ]
  },
  {
   "cell_type": "code",
   "execution_count": null,
   "id": "f4483fd3",
   "metadata": {},
   "outputs": [],
   "source": [
    "# Usage:\n",
    "print(\"Available partitions:\", preprocessed_jobs_df['Partition'].unique())\n",
    "\n",
    "\n",
    "# Or create percentage stacked bar plot\n",
    "plot_percentage_stacked_vram_by_partition(preprocessed_jobs_df)\n"
   ]
  }
 ],
 "metadata": {
  "kernelspec": {
   "display_name": "duckdb",
   "language": "python",
   "name": "python3"
  },
  "language_info": {
   "codemirror_mode": {
    "name": "ipython",
    "version": 3
   },
   "file_extension": ".py",
   "mimetype": "text/x-python",
   "name": "python",
   "nbconvert_exporter": "python",
   "pygments_lexer": "ipython3",
   "version": "3.11.13"
  }
 },
 "nbformat": 4,
 "nbformat_minor": 5
}
