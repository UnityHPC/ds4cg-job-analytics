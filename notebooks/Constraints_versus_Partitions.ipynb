{
 "cells": [
  {
   "cell_type": "code",
   "execution_count": 1,
   "id": "c589425c",
   "metadata": {},
   "outputs": [],
   "source": [
    "# Import required modules\n",
    "import sys\n",
    "from pathlib import Path\n",
    "import pandas as pd\n",
    "import matplotlib.pyplot as plt\n",
    "import seaborn as sns"
   ]
  },
  {
   "cell_type": "code",
   "execution_count": 2,
   "id": "fe4eded7",
   "metadata": {},
   "outputs": [
    {
     "name": "stdout",
     "output_type": "stream",
     "text": [
      "Project root: C:\\Users\\Nitya Karthik A\\ds4cg-job-analytics\n"
     ]
    }
   ],
   "source": [
    "project_root = str(Path.cwd().resolve().parent)\n",
    "print(f\"Project root: {project_root}\")"
   ]
  },
  {
   "cell_type": "code",
   "execution_count": 5,
   "id": "dc1e8bdc",
   "metadata": {},
   "outputs": [],
   "source": [
    "# Add project root to sys.path for module imports\n",
    "if project_root not in sys.path:\n",
    "    sys.path.insert(0, project_root)\n",
    "\n",
    "from src.analysis import efficiency_analysis as ea\n",
    "from src.visualization import JobsWithMetricsVisualizer, UsersWithMetricsVisualizer\n",
    "\n",
    "# Automatically reload modules before executing code\n",
    "# This is useful for development to see changes without restarting the kernel.\n",
    "%load_ext autoreload\n",
    "# Reload all modules imported with %aimport every time before executing the Python code typed.\n",
    "%autoreload 2"
   ]
  },
  {
   "cell_type": "code",
   "execution_count": 6,
   "id": "47d6b139",
   "metadata": {},
   "outputs": [
    {
     "name": "stdout",
     "output_type": "stream",
     "text": [
      "Connected to ../data/slurm_data.db\n"
     ]
    },
    {
     "ename": "RuntimeError",
     "evalue": "Failed to load jobs DataFrame: 0",
     "output_type": "error",
     "traceback": [
      "\u001b[31m---------------------------------------------------------------------------\u001b[39m",
      "\u001b[31mKeyError\u001b[39m                                  Traceback (most recent call last)",
      "\u001b[36mFile \u001b[39m\u001b[32m~\\ds4cg-job-analytics\\src\\analysis\\efficiency_analysis.py:44\u001b[39m, in \u001b[36mload_preprocessed_jobs_dataframe_from_duckdb\u001b[39m\u001b[34m(db_path, table_name, sample_size, random_state)\u001b[39m\n\u001b[32m     43\u001b[39m jobs_df = db.fetch_all_jobs(table_name=table_name)\n\u001b[32m---> \u001b[39m\u001b[32m44\u001b[39m processed_data = \u001b[43mpreprocess_data\u001b[49m\u001b[43m(\u001b[49m\n\u001b[32m     45\u001b[39m \u001b[43m    \u001b[49m\u001b[43mjobs_df\u001b[49m\u001b[43m,\u001b[49m\u001b[43m \u001b[49m\u001b[43mmin_elapsed_seconds\u001b[49m\u001b[43m=\u001b[49m\u001b[32;43m0\u001b[39;49m\u001b[43m,\u001b[49m\u001b[43m \u001b[49m\u001b[43minclude_failed_cancelled_jobs\u001b[49m\u001b[43m=\u001b[49m\u001b[38;5;28;43;01mFalse\u001b[39;49;00m\u001b[43m,\u001b[49m\u001b[43m \u001b[49m\u001b[43minclude_cpu_only_jobs\u001b[49m\u001b[43m=\u001b[49m\u001b[38;5;28;43;01mFalse\u001b[39;49;00m\n\u001b[32m     46\u001b[39m \u001b[43m\u001b[49m\u001b[43m)\u001b[49m\n\u001b[32m     47\u001b[39m \u001b[38;5;28;01mif\u001b[39;00m sample_size \u001b[38;5;129;01mis\u001b[39;00m \u001b[38;5;129;01mnot\u001b[39;00m \u001b[38;5;28;01mNone\u001b[39;00m:\n",
      "\u001b[36mFile \u001b[39m\u001b[32m~\\ds4cg-job-analytics\\src\\preprocess\\preprocess.py:304\u001b[39m, in \u001b[36mpreprocess_data\u001b[39m\u001b[34m(input_df, min_elapsed_seconds, include_failed_cancelled_jobs, include_cpu_only_jobs)\u001b[39m\n\u001b[32m    301\u001b[39m res.loc[:, \u001b[33m\"\u001b[39m\u001b[33mvram_constraint\u001b[39m\u001b[33m\"\u001b[39m] = res.apply(\n\u001b[32m    302\u001b[39m     \u001b[38;5;28;01mlambda\u001b[39;00m row: _get_vram_constraint(row[\u001b[33m\"\u001b[39m\u001b[33mConstraints\u001b[39m\u001b[33m\"\u001b[39m], row[\u001b[33m\"\u001b[39m\u001b[33mGPUs\u001b[39m\u001b[33m\"\u001b[39m], row[\u001b[33m\"\u001b[39m\u001b[33mGPUMemUsage\u001b[39m\u001b[33m\"\u001b[39m]), axis=\u001b[32m1\u001b[39m\n\u001b[32m    303\u001b[39m ).astype(pd.Int64Dtype())  \u001b[38;5;66;03m# Use Int64Dtype to allow for nullable integers\u001b[39;00m\n\u001b[32m--> \u001b[39m\u001b[32m304\u001b[39m res.loc[:, \u001b[33m\"\u001b[39m\u001b[33mallocated_vram\u001b[39m\u001b[33m\"\u001b[39m] = \u001b[43mres\u001b[49m\u001b[43m.\u001b[49m\u001b[43mapply\u001b[49m\u001b[43m(\u001b[49m\n\u001b[32m    305\u001b[39m \u001b[43m    \u001b[49m\u001b[38;5;28;43;01mlambda\u001b[39;49;00m\u001b[43m \u001b[49m\u001b[43mrow\u001b[49m\u001b[43m:\u001b[49m\u001b[43m \u001b[49m\u001b[43m_get_approx_allocated_vram\u001b[49m\u001b[43m(\u001b[49m\u001b[43mrow\u001b[49m\u001b[43m[\u001b[49m\u001b[33;43m\"\u001b[39;49m\u001b[33;43mGPUType\u001b[39;49m\u001b[33;43m\"\u001b[39;49m\u001b[43m]\u001b[49m\u001b[43m,\u001b[49m\u001b[43m \u001b[49m\u001b[43mrow\u001b[49m\u001b[43m[\u001b[49m\u001b[33;43m\"\u001b[39;49m\u001b[33;43mNodeList\u001b[39;49m\u001b[33;43m\"\u001b[39;49m\u001b[43m]\u001b[49m\u001b[43m,\u001b[49m\u001b[43m \u001b[49m\u001b[43mrow\u001b[49m\u001b[43m[\u001b[49m\u001b[33;43m\"\u001b[39;49m\u001b[33;43mGPUs\u001b[39;49m\u001b[33;43m\"\u001b[39;49m\u001b[43m]\u001b[49m\u001b[43m,\u001b[49m\u001b[43m \u001b[49m\u001b[43mrow\u001b[49m\u001b[43m[\u001b[49m\u001b[33;43m\"\u001b[39;49m\u001b[33;43mGPUMemUsage\u001b[39;49m\u001b[33;43m\"\u001b[39;49m\u001b[43m]\u001b[49m\u001b[43m)\u001b[49m\u001b[43m,\u001b[49m\n\u001b[32m    306\u001b[39m \u001b[43m    \u001b[49m\u001b[43maxis\u001b[49m\u001b[43m=\u001b[49m\u001b[32;43m1\u001b[39;49m\u001b[43m,\u001b[49m\n\u001b[32m    307\u001b[39m \u001b[43m\u001b[49m\u001b[43m)\u001b[49m\n\u001b[32m    308\u001b[39m res.loc[:, \u001b[33m\"\u001b[39m\u001b[33muser_jobs\u001b[39m\u001b[33m\"\u001b[39m] = res.groupby(\u001b[33m\"\u001b[39m\u001b[33mUser\u001b[39m\u001b[33m\"\u001b[39m)[\u001b[33m\"\u001b[39m\u001b[33mUser\u001b[39m\u001b[33m\"\u001b[39m].transform(\u001b[33m\"\u001b[39m\u001b[33msize\u001b[39m\u001b[33m\"\u001b[39m)\n",
      "\u001b[36mFile \u001b[39m\u001b[32mc:\\Users\\Nitya Karthik A\\anaconda3\\envs\\duckdb\\Lib\\site-packages\\pandas\\core\\frame.py:10381\u001b[39m, in \u001b[36mDataFrame.apply\u001b[39m\u001b[34m(self, func, axis, raw, result_type, args, by_row, engine, engine_kwargs, **kwargs)\u001b[39m\n\u001b[32m  10369\u001b[39m op = frame_apply(\n\u001b[32m  10370\u001b[39m     \u001b[38;5;28mself\u001b[39m,\n\u001b[32m  10371\u001b[39m     func=func,\n\u001b[32m   (...)\u001b[39m\u001b[32m  10379\u001b[39m     kwargs=kwargs,\n\u001b[32m  10380\u001b[39m )\n\u001b[32m> \u001b[39m\u001b[32m10381\u001b[39m \u001b[38;5;28;01mreturn\u001b[39;00m \u001b[43mop\u001b[49m\u001b[43m.\u001b[49m\u001b[43mapply\u001b[49m\u001b[43m(\u001b[49m\u001b[43m)\u001b[49m.__finalize__(\u001b[38;5;28mself\u001b[39m, method=\u001b[33m\"\u001b[39m\u001b[33mapply\u001b[39m\u001b[33m\"\u001b[39m)\n",
      "\u001b[36mFile \u001b[39m\u001b[32mc:\\Users\\Nitya Karthik A\\anaconda3\\envs\\duckdb\\Lib\\site-packages\\pandas\\core\\apply.py:916\u001b[39m, in \u001b[36mFrameApply.apply\u001b[39m\u001b[34m(self)\u001b[39m\n\u001b[32m    914\u001b[39m     \u001b[38;5;28;01mreturn\u001b[39;00m \u001b[38;5;28mself\u001b[39m.apply_raw(engine=\u001b[38;5;28mself\u001b[39m.engine, engine_kwargs=\u001b[38;5;28mself\u001b[39m.engine_kwargs)\n\u001b[32m--> \u001b[39m\u001b[32m916\u001b[39m \u001b[38;5;28;01mreturn\u001b[39;00m \u001b[38;5;28;43mself\u001b[39;49m\u001b[43m.\u001b[49m\u001b[43mapply_standard\u001b[49m\u001b[43m(\u001b[49m\u001b[43m)\u001b[49m\n",
      "\u001b[36mFile \u001b[39m\u001b[32mc:\\Users\\Nitya Karthik A\\anaconda3\\envs\\duckdb\\Lib\\site-packages\\pandas\\core\\apply.py:1063\u001b[39m, in \u001b[36mFrameApply.apply_standard\u001b[39m\u001b[34m(self)\u001b[39m\n\u001b[32m   1062\u001b[39m \u001b[38;5;28;01mif\u001b[39;00m \u001b[38;5;28mself\u001b[39m.engine == \u001b[33m\"\u001b[39m\u001b[33mpython\u001b[39m\u001b[33m\"\u001b[39m:\n\u001b[32m-> \u001b[39m\u001b[32m1063\u001b[39m     results, res_index = \u001b[38;5;28;43mself\u001b[39;49m\u001b[43m.\u001b[49m\u001b[43mapply_series_generator\u001b[49m\u001b[43m(\u001b[49m\u001b[43m)\u001b[49m\n\u001b[32m   1064\u001b[39m \u001b[38;5;28;01melse\u001b[39;00m:\n",
      "\u001b[36mFile \u001b[39m\u001b[32mc:\\Users\\Nitya Karthik A\\anaconda3\\envs\\duckdb\\Lib\\site-packages\\pandas\\core\\apply.py:1081\u001b[39m, in \u001b[36mFrameApply.apply_series_generator\u001b[39m\u001b[34m(self)\u001b[39m\n\u001b[32m   1079\u001b[39m \u001b[38;5;28;01mfor\u001b[39;00m i, v \u001b[38;5;129;01min\u001b[39;00m \u001b[38;5;28menumerate\u001b[39m(series_gen):\n\u001b[32m   1080\u001b[39m     \u001b[38;5;66;03m# ignore SettingWithCopy here in case the user mutates\u001b[39;00m\n\u001b[32m-> \u001b[39m\u001b[32m1081\u001b[39m     results[i] = \u001b[38;5;28;43mself\u001b[39;49m\u001b[43m.\u001b[49m\u001b[43mfunc\u001b[49m\u001b[43m(\u001b[49m\u001b[43mv\u001b[49m\u001b[43m,\u001b[49m\u001b[43m \u001b[49m\u001b[43m*\u001b[49m\u001b[38;5;28;43mself\u001b[39;49m\u001b[43m.\u001b[49m\u001b[43margs\u001b[49m\u001b[43m,\u001b[49m\u001b[43m \u001b[49m\u001b[43m*\u001b[49m\u001b[43m*\u001b[49m\u001b[38;5;28;43mself\u001b[39;49m\u001b[43m.\u001b[49m\u001b[43mkwargs\u001b[49m\u001b[43m)\u001b[49m\n\u001b[32m   1082\u001b[39m     \u001b[38;5;28;01mif\u001b[39;00m \u001b[38;5;28misinstance\u001b[39m(results[i], ABCSeries):\n\u001b[32m   1083\u001b[39m         \u001b[38;5;66;03m# If we have a view on v, we need to make a copy because\u001b[39;00m\n\u001b[32m   1084\u001b[39m         \u001b[38;5;66;03m#  series_generator will swap out the underlying data\u001b[39;00m\n",
      "\u001b[36mFile \u001b[39m\u001b[32m~\\ds4cg-job-analytics\\src\\preprocess\\preprocess.py:305\u001b[39m, in \u001b[36mpreprocess_data.<locals>.<lambda>\u001b[39m\u001b[34m(row)\u001b[39m\n\u001b[32m    301\u001b[39m res.loc[:, \u001b[33m\"\u001b[39m\u001b[33mvram_constraint\u001b[39m\u001b[33m\"\u001b[39m] = res.apply(\n\u001b[32m    302\u001b[39m     \u001b[38;5;28;01mlambda\u001b[39;00m row: _get_vram_constraint(row[\u001b[33m\"\u001b[39m\u001b[33mConstraints\u001b[39m\u001b[33m\"\u001b[39m], row[\u001b[33m\"\u001b[39m\u001b[33mGPUs\u001b[39m\u001b[33m\"\u001b[39m], row[\u001b[33m\"\u001b[39m\u001b[33mGPUMemUsage\u001b[39m\u001b[33m\"\u001b[39m]), axis=\u001b[32m1\u001b[39m\n\u001b[32m    303\u001b[39m ).astype(pd.Int64Dtype())  \u001b[38;5;66;03m# Use Int64Dtype to allow for nullable integers\u001b[39;00m\n\u001b[32m    304\u001b[39m res.loc[:, \u001b[33m\"\u001b[39m\u001b[33mallocated_vram\u001b[39m\u001b[33m\"\u001b[39m] = res.apply(\n\u001b[32m--> \u001b[39m\u001b[32m305\u001b[39m     \u001b[38;5;28;01mlambda\u001b[39;00m row: \u001b[43m_get_approx_allocated_vram\u001b[49m\u001b[43m(\u001b[49m\u001b[43mrow\u001b[49m\u001b[43m[\u001b[49m\u001b[33;43m\"\u001b[39;49m\u001b[33;43mGPUType\u001b[39;49m\u001b[33;43m\"\u001b[39;49m\u001b[43m]\u001b[49m\u001b[43m,\u001b[49m\u001b[43m \u001b[49m\u001b[43mrow\u001b[49m\u001b[43m[\u001b[49m\u001b[33;43m\"\u001b[39;49m\u001b[33;43mNodeList\u001b[39;49m\u001b[33;43m\"\u001b[39;49m\u001b[43m]\u001b[49m\u001b[43m,\u001b[49m\u001b[43m \u001b[49m\u001b[43mrow\u001b[49m\u001b[43m[\u001b[49m\u001b[33;43m\"\u001b[39;49m\u001b[33;43mGPUs\u001b[39;49m\u001b[33;43m\"\u001b[39;49m\u001b[43m]\u001b[49m\u001b[43m,\u001b[49m\u001b[43m \u001b[49m\u001b[43mrow\u001b[49m\u001b[43m[\u001b[49m\u001b[33;43m\"\u001b[39;49m\u001b[33;43mGPUMemUsage\u001b[39;49m\u001b[33;43m\"\u001b[39;49m\u001b[43m]\u001b[49m\u001b[43m)\u001b[49m,\n\u001b[32m    306\u001b[39m     axis=\u001b[32m1\u001b[39m,\n\u001b[32m    307\u001b[39m )\n\u001b[32m    308\u001b[39m res.loc[:, \u001b[33m\"\u001b[39m\u001b[33muser_jobs\u001b[39m\u001b[33m\"\u001b[39m] = res.groupby(\u001b[33m\"\u001b[39m\u001b[33mUser\u001b[39m\u001b[33m\"\u001b[39m)[\u001b[33m\"\u001b[39m\u001b[33mUser\u001b[39m\u001b[33m\"\u001b[39m].transform(\u001b[33m\"\u001b[39m\u001b[33msize\u001b[39m\u001b[33m\"\u001b[39m)\n",
      "\u001b[36mFile \u001b[39m\u001b[32m~\\ds4cg-job-analytics\\src\\preprocess\\preprocess.py:183\u001b[39m, in \u001b[36m_get_approx_allocated_vram\u001b[39m\u001b[34m(gpu_types, node_list, gpu_count, gpu_mem_usage)\u001b[39m\n\u001b[32m    182\u001b[39m \u001b[38;5;28;01mif\u001b[39;00m \u001b[38;5;28mlen\u001b[39m(gpu_types) == \u001b[32m1\u001b[39m:\n\u001b[32m--> \u001b[39m\u001b[32m183\u001b[39m     total_vram = \u001b[43m_calculate_approx_vram_single_gpu_type\u001b[49m\u001b[43m(\u001b[49m\u001b[43mgpu_types\u001b[49m\u001b[43m,\u001b[49m\u001b[43m \u001b[49m\u001b[43mnode_list\u001b[49m\u001b[43m,\u001b[49m\u001b[43m \u001b[49m\u001b[43mgpu_count\u001b[49m\u001b[43m,\u001b[49m\u001b[43m \u001b[49m\u001b[43mgpu_mem_usage\u001b[49m\u001b[43m)\u001b[49m\n\u001b[32m    184\u001b[39m     \u001b[38;5;28;01mreturn\u001b[39;00m total_vram\n",
      "\u001b[36mFile \u001b[39m\u001b[32m~\\ds4cg-job-analytics\\src\\preprocess\\preprocess.py:123\u001b[39m, in \u001b[36m_calculate_approx_vram_single_gpu_type\u001b[39m\u001b[34m(gpu_types, node_list, gpu_count, gpu_mem_usage)\u001b[39m\n\u001b[32m    105\u001b[39m \u001b[38;5;250m\u001b[39m\u001b[33;03m\"\"\"\u001b[39;00m\n\u001b[32m    106\u001b[39m \u001b[33;03mCalculate the approximate VRAM for a job with a single GPU type.\u001b[39;00m\n\u001b[32m    107\u001b[39m \n\u001b[32m   (...)\u001b[39m\u001b[32m    121\u001b[39m \u001b[33;03m    ValueError: If no valid nodes are found for a multivalent GPU type in the node list.\u001b[39;00m\n\u001b[32m    122\u001b[39m \u001b[33;03m\"\"\"\u001b[39;00m\n\u001b[32m--> \u001b[39m\u001b[32m123\u001b[39m gpu = \u001b[43mgpu_types\u001b[49m\u001b[43m[\u001b[49m\u001b[32;43m0\u001b[39;49m\u001b[43m]\u001b[49m\n\u001b[32m    124\u001b[39m \u001b[38;5;28;01mif\u001b[39;00m gpu \u001b[38;5;129;01mnot\u001b[39;00m \u001b[38;5;129;01min\u001b[39;00m MULTIVALENT_GPUS:\n\u001b[32m    125\u001b[39m     \u001b[38;5;66;03m# if the GPU is not multivalent, return the VRAM value for that GPU\u001b[39;00m\n",
      "\u001b[31mKeyError\u001b[39m: 0",
      "\nThe above exception was the direct cause of the following exception:\n",
      "\u001b[31mRuntimeError\u001b[39m                              Traceback (most recent call last)",
      "\u001b[36mCell\u001b[39m\u001b[36m \u001b[39m\u001b[32mIn[6]\u001b[39m\u001b[32m, line 2\u001b[39m\n\u001b[32m      1\u001b[39m \u001b[38;5;66;03m# Load the jobs DataFrame from DuckDB\u001b[39;00m\n\u001b[32m----> \u001b[39m\u001b[32m2\u001b[39m preprocessed_jobs_df = \u001b[43mea\u001b[49m\u001b[43m.\u001b[49m\u001b[43mload_preprocessed_jobs_dataframe_from_duckdb\u001b[49m\u001b[43m(\u001b[49m\n\u001b[32m      3\u001b[39m \u001b[43m    \u001b[49m\u001b[43mdb_path\u001b[49m\u001b[43m=\u001b[49m\u001b[33;43m'\u001b[39;49m\u001b[33;43m../data/slurm_data.db\u001b[39;49m\u001b[33;43m'\u001b[39;49m\u001b[43m,\u001b[49m\n\u001b[32m      4\u001b[39m \u001b[43m    \u001b[49m\u001b[43mtable_name\u001b[49m\u001b[43m=\u001b[49m\u001b[33;43m'\u001b[39;49m\u001b[33;43mJobs\u001b[39;49m\u001b[33;43m'\u001b[39;49m\u001b[43m,\u001b[49m\n\u001b[32m      5\u001b[39m \u001b[43m    \u001b[49m\u001b[43m)\u001b[49m\n\u001b[32m      6\u001b[39m display(preprocessed_jobs_df.head(\u001b[32m10\u001b[39m))\n\u001b[32m      7\u001b[39m \u001b[38;5;28mprint\u001b[39m(preprocessed_jobs_df.shape)\n",
      "\u001b[36mFile \u001b[39m\u001b[32m~\\ds4cg-job-analytics\\src\\analysis\\efficiency_analysis.py:51\u001b[39m, in \u001b[36mload_preprocessed_jobs_dataframe_from_duckdb\u001b[39m\u001b[34m(db_path, table_name, sample_size, random_state)\u001b[39m\n\u001b[32m     49\u001b[39m     \u001b[38;5;28;01mreturn\u001b[39;00m processed_data\n\u001b[32m     50\u001b[39m \u001b[38;5;28;01mexcept\u001b[39;00m \u001b[38;5;167;01mException\u001b[39;00m \u001b[38;5;28;01mas\u001b[39;00m e:\n\u001b[32m---> \u001b[39m\u001b[32m51\u001b[39m     \u001b[38;5;28;01mraise\u001b[39;00m \u001b[38;5;167;01mRuntimeError\u001b[39;00m(\u001b[33mf\u001b[39m\u001b[33m\"\u001b[39m\u001b[33mFailed to load jobs DataFrame: \u001b[39m\u001b[38;5;132;01m{\u001b[39;00me\u001b[38;5;132;01m}\u001b[39;00m\u001b[33m\"\u001b[39m) \u001b[38;5;28;01mfrom\u001b[39;00m\u001b[38;5;250m \u001b[39m\u001b[34;01me\u001b[39;00m\n",
      "\u001b[31mRuntimeError\u001b[39m: Failed to load jobs DataFrame: 0"
     ]
    }
   ],
   "source": [
    "# Load the jobs DataFrame from DuckDB\n",
    "preprocessed_jobs_df = ea.load_preprocessed_jobs_dataframe_from_duckdb(\n",
    "    db_path='../data/slurm_data.db',\n",
    "    table_name='Jobs',\n",
    "    )\n",
    "display(preprocessed_jobs_df.head(10))\n",
    "print(preprocessed_jobs_df.shape)"
   ]
  },
  {
   "cell_type": "code",
   "execution_count": null,
   "id": "097e4967",
   "metadata": {},
   "outputs": [],
   "source": [
    "#get all unique partitions \n",
    "partitions = preprocessed_jobs_df['Partition'].unique()\n",
    "print(f\"Unique partitions: {partitions}\")\n",
    "    "
   ]
  },
  {
   "cell_type": "code",
   "execution_count": null,
   "id": "fbe280d3",
   "metadata": {},
   "outputs": [],
   "source": [
    "#for each unique partition, get the vram constraint they are setting \n",
    "result = preprocessed_jobs_df.groupby('Partition')['vram_constraint'].unique()\n",
    "print(\"VRAM constraints for each partition:\")\n",
    "for partition, constraints in result.items():\n",
    "    print(f\"Partition: {partition}, VRAM Constraints: {constraints}\")"
   ]
  },
  {
   "cell_type": "code",
   "execution_count": null,
   "id": "17a1216a",
   "metadata": {},
   "outputs": [],
   "source": [
    "def plot_vram_constraints_for_partition(df, partition_name):\n",
    "    \"\"\"\n",
    "    Create a bar plot showing job counts for each VRAM constraint in a specific partition.\n",
    "    \n",
    "    Parameters:\n",
    "    df: DataFrame containing the job data\n",
    "    partition_name: Name of the partition to plot\n",
    "    \"\"\"\n",
    "    # Filter data for the specific partition\n",
    "    partition_data = df[df['Partition'] == partition_name]\n",
    "    \n",
    "    if partition_data.empty:\n",
    "        print(f\"No data found for partition: {partition_name}\")\n",
    "        return\n",
    "    \n",
    "    # Count jobs for each VRAM constraint in this partition\n",
    "    vram_counts = partition_data['vram_constraint'].value_counts().sort_index()\n",
    "    \n",
    "    # Create the bar plot\n",
    "    plt.figure(figsize=(max(6, len(vram_counts) * 0.8), 6))\n",
    "    \n",
    "    # Use categorical x-axis with custom width\n",
    "    x_positions = range(len(vram_counts))\n",
    "    bars = plt.bar(x_positions, vram_counts.values, width=0.6)\n",
    "    \n",
    "    # Customize the plot\n",
    "    plt.title(f'Job Count by VRAM Constraint for Partition: {partition_name}')\n",
    "    plt.xlabel('VRAM Constraint')\n",
    "    plt.ylabel('Number of Jobs')\n",
    "    \n",
    "    # Set x-axis labels to show GB values\n",
    "    plt.xticks(x_positions, [f'{int(vram)}GB' for vram in vram_counts.index])\n",
    "    \n",
    "    # Add value labels on top of bars with smaller font\n",
    "    for i, (bar, count) in enumerate(zip(bars, vram_counts.values)):\n",
    "        plt.text(bar.get_x() + bar.get_width()/2, bar.get_height() + max(1, max(vram_counts.values) * 0.01), \n",
    "                str(count), ha='center', va='bottom', fontsize=10)\n",
    "    \n",
    "    plt.grid(axis='y', alpha=0.3)\n",
    "    plt.tight_layout()\n",
    "    plt.show()\n",
    "    \n",
    "    # Print summary\n",
    "    print(f\"\\nSummary for Partition '{partition_name}':\")\n",
    "    for vram, count in vram_counts.items():\n",
    "        print(f\"  {count} jobs for {vram}GB VRAM constraint\")\n"
   ]
  },
  {
   "cell_type": "code",
   "execution_count": null,
   "id": "cce9493d",
   "metadata": {},
   "outputs": [],
   "source": [
    "for partition in partitions:\n",
    "    plot_vram_constraints_for_partition(preprocessed_jobs_df, partition)"
   ]
  }
 ],
 "metadata": {
  "kernelspec": {
   "display_name": "duckdb",
   "language": "python",
   "name": "python3"
  },
  "language_info": {
   "codemirror_mode": {
    "name": "ipython",
    "version": 3
   },
   "file_extension": ".py",
   "mimetype": "text/x-python",
   "name": "python",
   "nbconvert_exporter": "python",
   "pygments_lexer": "ipython3",
   "version": "3.11.13"
  }
 },
 "nbformat": 4,
 "nbformat_minor": 5
}
