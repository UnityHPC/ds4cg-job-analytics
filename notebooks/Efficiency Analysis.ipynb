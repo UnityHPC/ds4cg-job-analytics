{
 "cells": [
  {
   "cell_type": "markdown",
   "id": "0",
   "metadata": {},
   "source": [
    "# <a id='toc1_'></a>[Efficiency Analysis](#toc0_)\n",
    "This notebook demonstrates the use of `EfficiencyAnalysis` class in `src/analysis/efficiency_analysis.py` for analyzing the efficiency of jobs, users, and PI groups."
   ]
  },
  {
   "cell_type": "markdown",
   "id": "1",
   "metadata": {},
   "source": [
    "**Table of contents**<a id='toc0_'></a>    \n",
    "- [Efficiency Analysis](#toc1_)    \n",
    "  - [Setup](#toc1_1_)    \n",
    "  - [Example: Analyze workload efficiency of GPU users who set no VRAM constraints and used 0 GB of VRAM](#toc1_2_)    \n",
    "    - [Job Efficiency Metrics](#toc1_2_1_)    \n",
    "      - [Find most inefficient jobs with no VRAM constraints based on `vram_hours`](#toc1_2_1_1_)    \n",
    "    - [User Efficiency Metrics](#toc1_2_2_)    \n",
    "      - [Find Inefficient Users based on `expected_value_alloc_vram_efficiency`](#toc1_2_2_1_)    \n",
    "      - [Find Inefficient Users based on `vram_hours`](#toc1_2_2_2_)    \n",
    "    - [PI Group Efficiency Metrics](#toc1_2_3_)    \n",
    "      - [Find Inefficient PIs based on `vram_hours`](#toc1_2_3_1_)    \n",
    "  - [Example: Analyze all jobs with no VRAM constraints](#toc1_3_)    \n",
    "    - [Job Efficiency Metrics](#toc1_3_1_)    \n",
    "      - [Problem with duplicate JobIDs](#toc1_3_1_1_)    \n",
    "      - [Top users with most number of jobs that have no VRAM constraints](#toc1_3_1_2_)    \n",
    "      - [Find inefficient jobs with no VRAM Constraints based on `alloc_vram_efficiency_score`](#toc1_3_1_3_)    \n",
    "\n",
    "<!-- vscode-jupyter-toc-config\n",
    "\tnumbering=false\n",
    "\tanchor=true\n",
    "\tflat=false\n",
    "\tminLevel=1\n",
    "\tmaxLevel=6\n",
    "\t/vscode-jupyter-toc-config -->\n",
    "<!-- THIS CELL WILL BE REPLACED ON TOC UPDATE. DO NOT WRITE YOUR TEXT IN THIS CELL -->"
   ]
  },
  {
   "cell_type": "markdown",
   "id": "2",
   "metadata": {},
   "source": [
    "## <a id='toc1_1_'></a>[Setup](#toc0_)"
   ]
  },
  {
   "cell_type": "code",
   "execution_count": null,
   "id": "3",
   "metadata": {},
   "outputs": [],
   "source": [
    "# Import required modules\n",
    "import sys\n",
    "from pathlib import Path\n",
    "import pandas as pd\n",
    "import matplotlib.pyplot as plt\n",
    "import seaborn as sns\n",
    "import numpy as np"
   ]
  },
  {
   "cell_type": "markdown",
   "id": "4",
   "metadata": {},
   "source": [
    "Jupyter server should be run at the notebook directory, so the output of the following cell would be the project root:"
   ]
  },
  {
   "cell_type": "code",
   "execution_count": null,
   "id": "5",
   "metadata": {},
   "outputs": [],
   "source": [
    "project_root = str(Path.cwd().resolve().parent)\n",
    "print(f\"Project root: {project_root}\")"
   ]
  },
  {
   "cell_type": "code",
   "execution_count": null,
   "id": "6",
   "metadata": {},
   "outputs": [],
   "source": [
    "# Add project root to sys.path for module imports\n",
    "if project_root not in sys.path:\n",
    "    sys.path.insert(0, project_root)\n",
    "\n",
    "from src.analysis import vram_usage as ea\n",
    "\n",
    "# Automatically reload modules before executing code\n",
    "# This is useful for development to see changes without restarting the kernel.\n",
    "%load_ext autoreload\n",
    "# Reload all modules imported with %aimport every time before executing the Python code typed.\n",
    "%autoreload 1\n",
    "%aimport src.analysis.efficiency_analysis, src.preprocess.preprocess, src.config.enum_constants"
   ]
  },
  {
   "cell_type": "code",
   "execution_count": null,
   "id": "7",
   "metadata": {},
   "outputs": [],
   "source": [
    "# Load the jobs DataFrame from DuckDB\n",
    "preprocessed_jobs_df = ea.load_preprocessed_jobs_dataframe_from_duckdb(\n",
    "    db_path='../data/slurm_data.db',\n",
    "    table_name='Jobs',\n",
    "    )\n",
    "display(preprocessed_jobs_df.head(10))\n",
    "print(preprocessed_jobs_df.shape)"
   ]
  },
  {
   "cell_type": "markdown",
   "id": "8",
   "metadata": {},
   "source": [
    "## <a id='toc1_2_'></a>[Example: Analyze workload efficiency of GPU users who set no VRAM constraints and used 0 GB of VRAM](#toc0_)\n"
   ]
  },
  {
   "cell_type": "code",
   "execution_count": null,
   "id": "9",
   "metadata": {},
   "outputs": [],
   "source": [
    "efficiency_analysis = ea.EfficiencyAnalysis(\n",
    "\tjobs_df=preprocessed_jobs_df\n",
    ")"
   ]
  },
  {
   "cell_type": "code",
   "execution_count": null,
   "id": "10",
   "metadata": {},
   "outputs": [],
   "source": [
    "filtered_jobs = efficiency_analysis.filter_jobs_for_analysis(\n",
    "    vram_constraint_filter=pd.NA,  # No VRAM constraints\n",
    "    gpu_mem_usage_filter=0,  # Used 0 GB of VRAM\n",
    ")\n",
    "filtered_jobs"
   ]
  },
  {
   "cell_type": "markdown",
   "id": "11",
   "metadata": {},
   "source": [
    "Generate all metrics:"
   ]
  },
  {
   "cell_type": "code",
   "execution_count": null,
   "id": "12",
   "metadata": {},
   "outputs": [],
   "source": [
    "metrics_dict = efficiency_analysis.calculate_all_efficiency_metrics(filtered_jobs)\n",
    "\n",
    "jobs_with_metrics = metrics_dict['jobs_with_efficiency_metrics']\n",
    "users_with_metrics = metrics_dict['users_with_efficiency_metrics']\n",
    "pi_accounts_with_metrics = metrics_dict['pi_accounts_with_efficiency_metrics']"
   ]
  },
  {
   "cell_type": "markdown",
   "id": "13",
   "metadata": {},
   "source": [
    "### <a id='toc1_2_1_'></a>[Job Efficiency Metrics](#toc0_)"
   ]
  },
  {
   "cell_type": "code",
   "execution_count": null,
   "id": "14",
   "metadata": {},
   "outputs": [],
   "source": [
    "# Set option to display all columns\n",
    "pd.set_option('display.max_columns', None)\n",
    "# Display the DataFrame\n",
    "display(jobs_with_metrics.head(10))\n",
    "# To revert to default settings (optional)\n",
    "pd.reset_option('display.max_columns')\n",
    "\n",
    "print(f\"Jobs found: {len(jobs_with_metrics)}\")"
   ]
  },
  {
   "cell_type": "markdown",
   "id": "15",
   "metadata": {},
   "source": [
    "#### <a id='toc1_2_1_1_'></a>[Find most inefficient jobs with no VRAM constraints based on `vram_hours`](#toc0_)"
   ]
  },
  {
   "cell_type": "code",
   "execution_count": null,
   "id": "16",
   "metadata": {},
   "outputs": [],
   "source": [
    "inefficient_jobs_vram_hours = efficiency_analysis.sort_and_filter_records_with_metrics(\n",
    "    metrics_df_name_enum=ea.MetricsDataFrameNameEnum.JOBS,\n",
    "    sorting_key=\"vram_hours\",\n",
    "    ascending=False,  # Sort by vram_hours in descending order\n",
    "    filter_criteria={\n",
    "        \"vram_hours\": {\"min\": 80 * 24, \"inclusive\": True},  # VRAM-hours threshold for identifying inefficient jobs\n",
    "    }\n",
    ")\n",
    "# Display top inefficient users by VRAM-hours\n",
    "print(\"\\nTop inefficient Jobs by VRAM-hours:\")\n",
    "display(inefficient_jobs_vram_hours.head(10))\n",
    "\n",
    "top_jobs = inefficient_jobs_vram_hours.head(20)\n",
    "\n",
    "# Plot top inefficient jobs by VRAM-hours, with VRAM-hours as labels\n",
    "plt.figure(figsize=(10, 8))\n",
    "\n",
    "# Create y-tick labels with JobID and User\n",
    "yticklabels = [f\"{jid}\\n{user}\" for jid, user in zip(top_jobs[\"JobID\"], top_jobs[\"User\"], strict=True)]\n",
    "\n",
    "barplot = sns.barplot(\n",
    "    y=yticklabels,\n",
    "    x=top_jobs[\"vram_hours\"],\n",
    "    orient=\"h\"\n",
    ")\n",
    "plt.xlabel(\"VRAM-Hours\")\n",
    "plt.ylabel(\"Job ID / User\")\n",
    "plt.title(\"Top Inefficient Jobs by VRAM-Hours\")\n",
    "\n",
    "ax = barplot\n",
    "xmax = top_jobs[\"vram_hours\"].max()\n",
    "xlim = xmax * 1.6 if xmax > 0 else 1\n",
    "ax.set_xlim(0, xlim)\n",
    "\n",
    "for i, (vram_hours, job_hours) in enumerate(\n",
    "    zip(top_jobs[\"vram_hours\"], top_jobs[\"job_hours\"], strict=True)\n",
    "):\n",
    "    xpos = min(vram_hours + xlim * 0.02, xlim * 0.98)\n",
    "    ax.text(\n",
    "        xpos,\n",
    "        i,\n",
    "        f\"VRAM-Hours: {vram_hours:.2f}\\nJob Hours: {job_hours:.2f}\",\n",
    "        va=\"center\",\n",
    "        ha=\"left\",\n",
    "        fontsize=10,\n",
    "        color=\"black\",\n",
    "        clip_on=True\n",
    "    )\n",
    "\n",
    "plt.tight_layout()\n",
    "plt.show()\n"
   ]
  },
  {
   "cell_type": "markdown",
   "id": "17",
   "metadata": {},
   "source": [
    "### <a id='toc1_2_2_'></a>[User Efficiency Metrics](#toc0_)"
   ]
  },
  {
   "cell_type": "code",
   "execution_count": null,
   "id": "18",
   "metadata": {},
   "outputs": [],
   "source": [
    "users_with_metrics"
   ]
  },
  {
   "cell_type": "markdown",
   "id": "19",
   "metadata": {},
   "source": [
    "#### <a id='toc1_2_2_1_'></a>[Find Inefficient Users based on `expected_value_alloc_vram_efficiency`](#toc0_)"
   ]
  },
  {
   "cell_type": "code",
   "execution_count": null,
   "id": "20",
   "metadata": {},
   "outputs": [],
   "source": [
    "inefficient_users = efficiency_analysis.sort_and_filter_records_with_metrics(\n",
    "    metrics_df_name_enum=efficiency_analysis.MetricsDataFrameNameEnum.USERS,\n",
    "    sorting_key=\"expected_value_alloc_vram_efficiency\",\n",
    "    ascending=True,  # we want to find users with low efficiency\n",
    "    filter_criteria={\n",
    "        \"expected_value_alloc_vram_efficiency\": {\"max\": 0.3, \"inclusive\": True},\n",
    "        \"job_count\": {\"min\": 5, \"inclusive\": True},  # Minimum number of jobs to consider a user\n",
    "    }\n",
    ")\n",
    "\n",
    "# Display top inefficient users by job count\n",
    "print(\"\\nTop inefficient users by allocated vram efficiency:\")\n",
    "display(inefficient_users.head(10))\n",
    "\n",
    "\n",
    "# Plot top inefficient users by GPU hours, with efficiency as labels\n",
    "top_users = inefficient_users.head(10)\n",
    "\n",
    "plt.figure(figsize=(8, 5))\n",
    "barplot = sns.barplot(\n",
    "    y=top_users[\"User\"],\n",
    "    x=top_users[\"user_job_hours\"],\n",
    "    orient=\"h\"\n",
    ")\n",
    "plt.xlabel(\"Job Hours\")\n",
    "plt.ylabel(\"User\")\n",
    "plt.title(\"Top 10 Inefficient Users by Allocated VRAM Efficiency Contribution\")\n",
    "\n",
    "# Annotate bars with expected_value_alloc_vram_efficiency, keeping text fully inside the plot's right spine\n",
    "ax = barplot\n",
    "xmax = top_users[\"user_job_hours\"].max()\n",
    "# Add headroom for annotation space (20% extra)\n",
    "xlim = xmax * 1.20 if xmax > 0 else 1\n",
    "ax.set_xlim(0, xlim)\n",
    "\n",
    "# Calculate annotation x-position: place at 98% of xlim or just left of the right spine, whichever is smaller\n",
    "for i, (job_hours, efficiency) in enumerate(\n",
    "    zip(\n",
    "        top_users[\"user_job_hours\"],\n",
    "        top_users[\"expected_value_alloc_vram_efficiency\"],\n",
    "        strict=True,\n",
    "    )\n",
    "):\n",
    "    # Place annotation at min(job_hours + 2% of xlim, 98% of xlim)\n",
    "    xpos = min(job_hours + xlim * 0.02, xlim * 0.98)\n",
    "    # If bar is very close to right spine, nudge annotation left to avoid overlap\n",
    "    if xpos > xlim * 0.96:\n",
    "        xpos = xlim * 0.96\n",
    "    ax.text(\n",
    "        xpos,\n",
    "        i,\n",
    "        f\"Eff: {efficiency:.2f}\",\n",
    "        va=\"center\",\n",
    "        ha=\"left\",\n",
    "        fontsize=10,\n",
    "        color=\"black\",\n",
    "        clip_on=True\n",
    "    )\n",
    "\n",
    "plt.tight_layout()\n",
    "plt.show()"
   ]
  },
  {
   "cell_type": "markdown",
   "id": "21",
   "metadata": {},
   "source": [
    "#### <a id='toc1_2_2_2_'></a>[Find Inefficient Users based on `vram_hours`](#toc0_)"
   ]
  },
  {
   "cell_type": "code",
   "execution_count": null,
   "id": "22",
   "metadata": {},
   "outputs": [],
   "source": [
    "inefficient_users_vram_hours = efficiency_analysis.find_inefficient_users_by_vram_hours(\n",
    "    vram_hours_filter={\"min\": 200, \"inclusive\": True},  # VRAM-hours threshold for identifying inefficient users\n",
    "    min_jobs=5,  # Minimum number of jobs to consider a user\n",
    ")\n",
    "# Display top inefficient users by VRAM-hours\n",
    "print(\"\\nTop inefficient users by VRAM-hours:\")\n",
    "display(inefficient_users_vram_hours.head(20))\n",
    "\n",
    "top_users = inefficient_users_vram_hours.head(20)\n",
    "\n",
    "# Plot top inefficient users by VRAM-hours, with VRAM-hours as labels\n",
    "plt.figure(figsize=(8, 8))\n",
    "barplot = sns.barplot(\n",
    "    y=top_users[\"User\"],\n",
    "    x=top_users[\"vram_hours\"],\n",
    "    orient=\"h\"\n",
    ")\n",
    "plt.xlabel(\"VRAM-Hours\")\n",
    "plt.ylabel(\"User\")\n",
    "plt.title(\"Top 10 Inefficient Users by VRAM-Hours\")\n",
    "# Annotate bars with gpu_hours, keeping text fully inside the plot's right spine\n",
    "ax = barplot\n",
    "xmax = top_users[\"vram_hours\"].max()\n",
    "# Add headroom for annotation space (20% extra)\n",
    "xlim = xmax * 1.6 if xmax > 0 else 1\n",
    "ax.set_xlim(0, xlim)\n",
    "# Calculate annotation x-position: place at 98% of xlim or just left of the right spine, whichever is smaller\n",
    "for i, (vram_hours, user_job_hours) in enumerate(\n",
    "    zip(\n",
    "        top_users[\"vram_hours\"],\n",
    "        top_users[\"user_job_hours\"],\n",
    "        strict=True,\n",
    "    )\n",
    "):\n",
    "    # Place annotation at min(vram_hours + 2% of xlim, 98% of xlim)\n",
    "    xpos = min(vram_hours + xlim * 0.02, xlim * 0.98)\n",
    "    ax.text(\n",
    "        xpos,\n",
    "        i,\n",
    "        f\"VRAM-Hours: {vram_hours:.2f}\\n Job Hours: {user_job_hours:.2f}\",\n",
    "        va=\"center\",\n",
    "        ha=\"left\",\n",
    "        fontsize=10,\n",
    "        color=\"black\",\n",
    "        clip_on=True\n",
    "    )\n",
    "plt.tight_layout()\n",
    "plt.show()"
   ]
  },
  {
   "cell_type": "markdown",
   "id": "23",
   "metadata": {},
   "source": [
    "### <a id='toc1_2_3_'></a>[PI Group Efficiency Metrics](#toc0_)"
   ]
  },
  {
   "cell_type": "code",
   "execution_count": null,
   "id": "24",
   "metadata": {},
   "outputs": [],
   "source": [
    "pi_accounts_with_metrics"
   ]
  },
  {
   "cell_type": "markdown",
   "id": "25",
   "metadata": {},
   "source": [
    "#### <a id='toc1_2_3_1_'></a>[Find Inefficient PIs based on `vram_hours`](#toc0_)"
   ]
  },
  {
   "cell_type": "code",
   "execution_count": null,
   "id": "26",
   "metadata": {},
   "outputs": [],
   "source": [
    "inefficient_pis_vram_hours = efficiency_analysis.sort_and_filter_records_with_metrics(\n",
    "    metrics_df_name_enum=ea.MetricsDataFrameNameEnum.PI_GROUPS,\n",
    "    sorting_key=\"pi_acc_vram_hours\",\n",
    "    ascending=False,\n",
    "    filter_criteria={\n",
    "        \"pi_acc_vram_hours\": {\"min\": 200, \"inclusive\": True},  # VRAM-hours threshold for identifying inefficient users\n",
    "        \"job_count\": {\"min\": 5, \"inclusive\": True},  # Minimum number of jobs to consider a PI account\n",
    "    }\n",
    ")\n",
    "# Display top inefficient users by VRAM-hours\n",
    "print(\"\\nTop inefficient PI Groups by VRAM-hours:\")\n",
    "display(inefficient_pis_vram_hours.head(20))\n",
    "\n",
    "top_pi_accounts = inefficient_pis_vram_hours.head(20)\n",
    "\n",
    "# Plot top inefficient users by VRAM-hours, with VRAM-hours as labels\n",
    "plt.figure(figsize=(8, 8))\n",
    "barplot = sns.barplot(\n",
    "    y=top_pi_accounts[\"pi_account\"],\n",
    "    x=top_pi_accounts[\"pi_acc_vram_hours\"],\n",
    "    order=top_pi_accounts[\"pi_account\"].tolist(),  # Only show present values\n",
    "    orient=\"h\"\n",
    ")\n",
    "plt.xlabel(\"VRAM-Hours\")\n",
    "plt.ylabel(\"PI Account\")\n",
    "plt.title(\"Top Inefficient PI Accounts by VRAM-Hours\")\n",
    "# Annotate bars with gpu_hours, keeping text fully inside the plot's right spine\n",
    "ax = barplot\n",
    "xmax = top_pi_accounts[\"pi_acc_vram_hours\"].max()\n",
    "# Add headroom for annotation space (20% extra)\n",
    "xlim = xmax * 1.6 if xmax > 0 else 1\n",
    "ax.set_xlim(0, xlim)\n",
    "# Calculate annotation x-position: place at 98% of xlim or just left of the right spine, whichever is smaller\n",
    "for i, (vram_hours, pi_acc_job_hours) in enumerate(\n",
    "    zip(\n",
    "        top_pi_accounts[\"pi_acc_vram_hours\"],\n",
    "        top_pi_accounts[\"pi_acc_job_hours\"],\n",
    "        strict=True,\n",
    "    )\n",
    "):\n",
    "    # Place annotation at min(vram_hours + 2% of xlim, 98% of xlim)\n",
    "    xpos = min(vram_hours + xlim * 0.02, xlim * 0.98)\n",
    "    ax.text(\n",
    "        xpos,\n",
    "        i,\n",
    "        f\"VRAM-Hours: {vram_hours:.2f}\\n Job Hours: {pi_acc_job_hours:.2f}\",\n",
    "        va=\"center\",\n",
    "        ha=\"left\",\n",
    "        fontsize=10,\n",
    "        color=\"black\",\n",
    "        clip_on=True\n",
    "    )\n",
    "plt.tight_layout()\n",
    "plt.show()"
   ]
  },
  {
   "cell_type": "markdown",
   "id": "27",
   "metadata": {},
   "source": [
    "## <a id='toc1_3_'></a>[Example: Analyze all jobs with no VRAM constraints](#toc0_)"
   ]
  },
  {
   "cell_type": "code",
   "execution_count": null,
   "id": "28",
   "metadata": {},
   "outputs": [],
   "source": [
    "# Filter jobs where no VRAM constraint was set but a GPU was allocated\n",
    "no_vram_constraint_efficiency_analysis = ea.EfficiencyAnalysis(\n",
    "\tjobs_df=preprocessed_jobs_df\n",
    ")\n",
    "all_no_vram_constraint_jobs = no_vram_constraint_efficiency_analysis.filter_jobs_for_analysis(\n",
    "    vram_constraint_filter={\"min\": 0, \"inclusive\": False},  # No VRAM constraints\n",
    "    gpu_count_filter={\"min\": 1, \"inclusive\": True},  # At least one GPU allocated\n",
    "    gpu_mem_usage_filter={\"min\": 0, \"inclusive\": False}  # Used more than 0 GiB of VRAM\n",
    ")\n",
    "\n",
    "display(all_no_vram_constraint_jobs.head(10))\n",
    "print(all_no_vram_constraint_jobs.shape)"
   ]
  },
  {
   "cell_type": "markdown",
   "id": "29",
   "metadata": {},
   "source": [
    "### <a id='toc1_3_1_'></a>[Job Efficiency Metrics](#toc0_)"
   ]
  },
  {
   "cell_type": "code",
   "execution_count": null,
   "id": "30",
   "metadata": {},
   "outputs": [],
   "source": [
    "no_vram_constraint_jobs_with_metrics = no_vram_constraint_efficiency_analysis.calculate_job_efficiency_metrics(\n",
    "    all_no_vram_constraint_jobs\n",
    "    )\n",
    "\n",
    "# Set option to display all columns\n",
    "pd.set_option('display.max_columns', None)\n",
    "# Display the DataFrame\n",
    "display(no_vram_constraint_jobs_with_metrics.head(10))\n",
    "# To revert to default settings (optional)\n",
    "pd.reset_option('display.max_columns')\n",
    "print(f\"Jobs found: {len(no_vram_constraint_jobs_with_metrics)}\")"
   ]
  },
  {
   "cell_type": "markdown",
   "id": "31",
   "metadata": {},
   "source": [
    "#### <a id='toc1_3_1_1_'></a>[Problem with duplicate JobIDs](#toc0_)"
   ]
  },
  {
   "cell_type": "code",
   "execution_count": null,
   "id": "32",
   "metadata": {},
   "outputs": [],
   "source": [
    "# select jobs with specific job id\n",
    "pd.set_option('display.max_columns', None)\n",
    "# Display the DataFrame\n",
    "display(no_vram_constraint_jobs_with_metrics[no_vram_constraint_jobs_with_metrics[\"JobID\"] == 24374463])\n",
    "pd.reset_option('display.max_columns')"
   ]
  },
  {
   "cell_type": "markdown",
   "id": "33",
   "metadata": {},
   "source": [
    "#### <a id='toc1_3_1_2_'></a>[Top users with most number of jobs that have no VRAM constraints](#toc0_)"
   ]
  },
  {
   "cell_type": "code",
   "execution_count": null,
   "id": "34",
   "metadata": {},
   "outputs": [],
   "source": [
    "# Plot top users by number of jobs with no VRAM constraints\n",
    "if not all_no_vram_constraint_jobs.empty:\n",
    "    plt.figure(figsize=(10, 5))\n",
    "    user_counts = all_no_vram_constraint_jobs[\"User\"].value_counts().head(20)\n",
    "    sns.barplot(x=user_counts.values, y=user_counts.index, orient=\"h\")\n",
    "    plt.xlabel(\"Number of Jobs\")\n",
    "    plt.ylabel(\"User\")\n",
    "    plt.title(\"Top 20 Users: Jobs with no VRAM Constraints\")\n",
    "    plt.tight_layout()\n",
    "    plt.show()\n",
    "else:\n",
    "    print(\"No jobs found without VRAM constraints.\")"
   ]
  },
  {
   "cell_type": "markdown",
   "id": "35",
   "metadata": {},
   "source": [
    "#### <a id='toc1_3_1_3_'></a>[Find inefficient jobs with no VRAM Constraints based on `alloc_vram_efficiency_score`](#toc0_)"
   ]
  },
  {
   "cell_type": "code",
   "execution_count": null,
   "id": "36",
   "metadata": {},
   "outputs": [],
   "source": [
    "low_alloc_vram_score_jobs = no_vram_constraint_efficiency_analysis.sort_and_filter_records_with_metrics(\n",
    "    metrics_df_name_enum=ea.MetricsDataFrameNameEnum.JOBS,\n",
    "    sorting_key=\"alloc_vram_efficiency_score\",\n",
    "    ascending=True,  # Sort by alloc_vram_efficiency_score in ascending order\n",
    "    filter_criteria={\n",
    "        \"alloc_vram_efficiency_score\": {\"max\": -10, \"inclusive\": True},  # score threshold\n",
    "    }\n",
    ")\n",
    "# Display top inefficient users by alloc_vram_efficiency_score\n",
    "print(\"\\nTop inefficient Jobs by allocated VRAM efficiency score:\")\n",
    "\n",
    "top_jobs = low_alloc_vram_score_jobs.head(20)\n",
    "display(top_jobs)\n",
    "\n",
    "# Plot top inefficient jobs by alloc_vram_efficiency_score\n",
    "plt.figure(figsize=(10, 12))\n",
    "\n",
    "# Create y-tick labels with JobID and User\n",
    "yticklabels = [\n",
    "    f\"idx: {idx}\\nID: {job_id}\\n{user}\"\n",
    "    for idx, job_id, user in zip(\n",
    "        top_jobs.index,\n",
    "        top_jobs[\"JobID\"],\n",
    "        top_jobs[\"User\"],\n",
    "        strict=True\n",
    "    )\n",
    "]\n",
    "\n",
    "xmin = top_jobs[\"alloc_vram_efficiency_score\"].min()\n",
    "print(f\"Minimum Allocated VRAM Efficiency Score: {xmin}\")\n",
    "\n",
    "x = pd.Series([abs(xmin)] * len(top_jobs), index=top_jobs.index) - abs(top_jobs[\"alloc_vram_efficiency_score\"])\n",
    "\n",
    "# Build a DataFrame for plotting\n",
    "plot_df = pd.DataFrame({\n",
    "    \"allocated_vram_efficiency_score_column_height\": x.to_numpy(),\n",
    "    # \"Job Id\": top_jobs[\"JobID\"],\n",
    "    \"job_hours\": top_jobs[\"job_hours\"],\n",
    "    \"job_index_and_username\": yticklabels\n",
    "}, index=top_jobs.index)\n",
    "\n",
    "# Ensure the order is preserved as in x and yticklabels\n",
    "plot_df = plot_df.iloc[:20]\n",
    "\n",
    "barplot = sns.barplot(\n",
    "    data=plot_df,\n",
    "    y=\"job_index_and_username\",\n",
    "    x=\"allocated_vram_efficiency_score_column_height\",\n",
    "    orient=\"h\",\n",
    ")\n",
    "\n",
    "plt.xlabel(\"Allocated VRAM Efficiency Score\")\n",
    "plt.ylabel(\"Job Index / User\")\n",
    "plt.title(\"Top Inefficient Jobs by Allocated VRAM Efficiency Score\")\n",
    "\n",
    "ax = barplot\n",
    "ax.set_xlim(0, abs(xmin) * 1.2 if xmin < 0 else 1)\n",
    "# Set x-ticks to actual alloc_vram_efficiency_score values\n",
    "num_xticks = max(4, min(12, int(abs(xmin) // (xlim * 0.10)) + 1))\n",
    "xticks = np.linspace(xmin, 0, num=num_xticks)\n",
    "ax.set_xticks([abs(xmin) - abs(val) for val in xticks])\n",
    "ax.set_xticklabels([f\"{val:.0f}\" for val in xticks], rotation=45)\n",
    "\n",
    "for i, (column_height, alloc_vram_efficiency_score, job_hours) in enumerate(\n",
    "    zip(\n",
    "        plot_df[\"allocated_vram_efficiency_score_column_height\"],\n",
    "        top_jobs[\"alloc_vram_efficiency_score\"],\n",
    "        plot_df[\"job_hours\"],\n",
    "        strict=True)\n",
    "):\n",
    "    # Place annotation just right of the bar end, but inside the plot\n",
    "    xpos = column_height + abs(xmin) * 0.02\n",
    "    ax.text(\n",
    "        xpos,\n",
    "        i,\n",
    "        f\"Score: {alloc_vram_efficiency_score:.2f}\\nJob Hours: {job_hours:.2f}\",\n",
    "        va=\"center\",\n",
    "        ha=\"left\",\n",
    "        fontsize=10,\n",
    "        color=\"black\",\n",
    "        clip_on=True\n",
    "    )\n",
    "\n",
    "plt.tight_layout()\n",
    "plt.show()\n"
   ]
  }
 ],
 "metadata": {
  "language_info": {
   "name": "python"
  }
 },
 "nbformat": 4,
 "nbformat_minor": 5
}
