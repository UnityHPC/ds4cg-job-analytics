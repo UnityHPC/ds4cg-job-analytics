{
 "cells": [
  {
   "cell_type": "markdown",
   "id": "d5c78d30",
   "metadata": {},
   "source": [
    "# <a id='toc1_'></a>[Efficiency Analysis](#toc0_)\n",
    "This notebook demonstrates the use of `EfficiencyAnalysis` class in `src/analysis/vram_usage.py` for analyzing the efficiency of jobs, users, and PI groups."
   ]
  },
  {
   "cell_type": "markdown",
   "id": "e9710fb4",
   "metadata": {},
   "source": [
    "**Table of contents**<a id='toc0_'></a>    \n",
    "- [Efficiency Analysis](#toc1_)    \n",
    "  - [Setup](#toc1_1_)    \n",
    "  - [Example: Analyze workload efficiency of GPU users who set no VRAM constraints and used 0 GB of VRAM](#toc1_2_)    \n",
    "    - [User efficiency metrics](#toc1_2_1_)    \n",
    "      - [Find Inefficient Users based on alloc_vram_efficiency](#toc1_2_1_1_)    \n",
    "      - [Find Inefficient Users based on vram_hours](#toc1_2_1_2_)    \n",
    "    - [PI group metrics](#toc1_2_2_)    \n",
    "      - [Find inefficient PIs](#toc1_2_2_1_)    \n",
    "  - [Example: Analyze all jobs with no VRAM constraints](#toc1_3_)    \n",
    "\n",
    "<!-- vscode-jupyter-toc-config\n",
    "\tnumbering=false\n",
    "\tanchor=true\n",
    "\tflat=false\n",
    "\tminLevel=1\n",
    "\tmaxLevel=6\n",
    "\t/vscode-jupyter-toc-config -->\n",
    "<!-- THIS CELL WILL BE REPLACED ON TOC UPDATE. DO NOT WRITE YOUR TEXT IN THIS CELL -->"
   ]
  },
  {
   "cell_type": "markdown",
   "id": "ffa87b37",
   "metadata": {},
   "source": [
    "## <a id='toc1_1_'></a>[Setup](#toc0_)"
   ]
  },
  {
   "cell_type": "code",
   "execution_count": null,
   "id": "474cfe7a",
   "metadata": {},
   "outputs": [],
   "source": [
    "# Import required modules\n",
    "import sys\n",
    "from pathlib import Path\n",
    "import pandas as pd"
   ]
  },
  {
   "cell_type": "markdown",
   "id": "b9fd2d9f",
   "metadata": {},
   "source": [
    "Jupyter server should be run at the notebook directory, so the output of the following cell would be the project root:"
   ]
  },
  {
   "cell_type": "code",
   "execution_count": null,
   "id": "f4cc3afe",
   "metadata": {},
   "outputs": [],
   "source": [
    "project_root = str(Path.cwd().resolve().parent)\n",
    "print(f\"Project root: {project_root}\")"
   ]
  },
  {
   "cell_type": "code",
   "execution_count": null,
   "id": "d4f486b7",
   "metadata": {},
   "outputs": [],
   "source": [
    "# Add project root to sys.path for module imports\n",
    "if project_root not in sys.path:\n",
    "    sys.path.insert(0, project_root)\n",
    "\n",
    "from src.analysis import vram_usage\n",
    "\n",
    "# Automatically reload modules before executing code\n",
    "# This is useful for development to see changes without restarting the kernel.\n",
    "%load_ext autoreload\n",
    "# Reload all modules imported with %aimport every time before executing the Python code typed.\n",
    "%autoreload 1\n",
    "%aimport src.analysis.vram_usage, src.preprocess.preprocess, src.config.enum_constants"
   ]
  },
  {
   "cell_type": "code",
   "execution_count": null,
   "id": "82339fb7",
   "metadata": {},
   "outputs": [],
   "source": [
    "# Load the jobs DataFrame from DuckDB\n",
    "\n",
    "efficiency_analysis = vram_usage.EfficiencyAnalysis(\n",
    "\tdb_path='../data/slurm_data.db',\n",
    ")\n",
    "\n",
    "display(efficiency_analysis.jobs_df.head(10))\n",
    "print(efficiency_analysis.jobs_df.shape)"
   ]
  },
  {
   "cell_type": "markdown",
   "id": "3aaff640",
   "metadata": {},
   "source": [
    "## <a id='toc1_2_'></a>[Example: Analyze workload efficiency of GPU users who set no VRAM constraints and used 0 GB of VRAM](#toc0_)\n"
   ]
  },
  {
   "cell_type": "code",
   "execution_count": null,
   "id": "9161500e",
   "metadata": {},
   "outputs": [],
   "source": [
    "# Analyze workload efficiency of GPU users with no VRAM constraints who used 0 GB of VRAM\n",
    "filtered_jobs = efficiency_analysis.filter_jobs_for_analysis(\n",
    "    vram_constraint_filter=pd.NA,  # No VRAM constraints\n",
    "    gpu_mem_usage_filter=0,  # Used 0 GB of VRAM\n",
    ")\n",
    "\n",
    "metrics_dict = efficiency_analysis.calculate_all_efficiency_metrics(filtered_jobs)\n",
    "\n",
    "\n",
    "jobs_with_metrics = metrics_dict['jobs_with_efficiency_metrics']\n",
    "users_with_metrics = metrics_dict['users_with_efficiency_metrics']\n",
    "pi_accounts_with_metrics = metrics_dict['pi_accounts_with_efficiency_metrics']\n",
    "\n",
    "# Set option to display all columns\n",
    "pd.set_option('display.max_columns', None)\n",
    "# Display the DataFrame\n",
    "display(jobs_with_metrics.head(10))\n",
    "# To revert to default settings (optional)\n",
    "pd.reset_option('display.max_columns')\n",
    "print(f\"Jobs found: {len(jobs_with_metrics)}\")"
   ]
  },
  {
   "cell_type": "markdown",
   "id": "ff63f8e3",
   "metadata": {},
   "source": [
    "### <a id='toc1_2_1_'></a>[User efficiency metrics](#toc0_)"
   ]
  },
  {
   "cell_type": "code",
   "execution_count": null,
   "id": "cb5782f0",
   "metadata": {},
   "outputs": [],
   "source": [
    "users_with_metrics"
   ]
  },
  {
   "cell_type": "markdown",
   "id": "bbca2c66",
   "metadata": {},
   "source": [
    "#### <a id='toc1_2_1_1_'></a>[Find Inefficient Users based on alloc_vram_efficiency](#toc0_)"
   ]
  },
  {
   "cell_type": "code",
   "execution_count": null,
   "id": "e13aa509",
   "metadata": {},
   "outputs": [],
   "source": [
    "import matplotlib.pyplot as plt\n",
    "import seaborn as sns\n",
    "\n",
    "inefficient_users = efficiency_analysis.find_inefficient_users_by_alloc_vram_efficiency(\n",
    "    alloc_vram_efficiency_filter={\"max\": 0.3, \"inclusive\": True},  # criteria for identifying inefficient users\n",
    "    min_jobs=5,  # Minimum number of jobs to consider a user\n",
    ")\n",
    "\n",
    "# Display top inefficient users by job count\n",
    "print(\"\\nTop inefficient users by allocated vram efficiency:\")\n",
    "display(inefficient_users.head(10))\n",
    "\n",
    "\n",
    "\n",
    "# Plot top inefficient users by GPU hours, with efficiency as labels\n",
    "top_users = inefficient_users.head(10)\n",
    "\n",
    "plt.figure(figsize=(8, 5))\n",
    "barplot = sns.barplot(\n",
    "    y=top_users[\"User\"],\n",
    "    x=top_users[\"user_job_hours\"],\n",
    "    orient=\"h\"\n",
    ")\n",
    "plt.xlabel(\"Job Hours\")\n",
    "plt.ylabel(\"User\")\n",
    "plt.title(\"Top 10 Inefficient Users by Allocated VRAM Efficiency Contribution\")\n",
    "\n",
    "# Annotate bars with expected_value_alloc_vram_efficiency, keeping text fully inside the plot's right spine\n",
    "ax = barplot\n",
    "xmax = top_users[\"user_job_hours\"].max()\n",
    "# Add headroom for annotation space (20% extra)\n",
    "xlim = xmax * 1.20 if xmax > 0 else 1\n",
    "ax.set_xlim(0, xlim)\n",
    "\n",
    "# Calculate annotation x-position: place at 98% of xlim or just left of the right spine, whichever is smaller\n",
    "for i, (job_hours, efficiency) in enumerate(\n",
    "    zip(\n",
    "        top_users[\"user_job_hours\"],\n",
    "        top_users[\"expected_value_alloc_vram_efficiency\"],\n",
    "        strict=True,\n",
    "    )\n",
    "):\n",
    "    # Place annotation at min(job_hours + 2% of xlim, 98% of xlim)\n",
    "    xpos = min(job_hours + xlim * 0.02, xlim * 0.98)\n",
    "    # If bar is very close to right spine, nudge annotation left to avoid overlap\n",
    "    if xpos > xlim * 0.96:\n",
    "        xpos = xlim * 0.96\n",
    "    ax.text(\n",
    "        xpos,\n",
    "        i,\n",
    "        f\"Eff: {efficiency:.2f}\",\n",
    "        va=\"center\",\n",
    "        ha=\"left\",\n",
    "        fontsize=10,\n",
    "        color=\"black\",\n",
    "        clip_on=True\n",
    "    )\n",
    "\n",
    "plt.tight_layout()\n",
    "plt.show()"
   ]
  },
  {
   "cell_type": "markdown",
   "id": "4d69de45",
   "metadata": {},
   "source": [
    "#### <a id='toc1_2_1_2_'></a>[Find Inefficient Users based on vram_hours](#toc0_)"
   ]
  },
  {
   "cell_type": "code",
   "execution_count": null,
   "id": "2f65e9bd",
   "metadata": {},
   "outputs": [],
   "source": [
    "inefficient_users_vram_hours = efficiency_analysis.find_inefficient_users_by_vram_hours(\n",
    "    vram_hours_filter={\"min\": 200, \"inclusive\": True},  # VRAM-hours threshold for identifying inefficient users\n",
    "    min_jobs=5,  # Minimum number of jobs to consider a user\n",
    ")\n",
    "# Display top inefficient users by VRAM-hours\n",
    "print(\"\\nTop inefficient users by VRAM-hours:\")\n",
    "display(inefficient_users_vram_hours.head(20))\n",
    "\n",
    "top_users = inefficient_users_vram_hours.head(20)\n",
    "\n",
    "# Plot top inefficient users by VRAM-hours, with VRAM-hours as labels\n",
    "plt.figure(figsize=(8, 8))\n",
    "barplot = sns.barplot(\n",
    "    y=top_users[\"User\"],\n",
    "    x=top_users[\"vram_hours\"],\n",
    "    orient=\"h\"\n",
    ")\n",
    "plt.xlabel(\"VRAM-Hours\")\n",
    "plt.ylabel(\"User\")\n",
    "plt.title(\"Top 10 Inefficient Users by VRAM-Hours\")\n",
    "# Annotate bars with gpu_hours, keeping text fully inside the plot's right spine\n",
    "ax = barplot\n",
    "xmax = top_users[\"vram_hours\"].max()\n",
    "# Add headroom for annotation space (20% extra)\n",
    "xlim = xmax * 1.6 if xmax > 0 else 1\n",
    "ax.set_xlim(0, xlim)\n",
    "# Calculate annotation x-position: place at 98% of xlim or just left of the right spine, whichever is smaller\n",
    "for i, (vram_hours, user_job_hours) in enumerate(\n",
    "    zip(\n",
    "        top_users[\"vram_hours\"],\n",
    "        top_users[\"user_job_hours\"],\n",
    "        strict=True,\n",
    "    )\n",
    "):\n",
    "    # Place annotation at min(vram_hours + 2% of xlim, 98% of xlim)\n",
    "    xpos = min(vram_hours + xlim * 0.02, xlim * 0.98)\n",
    "    ax.text(\n",
    "        xpos,\n",
    "        i,\n",
    "        f\"VRAM-Hours: {vram_hours:.2f}\\n Job Hours: {user_job_hours:.2f}\",\n",
    "        va=\"center\",\n",
    "        ha=\"left\",\n",
    "        fontsize=10,\n",
    "        color=\"black\",\n",
    "        clip_on=True\n",
    "    )\n",
    "plt.tight_layout()\n",
    "plt.show()"
   ]
  },
  {
   "cell_type": "markdown",
   "id": "80198235",
   "metadata": {},
   "source": [
    "### <a id='toc1_2_2_'></a>[PI group metrics](#toc0_)"
   ]
  },
  {
   "cell_type": "code",
   "execution_count": null,
   "id": "67dbee71",
   "metadata": {},
   "outputs": [],
   "source": [
    "pi_accounts_with_metrics"
   ]
  },
  {
   "cell_type": "markdown",
   "id": "25561aa6",
   "metadata": {},
   "source": [
    "#### <a id='toc1_2_2_1_'></a>[Find inefficient PIs](#toc0_)"
   ]
  },
  {
   "cell_type": "code",
   "execution_count": null,
   "id": "e599334a",
   "metadata": {},
   "outputs": [],
   "source": [
    "inefficient_pi_vram_hours = efficiency_analysis.find_inefficient_pis_by_vram_hours(\n",
    "    vram_hours_filter={\"min\": 200, \"inclusive\": True},  # VRAM-hours threshold for identifying inefficient users\n",
    "    min_jobs=5,  # Minimum number of jobs to consider a user\n",
    ")\n",
    "# Display top inefficient users by VRAM-hours\n",
    "print(\"\\nTop inefficient PI Groups by VRAM-hours:\")\n",
    "display(inefficient_pi_vram_hours.head(20))\n",
    "\n",
    "top_pi_accounts = inefficient_pi_vram_hours.head(20)\n",
    "\n",
    "# Plot top inefficient users by VRAM-hours, with VRAM-hours as labels\n",
    "plt.figure(figsize=(8, 8))\n",
    "barplot = sns.barplot(\n",
    "    y=top_pi_accounts[\"pi_account\"],\n",
    "    x=top_pi_accounts[\"pi_acc_vram_hours\"],\n",
    "    order=top_pi_accounts[\"pi_account\"].tolist(),  # Only show present values\n",
    "    orient=\"h\"\n",
    ")\n",
    "plt.xlabel(\"VRAM-Hours\")\n",
    "plt.ylabel(\"PI Account\")\n",
    "plt.title(\"Top Inefficient PI Accounts by VRAM-Hours\")\n",
    "# Annotate bars with gpu_hours, keeping text fully inside the plot's right spine\n",
    "ax = barplot\n",
    "xmax = top_pi_accounts[\"pi_acc_vram_hours\"].max()\n",
    "# Add headroom for annotation space (20% extra)\n",
    "xlim = xmax * 1.6 if xmax > 0 else 1\n",
    "ax.set_xlim(0, xlim)\n",
    "# Calculate annotation x-position: place at 98% of xlim or just left of the right spine, whichever is smaller\n",
    "for i, (vram_hours, pi_acc_job_hours) in enumerate(\n",
    "    zip(\n",
    "        top_pi_accounts[\"pi_acc_vram_hours\"],\n",
    "        top_pi_accounts[\"pi_acc_job_hours\"],\n",
    "        strict=True,\n",
    "    )\n",
    "):\n",
    "    # Place annotation at min(vram_hours + 2% of xlim, 98% of xlim)\n",
    "    xpos = min(vram_hours + xlim * 0.02, xlim * 0.98)\n",
    "    ax.text(\n",
    "        xpos,\n",
    "        i,\n",
    "        f\"VRAM-Hours: {vram_hours:.2f}\\n Job Hours: {pi_acc_job_hours:.2f}\",\n",
    "        va=\"center\",\n",
    "        ha=\"left\",\n",
    "        fontsize=10,\n",
    "        color=\"black\",\n",
    "        clip_on=True\n",
    "    )\n",
    "plt.tight_layout()\n",
    "plt.show()"
   ]
  },
  {
   "cell_type": "markdown",
   "id": "32ea5ef7",
   "metadata": {},
   "source": [
    "## <a id='toc1_3_'></a>[Example: Analyze all jobs with no VRAM constraints](#toc0_)"
   ]
  },
  {
   "cell_type": "code",
   "execution_count": null,
   "id": "54827579",
   "metadata": {},
   "outputs": [],
   "source": [
    "# Filter jobs where no VRAM constraint was set but a GPU was allocated\n",
    "\n",
    "filtered_jobs = efficiency_analysis.filter_jobs_for_analysis(\n",
    "    vram_constraint_filter={\"min\": 0, \"inclusive\": False},  # No VRAM constraints\n",
    "    gpu_count_filter={\"min\": 1, \"inclusive\": True}  # At least one GPU allocated\n",
    ")\n",
    "\n",
    "jobs_with_metrics = efficiency_analysis.calculate_job_efficiency_metrics(filtered_jobs)\n",
    "\n",
    "# Set option to display all columns\n",
    "pd.set_option('display.max_columns', None)\n",
    "# Display the DataFrame\n",
    "display(jobs_with_metrics.head(10))\n",
    "# To revert to default settings (optional)\n",
    "pd.reset_option('display.max_columns')\n",
    "print(f\"Jobs found: {len(jobs_with_metrics)}\")"
   ]
  },
  {
   "cell_type": "code",
   "execution_count": null,
   "id": "3177fbe3",
   "metadata": {},
   "outputs": [],
   "source": [
    "# Plot top users by number of jobs with no VRAM constraints\n",
    "if not filtered_jobs.empty:\n",
    "    plt.figure(figsize=(10, 5))\n",
    "    user_counts = filtered_jobs[\"User\"].value_counts().head(20)\n",
    "    sns.barplot(x=user_counts.values, y=user_counts.index, orient=\"h\")\n",
    "    plt.xlabel(\"Number of Jobs\")\n",
    "    plt.ylabel(\"User\")\n",
    "    plt.title(\"Top 20 Users: Jobs with no VRAM Constraints\")\n",
    "    plt.tight_layout()\n",
    "    plt.show()\n",
    "else:\n",
    "    print(\"No jobs found without VRAM constraints.\")"
   ]
  }
 ],
 "metadata": {
  "language_info": {
   "name": "python"
  }
 },
 "nbformat": 4,
 "nbformat_minor": 5
}
